{
 "cells": [
  {
   "cell_type": "markdown",
   "id": "d46e26d4",
   "metadata": {},
   "source": [
    "# 100 numpy exercises\n",
    "\n",
    "This is a collection of exercises that have been collected in the numpy mailing list, on stack overflow\n",
    "and in the numpy documentation. The goal of this collection is to offer a quick reference for both old\n",
    "and new users but also to provide a set of exercises for those who teach.\n",
    "\n",
    "\n",
    "If you find an error or think you've a better way to solve some of them, feel\n",
    "free to open an issue at <https://github.com/rougier/numpy-100>."
   ]
  },
  {
   "cell_type": "markdown",
   "id": "1ce7c53f",
   "metadata": {},
   "source": [
    "Run the `initialize.py` module, then for each question you can query the\n",
    "answer or an hint with `hint(n)` or `answer(n)` for `n` question number."
   ]
  },
  {
   "cell_type": "markdown",
   "id": "dcc6b1ac",
   "metadata": {},
   "source": [
    "#### 1. Import the numpy package under the name `np` (★☆☆)"
   ]
  },
  {
   "cell_type": "code",
   "execution_count": 429,
   "id": "8b6f0899-3184-498b-ac9f-75347f7b44f1",
   "metadata": {},
   "outputs": [],
   "source": [
    "import numpy as np"
   ]
  },
  {
   "cell_type": "markdown",
   "id": "118ded29",
   "metadata": {},
   "source": [
    "#### 2. Print the numpy version and the configuration (★☆☆)"
   ]
  },
  {
   "cell_type": "code",
   "execution_count": 430,
   "id": "023a2c52",
   "metadata": {},
   "outputs": [
    {
     "name": "stdout",
     "output_type": "stream",
     "text": [
      "NumPy Version: 1.26.4\n",
      "Build Dependencies:\n",
      "  blas:\n",
      "    detection method: pkgconfig\n",
      "    found: true\n",
      "    include directory: /c/opt/64/include\n",
      "    lib directory: /c/opt/64/lib\n",
      "    name: openblas64\n",
      "    openblas configuration: USE_64BITINT=1 DYNAMIC_ARCH=1 DYNAMIC_OLDER= NO_CBLAS=\n",
      "      NO_LAPACK= NO_LAPACKE= NO_AFFINITY=1 USE_OPENMP= SKYLAKEX MAX_THREADS=2\n",
      "    pc file directory: C:/opt/64/lib/pkgconfig\n",
      "    version: 0.3.23.dev\n",
      "  lapack:\n",
      "    detection method: internal\n",
      "    found: true\n",
      "    include directory: unknown\n",
      "    lib directory: unknown\n",
      "    name: dep3179274605568\n",
      "    openblas configuration: unknown\n",
      "    pc file directory: unknown\n",
      "    version: 1.26.4\n",
      "Compilers:\n",
      "  c:\n",
      "    commands: cl\n",
      "    linker: link\n",
      "    name: msvc\n",
      "    version: 19.29.30153\n",
      "  c++:\n",
      "    commands: cl\n",
      "    linker: link\n",
      "    name: msvc\n",
      "    version: 19.29.30153\n",
      "  cython:\n",
      "    commands: cython\n",
      "    linker: cython\n",
      "    name: cython\n",
      "    version: 3.0.8\n",
      "Machine Information:\n",
      "  build:\n",
      "    cpu: x86_64\n",
      "    endian: little\n",
      "    family: x86_64\n",
      "    system: windows\n",
      "  host:\n",
      "    cpu: x86_64\n",
      "    endian: little\n",
      "    family: x86_64\n",
      "    system: windows\n",
      "Python Information:\n",
      "  path: C:\\Users\\runneradmin\\AppData\\Local\\Temp\\cibw-run-g7slqwov\\cp312-win_amd64\\build\\venv\\Scripts\\python.exe\n",
      "  version: '3.12'\n",
      "SIMD Extensions:\n",
      "  baseline:\n",
      "  - SSE\n",
      "  - SSE2\n",
      "  - SSE3\n",
      "  found:\n",
      "  - SSSE3\n",
      "  - SSE41\n",
      "  - POPCNT\n",
      "  - SSE42\n",
      "  - AVX\n",
      "  - F16C\n",
      "  - FMA3\n",
      "  - AVX2\n",
      "  not found:\n",
      "  - AVX512F\n",
      "  - AVX512CD\n",
      "  - AVX512_SKX\n",
      "  - AVX512_CLX\n",
      "  - AVX512_CNL\n",
      "  - AVX512_ICL\n",
      "\n"
     ]
    }
   ],
   "source": [
    "print(\"NumPy Version:\", np.__version__)\n",
    "np.show_config()"
   ]
  },
  {
   "cell_type": "markdown",
   "id": "172b913a",
   "metadata": {},
   "source": [
    "#### 3. Create a null vector of size 10 (★☆☆)"
   ]
  },
  {
   "cell_type": "code",
   "execution_count": 431,
   "id": "df54025a",
   "metadata": {},
   "outputs": [
    {
     "name": "stdout",
     "output_type": "stream",
     "text": [
      "[0. 0. 0. 0. 0. 0. 0. 0. 0. 0.]\n"
     ]
    }
   ],
   "source": [
    "null_vector = np.zeros(10)\n",
    "print(null_vector)"
   ]
  },
  {
   "cell_type": "markdown",
   "id": "95ee9e07",
   "metadata": {},
   "source": [
    "#### 4. How to find the memory size of any array (★☆☆)"
   ]
  },
  {
   "cell_type": "code",
   "execution_count": 432,
   "id": "5c5b0950",
   "metadata": {},
   "outputs": [
    {
     "name": "stdout",
     "output_type": "stream",
     "text": [
      "Memory size (in bytes): 80\n",
      "Memory size (in bytes): 80\n"
     ]
    }
   ],
   "source": [
    "arr = np.zeros(10)\n",
    "print(\"Memory size (in bytes):\", arr.nbytes)\n",
    "print(\"Memory size (in bytes):\", arr.itemsize * arr.size)"
   ]
  },
  {
   "cell_type": "markdown",
   "id": "45fca154",
   "metadata": {},
   "source": [
    "#### 5. How to get the documentation of the numpy add function from the command line? (★☆☆)"
   ]
  },
  {
   "cell_type": "code",
   "execution_count": 433,
   "id": "fcb1248a",
   "metadata": {},
   "outputs": [
    {
     "name": "stdout",
     "output_type": "stream",
     "text": [
      "Help on ufunc:\n",
      "\n",
      "add = <ufunc 'add'>\n",
      "    add(x1, x2, /, out=None, *, where=True, casting='same_kind', order='K', dtype=None, subok=True[, signature, extobj])\n",
      "\n",
      "    Add arguments element-wise.\n",
      "\n",
      "    Parameters\n",
      "    ----------\n",
      "    x1, x2 : array_like\n",
      "        The arrays to be added.\n",
      "        If ``x1.shape != x2.shape``, they must be broadcastable to a common\n",
      "        shape (which becomes the shape of the output).\n",
      "    out : ndarray, None, or tuple of ndarray and None, optional\n",
      "        A location into which the result is stored. If provided, it must have\n",
      "        a shape that the inputs broadcast to. If not provided or None,\n",
      "        a freshly-allocated array is returned. A tuple (possible only as a\n",
      "        keyword argument) must have length equal to the number of outputs.\n",
      "    where : array_like, optional\n",
      "        This condition is broadcast over the input. At locations where the\n",
      "        condition is True, the `out` array will be set to the ufunc result.\n",
      "        Elsewhere, the `out` array will retain its original value.\n",
      "        Note that if an uninitialized `out` array is created via the default\n",
      "        ``out=None``, locations within it where the condition is False will\n",
      "        remain uninitialized.\n",
      "    **kwargs\n",
      "        For other keyword-only arguments, see the\n",
      "        :ref:`ufunc docs <ufuncs.kwargs>`.\n",
      "\n",
      "    Returns\n",
      "    -------\n",
      "    add : ndarray or scalar\n",
      "        The sum of `x1` and `x2`, element-wise.\n",
      "        This is a scalar if both `x1` and `x2` are scalars.\n",
      "\n",
      "    Notes\n",
      "    -----\n",
      "    Equivalent to `x1` + `x2` in terms of array broadcasting.\n",
      "\n",
      "    Examples\n",
      "    --------\n",
      "    >>> np.add(1.0, 4.0)\n",
      "    5.0\n",
      "    >>> x1 = np.arange(9.0).reshape((3, 3))\n",
      "    >>> x2 = np.arange(3.0)\n",
      "    >>> np.add(x1, x2)\n",
      "    array([[  0.,   2.,   4.],\n",
      "           [  3.,   5.,   7.],\n",
      "           [  6.,   8.,  10.]])\n",
      "\n",
      "    The ``+`` operator can be used as a shorthand for ``np.add`` on ndarrays.\n",
      "\n",
      "    >>> x1 = np.arange(9.0).reshape((3, 3))\n",
      "    >>> x2 = np.arange(3.0)\n",
      "    >>> x1 + x2\n",
      "    array([[ 0.,  2.,  4.],\n",
      "           [ 3.,  5.,  7.],\n",
      "           [ 6.,  8., 10.]])\n",
      "\n"
     ]
    }
   ],
   "source": [
    "help(np.add)"
   ]
  },
  {
   "cell_type": "markdown",
   "id": "674e8019",
   "metadata": {},
   "source": [
    "#### 6. Create a null vector of size 10 but the fifth value which is 1 (★☆☆)"
   ]
  },
  {
   "cell_type": "code",
   "execution_count": 434,
   "id": "452df2a7",
   "metadata": {},
   "outputs": [
    {
     "name": "stdout",
     "output_type": "stream",
     "text": [
      "[0. 0. 0. 0. 1. 0. 0. 0. 0. 0.]\n"
     ]
    }
   ],
   "source": [
    "arr = np.zeros(10)\n",
    "arr[4] = 1\n",
    "print(arr)"
   ]
  },
  {
   "cell_type": "markdown",
   "id": "7685e337",
   "metadata": {},
   "source": [
    "#### 7. Create a vector with values ranging from 10 to 49 (★☆☆)"
   ]
  },
  {
   "cell_type": "code",
   "execution_count": 435,
   "id": "10847d11",
   "metadata": {},
   "outputs": [
    {
     "name": "stdout",
     "output_type": "stream",
     "text": [
      "[10 11 12 13 14 15 16 17 18 19 20 21 22 23 24 25 26 27 28 29 30 31 32 33\n",
      " 34 35 36 37 38 39 40 41 42 43 44 45 46 47 48 49]\n"
     ]
    }
   ],
   "source": [
    "arr = np.arange(10, 50)\n",
    "print(arr)"
   ]
  },
  {
   "cell_type": "markdown",
   "id": "54c913ba",
   "metadata": {},
   "source": [
    "#### 8. Reverse a vector (first element becomes last) (★☆☆)"
   ]
  },
  {
   "cell_type": "code",
   "execution_count": 436,
   "id": "34722e83",
   "metadata": {},
   "outputs": [
    {
     "name": "stdout",
     "output_type": "stream",
     "text": [
      "[9 8 7 6 5 4 3 2 1 0]\n"
     ]
    }
   ],
   "source": [
    "arr = np.arange(10)  \n",
    "reversed_arr = arr[::-1]  \n",
    "print(reversed_arr)"
   ]
  },
  {
   "cell_type": "markdown",
   "id": "8e72fd08",
   "metadata": {},
   "source": [
    "#### 9. Create a 3x3 matrix with values ranging from 0 to 8 (★☆☆)"
   ]
  },
  {
   "cell_type": "code",
   "execution_count": 437,
   "id": "e18eef56",
   "metadata": {},
   "outputs": [
    {
     "name": "stdout",
     "output_type": "stream",
     "text": [
      "[[0 1 2]\n",
      " [3 4 5]\n",
      " [6 7 8]]\n"
     ]
    }
   ],
   "source": [
    "matrix = np.arange(9).reshape(3, 3)\n",
    "print(matrix)"
   ]
  },
  {
   "cell_type": "markdown",
   "id": "088424fc",
   "metadata": {},
   "source": [
    "#### 10. Find indices of non-zero elements from [1,2,0,0,4,0] (★☆☆)"
   ]
  },
  {
   "cell_type": "code",
   "execution_count": 438,
   "id": "9a402d06",
   "metadata": {},
   "outputs": [
    {
     "name": "stdout",
     "output_type": "stream",
     "text": [
      "(array([0, 1, 4], dtype=int64),)\n"
     ]
    }
   ],
   "source": [
    "arr = np.array([1, 2, 0, 0, 4, 0])\n",
    "indices = np.nonzero(arr)\n",
    "print(indices)"
   ]
  },
  {
   "cell_type": "markdown",
   "id": "3f347de9",
   "metadata": {},
   "source": [
    "#### 11. Create a 3x3 identity matrix (★☆☆)"
   ]
  },
  {
   "cell_type": "code",
   "execution_count": 439,
   "id": "e38459c2",
   "metadata": {},
   "outputs": [
    {
     "name": "stdout",
     "output_type": "stream",
     "text": [
      "[[1. 0. 0.]\n",
      " [0. 1. 0.]\n",
      " [0. 0. 1.]]\n"
     ]
    }
   ],
   "source": [
    "identity_matrix = np.eye(3)\n",
    "print(identity_matrix)"
   ]
  },
  {
   "cell_type": "markdown",
   "id": "24e98f25",
   "metadata": {},
   "source": [
    "#### 12. Create a 3x3x3 array with random values (★☆☆)"
   ]
  },
  {
   "cell_type": "code",
   "execution_count": 440,
   "id": "94752bb3",
   "metadata": {},
   "outputs": [
    {
     "name": "stdout",
     "output_type": "stream",
     "text": [
      "[[[0.22237411 0.14931667 0.90596388]\n",
      "  [0.90333342 0.64629153 0.49671   ]\n",
      "  [0.63187026 0.61461476 0.06315301]]\n",
      "\n",
      " [[0.96968488 0.4429473  0.41018371]\n",
      "  [0.94562127 0.89155061 0.04404632]\n",
      "  [0.28252779 0.74568419 0.20134614]]\n",
      "\n",
      " [[0.2084051  0.02287853 0.43130651]\n",
      "  [0.16281123 0.96652541 0.72937469]\n",
      "  [0.88434285 0.36893759 0.83884368]]]\n"
     ]
    }
   ],
   "source": [
    "random_array = np.random.rand(3, 3, 3)\n",
    "print(random_array)"
   ]
  },
  {
   "cell_type": "markdown",
   "id": "7cbca2cc",
   "metadata": {},
   "source": [
    "#### 13. Create a 10x10 array with random values and find the minimum and maximum values (★☆☆)"
   ]
  },
  {
   "cell_type": "code",
   "execution_count": 441,
   "id": "c0643b1f",
   "metadata": {},
   "outputs": [
    {
     "name": "stdout",
     "output_type": "stream",
     "text": [
      "[[0.67890235 0.85380182 0.69076245 0.96775957 0.7816315  0.5118728\n",
      "  0.35636335 0.88804673 0.12756446 0.257965  ]\n",
      " [0.84277787 0.95210233 0.96588029 0.34438265 0.00547523 0.89106978\n",
      "  0.47934167 0.79422317 0.50353119 0.75103199]\n",
      " [0.49491913 0.55243694 0.12460226 0.11127085 0.74955636 0.00775258\n",
      "  0.43205521 0.39861206 0.31757562 0.35021013]\n",
      " [0.58676356 0.58544931 0.2498558  0.18706568 0.40785653 0.17984129\n",
      "  0.31927302 0.21207033 0.58492839 0.25016233]\n",
      " [0.51412525 0.92535086 0.32836247 0.83568917 0.65989857 0.25963363\n",
      "  0.89586912 0.6005303  0.44069396 0.39419657]\n",
      " [0.27907531 0.80905145 0.13586663 0.87140974 0.64165918 0.86004566\n",
      "  0.64229233 0.448964   0.32282265 0.17403802]\n",
      " [0.42646094 0.11606477 0.52378542 0.61176131 0.0919215  0.67521945\n",
      "  0.15229727 0.79986714 0.08125795 0.79405265]\n",
      " [0.87068887 0.0410738  0.57014448 0.81380751 0.26332743 0.18039215\n",
      "  0.50954454 0.25940255 0.73369591 0.23767369]\n",
      " [0.89577554 0.35908445 0.04555085 0.41964571 0.76488484 0.66668801\n",
      "  0.63067274 0.93341553 0.20628245 0.35129628]\n",
      " [0.24512655 0.12144682 0.0240411  0.87999238 0.6942318  0.86904245\n",
      "  0.55023763 0.84841004 0.50785726 0.9351412 ]]\n",
      "Minimum value: 0.005475230307459444\n",
      "Maximum value: 0.9677595738833439\n"
     ]
    }
   ],
   "source": [
    "arr = np.random.rand(10, 10)\n",
    "print(arr)\n",
    "min_val = np.min(arr)\n",
    "max_val = np.max(arr)\n",
    "print(\"Minimum value:\", min_val)\n",
    "print(\"Maximum value:\", max_val)"
   ]
  },
  {
   "cell_type": "markdown",
   "id": "6cab4cbb",
   "metadata": {},
   "source": [
    "#### 14. Create a random vector of size 30 and find the mean value (★☆☆)"
   ]
  },
  {
   "cell_type": "code",
   "execution_count": 442,
   "id": "e922a524",
   "metadata": {},
   "outputs": [
    {
     "name": "stdout",
     "output_type": "stream",
     "text": [
      "[0.17068815 0.37283956 0.90518058 0.60871302 0.36780321 0.59560581\n",
      " 0.69399658 0.9987969  0.52666402 0.97449534 0.59262714 0.4625698\n",
      " 0.77391389 0.18824073 0.7733979  0.35636675 0.45500024 0.67313959\n",
      " 0.81780526 0.81857813 0.02916149 0.12257034 0.64677464 0.62066157\n",
      " 0.25404186 0.91234077 0.92290758 0.28950174 0.22602894 0.07824494]\n",
      "Mean value: 0.5409552151349233\n"
     ]
    }
   ],
   "source": [
    "arr = np.random.rand(30)\n",
    "mean_val = np.mean(arr)\n",
    "print(arr)\n",
    "print(\"Mean value:\", mean_val)"
   ]
  },
  {
   "cell_type": "markdown",
   "id": "72053be8",
   "metadata": {},
   "source": [
    "#### 15. Create a 2d array with 1 on the border and 0 inside (★☆☆)"
   ]
  },
  {
   "cell_type": "code",
   "execution_count": 443,
   "id": "6bc84dfe",
   "metadata": {},
   "outputs": [
    {
     "name": "stdout",
     "output_type": "stream",
     "text": [
      "[[1. 1. 1. 1. 1.]\n",
      " [1. 0. 0. 0. 1.]\n",
      " [1. 0. 0. 0. 1.]\n",
      " [1. 0. 0. 0. 1.]\n",
      " [1. 1. 1. 1. 1.]]\n"
     ]
    }
   ],
   "source": [
    "arr = np.ones((5, 5))\n",
    "arr[1:-1, 1:-1] = 0\n",
    "print(arr)"
   ]
  },
  {
   "cell_type": "markdown",
   "id": "86b0206b",
   "metadata": {},
   "source": [
    "#### 16. How to add a border (filled with 0's) around an existing array? (★☆☆)"
   ]
  },
  {
   "cell_type": "code",
   "execution_count": 444,
   "id": "41e66e3e",
   "metadata": {},
   "outputs": [
    {
     "name": "stdout",
     "output_type": "stream",
     "text": [
      "[[0. 0. 0. 0. 0.]\n",
      " [0. 1. 1. 1. 0.]\n",
      " [0. 1. 1. 1. 0.]\n",
      " [0. 1. 1. 1. 0.]\n",
      " [0. 0. 0. 0. 0.]]\n"
     ]
    }
   ],
   "source": [
    "arr = np.ones((3, 3))\n",
    "bordered_arr = np.pad(arr, pad_width=1, mode='constant', constant_values=0)\n",
    "print(bordered_arr)"
   ]
  },
  {
   "cell_type": "markdown",
   "id": "98a45574",
   "metadata": {},
   "source": [
    "#### 17. What is the result of the following expression? (★☆☆)\n",
    "```python\n",
    "0 * np.nan\n",
    "np.nan == np.nan\n",
    "np.inf > np.nan\n",
    "np.nan - np.nan\n",
    "np.nan in set([np.nan])\n",
    "0.3 == 3 * 0.1\n",
    "```"
   ]
  },
  {
   "cell_type": "code",
   "execution_count": 445,
   "id": "7eb533d5",
   "metadata": {},
   "outputs": [
    {
     "data": {
      "text/plain": [
       "nan"
      ]
     },
     "execution_count": 445,
     "metadata": {},
     "output_type": "execute_result"
    }
   ],
   "source": [
    "0 * np.nan"
   ]
  },
  {
   "cell_type": "code",
   "execution_count": 446,
   "id": "971dfdca-7bc1-4bf1-bb09-90ec2074392a",
   "metadata": {},
   "outputs": [
    {
     "data": {
      "text/plain": [
       "False"
      ]
     },
     "execution_count": 446,
     "metadata": {},
     "output_type": "execute_result"
    }
   ],
   "source": [
    "np.nan == np.nan"
   ]
  },
  {
   "cell_type": "code",
   "execution_count": 447,
   "id": "4d2363dd-9a1d-445c-9b81-5eafe00a2944",
   "metadata": {},
   "outputs": [
    {
     "data": {
      "text/plain": [
       "False"
      ]
     },
     "execution_count": 447,
     "metadata": {},
     "output_type": "execute_result"
    }
   ],
   "source": [
    "np.inf > np.nan"
   ]
  },
  {
   "cell_type": "code",
   "execution_count": 448,
   "id": "6747a1fa-74d2-40a4-a1b2-b8d7e889b76d",
   "metadata": {},
   "outputs": [
    {
     "data": {
      "text/plain": [
       "nan"
      ]
     },
     "execution_count": 448,
     "metadata": {},
     "output_type": "execute_result"
    }
   ],
   "source": [
    "np.nan - np.nan"
   ]
  },
  {
   "cell_type": "code",
   "execution_count": 449,
   "id": "9fc50146-3f8c-4e33-99b4-15dc5589641d",
   "metadata": {},
   "outputs": [
    {
     "data": {
      "text/plain": [
       "True"
      ]
     },
     "execution_count": 449,
     "metadata": {},
     "output_type": "execute_result"
    }
   ],
   "source": [
    "np.nan in set([np.nan])"
   ]
  },
  {
   "cell_type": "code",
   "execution_count": 450,
   "id": "8c0423db-6788-4106-8176-fa47a41d192c",
   "metadata": {},
   "outputs": [
    {
     "data": {
      "text/plain": [
       "False"
      ]
     },
     "execution_count": 450,
     "metadata": {},
     "output_type": "execute_result"
    }
   ],
   "source": [
    "0.3 == 3 * 0.1"
   ]
  },
  {
   "cell_type": "markdown",
   "id": "1486619a",
   "metadata": {},
   "source": [
    "#### 18. Create a 5x5 matrix with values 1,2,3,4 just below the diagonal (★☆☆)"
   ]
  },
  {
   "cell_type": "code",
   "execution_count": 451,
   "id": "2b9fb59c",
   "metadata": {},
   "outputs": [
    {
     "name": "stdout",
     "output_type": "stream",
     "text": [
      "[[0. 0. 0. 0. 0.]\n",
      " [1. 0. 0. 0. 0.]\n",
      " [0. 2. 0. 0. 0.]\n",
      " [0. 0. 3. 0. 0.]\n",
      " [0. 0. 0. 4. 0.]]\n"
     ]
    }
   ],
   "source": [
    "matrix = np.zeros((5, 5))\n",
    "np.fill_diagonal(matrix[1:], [1, 2, 3, 4])\n",
    "print(matrix)"
   ]
  },
  {
   "cell_type": "markdown",
   "id": "319287fd",
   "metadata": {},
   "source": [
    "#### 19. Create a 8x8 matrix and fill it with a checkerboard pattern (★☆☆)"
   ]
  },
  {
   "cell_type": "code",
   "execution_count": 452,
   "id": "299f5e60",
   "metadata": {},
   "outputs": [
    {
     "name": "stdout",
     "output_type": "stream",
     "text": [
      "[[0 1 0 1 0 1 0 1]\n",
      " [1 0 1 0 1 0 1 0]\n",
      " [0 1 0 1 0 1 0 1]\n",
      " [1 0 1 0 1 0 1 0]\n",
      " [0 1 0 1 0 1 0 1]\n",
      " [1 0 1 0 1 0 1 0]\n",
      " [0 1 0 1 0 1 0 1]\n",
      " [1 0 1 0 1 0 1 0]]\n"
     ]
    }
   ],
   "source": [
    "matrix = np.zeros((8, 8), dtype=int)\n",
    "matrix[1::2, ::2] = 1\n",
    "matrix[::2, 1::2] = 1\n",
    "print(matrix)"
   ]
  },
  {
   "cell_type": "markdown",
   "id": "fb1686ed",
   "metadata": {},
   "source": [
    "#### 20. Consider a (6,7,8) shape array, what is the index (x,y,z) of the 100th element? (★☆☆)"
   ]
  },
  {
   "cell_type": "code",
   "execution_count": 453,
   "id": "22888cc4",
   "metadata": {},
   "outputs": [
    {
     "name": "stdout",
     "output_type": "stream",
     "text": [
      "[[[2.30802091e-01 3.50132278e-03 1.77326431e-01 1.02895892e-01\n",
      "   5.77360669e-01 6.21575292e-01 3.74881795e-01 6.96584706e-01]\n",
      "  [7.62825984e-01 7.05891854e-01 4.98906259e-01 6.84982011e-02\n",
      "   9.79168899e-01 3.98350424e-01 1.65397734e-01 8.40420940e-01]\n",
      "  [9.58838384e-01 2.42793114e-01 9.80744223e-01 7.48454195e-01\n",
      "   7.28589200e-01 9.32874085e-01 6.40708394e-02 3.67829207e-01]\n",
      "  [1.68549837e-01 3.20503398e-02 1.38742591e-01 1.21089845e-01\n",
      "   3.00945688e-01 7.93265689e-02 8.40133280e-01 9.45530099e-01]\n",
      "  [1.25697180e-01 6.02011255e-01 4.54725050e-01 5.98275993e-01\n",
      "   8.43231912e-01 8.03426217e-01 6.08331681e-01 7.99660804e-01]\n",
      "  [2.20257957e-01 1.44408986e-01 9.87192961e-01 9.56200212e-01\n",
      "   6.77242603e-01 7.22140655e-01 5.53578374e-01 1.43627261e-01]\n",
      "  [4.62269291e-01 6.97525372e-01 7.36032010e-02 2.78479332e-01\n",
      "   7.43839939e-01 1.36237280e-01 5.90041062e-01 9.18962576e-03]]\n",
      "\n",
      " [[6.01627360e-01 1.33354591e-01 9.16327678e-01 4.48830864e-01\n",
      "   5.51853447e-01 8.71687478e-01 8.32309986e-01 1.14866689e-01]\n",
      "  [7.11126005e-01 5.35131178e-01 7.90979010e-03 4.39035665e-01\n",
      "   9.65766996e-01 4.86720112e-02 5.85474179e-01 3.91488385e-01]\n",
      "  [8.87766781e-01 3.33244383e-01 6.80648878e-01 5.92772468e-01\n",
      "   2.58128580e-01 3.16404852e-01 9.46753674e-01 8.81045369e-01]\n",
      "  [7.50578867e-01 6.81468444e-01 2.30534428e-01 8.13197889e-03\n",
      "   8.93655728e-01 1.65463194e-01 4.95919993e-01 7.63740830e-01]\n",
      "  [4.27732705e-03 7.32228076e-01 4.12848659e-01 3.38634432e-01\n",
      "   7.17931716e-01 4.18018848e-01 2.36603058e-01 4.46316381e-01]\n",
      "  [2.34697663e-01 4.79963860e-01 6.79735767e-01 4.63160480e-01\n",
      "   3.64932819e-01 2.51339600e-01 9.24373318e-01 3.14677043e-01]\n",
      "  [5.34878392e-01 7.19567800e-01 2.34076393e-01 2.19862712e-01\n",
      "   3.85407669e-01 2.22041446e-01 9.15635800e-01 9.58775526e-01]]\n",
      "\n",
      " [[8.18311395e-01 5.46591902e-01 8.52209740e-01 4.74644764e-01\n",
      "   3.73133728e-01 1.08562662e-01 9.73531008e-01 1.84937793e-01]\n",
      "  [1.79167989e-01 6.34360798e-01 4.74186329e-03 8.56295232e-01\n",
      "   9.29872485e-01 9.37626990e-01 7.83993309e-01 9.07756341e-01]\n",
      "  [3.35671361e-01 5.15007090e-01 2.24199974e-01 8.59763610e-01\n",
      "   8.44069018e-01 7.04282489e-02 7.68328227e-01 6.82049296e-02]\n",
      "  [6.87097518e-01 6.33764874e-01 7.82294581e-01 8.34019087e-01\n",
      "   5.81193160e-01 6.53244036e-01 7.66184691e-01 7.47886391e-01]\n",
      "  [5.17638688e-01 5.14706018e-01 4.82307716e-01 9.80082532e-01\n",
      "   5.81289477e-02 6.61420217e-01 9.92331141e-02 4.66540173e-02]\n",
      "  [4.72560069e-01 6.50652526e-01 9.32688632e-01 4.65062295e-01\n",
      "   4.37278814e-01 7.20460646e-01 4.99455866e-01 7.56451156e-01]\n",
      "  [3.81318324e-01 8.87336821e-01 4.54855907e-01 7.66514656e-01\n",
      "   6.92304121e-01 4.44407465e-01 3.57924774e-01 3.12308264e-01]]\n",
      "\n",
      " [[5.93128171e-03 1.13943982e-01 2.42596863e-01 5.09999824e-02\n",
      "   6.23542344e-01 5.28494480e-01 1.51897358e-01 2.63573534e-01]\n",
      "  [2.18009054e-02 6.79254396e-01 3.88666069e-01 9.22800407e-01\n",
      "   2.42140820e-01 3.13695194e-01 3.12261120e-01 1.77768600e-01]\n",
      "  [2.72358191e-02 4.12124124e-01 6.64163635e-01 7.49313496e-01\n",
      "   4.97710154e-01 1.77626890e-01 5.95175407e-01 9.99301956e-01]\n",
      "  [7.14409723e-01 9.80384620e-01 6.22836913e-01 8.84646247e-01\n",
      "   2.56233112e-01 9.49625394e-01 4.51430427e-01 1.71212290e-01]\n",
      "  [2.01981798e-01 6.08461432e-01 6.59100050e-01 2.83126194e-01\n",
      "   8.25334824e-01 5.11248397e-01 7.34209486e-01 9.88860766e-02]\n",
      "  [2.66701417e-01 4.13353545e-02 1.83262993e-01 4.14819153e-01\n",
      "   8.68667195e-02 7.97971465e-02 8.41502513e-01 7.36758754e-01]\n",
      "  [7.32505020e-02 7.78730217e-03 5.19741383e-02 9.07972570e-01\n",
      "   3.27219777e-01 6.53972366e-01 2.64641326e-01 4.95885686e-01]]\n",
      "\n",
      " [[2.27721977e-01 7.15725862e-01 1.45923934e-01 1.66796717e-01\n",
      "   9.92610646e-01 2.81821164e-01 6.58727959e-02 3.24223173e-01]\n",
      "  [4.24712961e-01 5.93842880e-01 1.06801976e-01 1.10434362e-01\n",
      "   9.89322131e-01 9.38423187e-01 4.04012714e-01 5.48778913e-01]\n",
      "  [3.48290030e-02 4.44298026e-01 8.92964031e-01 4.70165129e-01\n",
      "   7.27425288e-01 5.74651545e-02 6.43924366e-01 3.69178283e-01]\n",
      "  [6.72572870e-01 6.87623629e-01 1.36081760e-01 3.55723098e-01\n",
      "   5.28998882e-01 7.84523386e-04 7.64080982e-01 2.64285954e-01]\n",
      "  [4.96772831e-01 1.65685523e-01 7.04058957e-01 5.13818161e-01\n",
      "   7.96990201e-01 8.72578845e-01 4.51977407e-01 2.75938025e-02]\n",
      "  [3.17433281e-01 1.00801561e-01 5.25893924e-01 3.50306573e-01\n",
      "   2.15358995e-01 9.27952490e-01 9.19242140e-01 9.07539982e-01]\n",
      "  [5.97377959e-01 7.96782033e-01 6.32775722e-01 5.69458220e-01\n",
      "   9.51252620e-01 4.84075165e-01 4.95578801e-01 3.43402216e-01]]\n",
      "\n",
      " [[8.49975821e-01 4.33368577e-01 6.84187347e-01 4.19807606e-01\n",
      "   5.91950189e-01 7.29767844e-01 3.43978133e-01 6.23796424e-01]\n",
      "  [3.99289100e-02 6.60386662e-01 9.88007947e-01 5.64493698e-01\n",
      "   6.85628321e-01 3.44559158e-01 8.70326822e-01 8.85815152e-02]\n",
      "  [6.09604872e-01 3.76222625e-01 6.29333934e-01 3.36463366e-01\n",
      "   8.55913163e-02 8.59189887e-01 3.71728197e-01 3.07106709e-01]\n",
      "  [1.93850623e-01 6.78330025e-01 4.15710250e-02 7.84817596e-01\n",
      "   6.06458397e-01 8.26490860e-01 2.61501971e-01 3.00998013e-01]\n",
      "  [3.59784834e-01 5.86715530e-02 7.11121569e-01 8.20813279e-02\n",
      "   8.93143599e-01 2.33277758e-01 6.92395911e-01 8.31358071e-01]\n",
      "  [1.43163469e-01 1.69444769e-01 1.95602034e-01 8.71975132e-01\n",
      "   1.85154317e-02 7.99958892e-01 5.29753218e-01 5.47480506e-01]\n",
      "  [5.71076637e-01 9.06110698e-01 8.01850269e-01 6.23132710e-03\n",
      "   2.57911391e-01 1.35338121e-01 6.64106509e-01 2.95006203e-01]]]\n",
      "(1, 5, 4)\n"
     ]
    }
   ],
   "source": [
    "arr = np.random.rand(6, 7, 8)\n",
    "print(arr)\n",
    "index = np.unravel_index(100, arr.shape)\n",
    "print(index)"
   ]
  },
  {
   "cell_type": "markdown",
   "id": "137ea278",
   "metadata": {},
   "source": [
    "#### 21. Create a checkerboard 8x8 matrix using the tile function (★☆☆)"
   ]
  },
  {
   "cell_type": "code",
   "execution_count": 454,
   "id": "9cb81fe1",
   "metadata": {},
   "outputs": [
    {
     "name": "stdout",
     "output_type": "stream",
     "text": [
      "[[0 1 0 1 0 1 0 1]\n",
      " [1 0 1 0 1 0 1 0]\n",
      " [0 1 0 1 0 1 0 1]\n",
      " [1 0 1 0 1 0 1 0]\n",
      " [0 1 0 1 0 1 0 1]\n",
      " [1 0 1 0 1 0 1 0]\n",
      " [0 1 0 1 0 1 0 1]\n",
      " [1 0 1 0 1 0 1 0]]\n"
     ]
    }
   ],
   "source": [
    "checkerboard = np.tile([[0, 1], [1, 0]], (4, 4))\n",
    "print(checkerboard)"
   ]
  },
  {
   "cell_type": "markdown",
   "id": "9319f5a1",
   "metadata": {},
   "source": [
    "#### 22. Normalize a 5x5 random matrix (★☆☆)"
   ]
  },
  {
   "cell_type": "code",
   "execution_count": 455,
   "id": "fcdc0459",
   "metadata": {},
   "outputs": [
    {
     "name": "stdout",
     "output_type": "stream",
     "text": [
      "Original Integer Matrix:\n",
      " [[48 58 31 75 89]\n",
      " [48 87 86 22 97]\n",
      " [23 71 84 58 99]\n",
      " [20 23 10 73 74]\n",
      " [60 86 88 96 69]]\n",
      "\n",
      "Normalized Matrix:\n",
      " [[0.42696629 0.53932584 0.23595506 0.73033708 0.88764045]\n",
      " [0.42696629 0.86516854 0.85393258 0.13483146 0.97752809]\n",
      " [0.14606742 0.68539326 0.83146067 0.53932584 1.        ]\n",
      " [0.11235955 0.14606742 0.         0.70786517 0.71910112]\n",
      " [0.56179775 0.85393258 0.87640449 0.96629213 0.66292135]]\n"
     ]
    }
   ],
   "source": [
    "matrix = np.random.randint(10, 100, (5, 5))\n",
    "matrix_min = np.min(matrix)\n",
    "matrix_max = np.max(matrix)\n",
    "normalized_matrix = (matrix - matrix_min) / (matrix_max - matrix_min)\n",
    "print(\"Original Integer Matrix:\\n\", matrix)\n",
    "print(\"\\nNormalized Matrix:\\n\", normalized_matrix)"
   ]
  },
  {
   "cell_type": "markdown",
   "id": "f1902fef",
   "metadata": {},
   "source": [
    "#### 23. Create a custom dtype that describes a color as four unsigned bytes (RGBA) (★☆☆)"
   ]
  },
  {
   "cell_type": "code",
   "execution_count": 456,
   "id": "7445cb2d",
   "metadata": {},
   "outputs": [
    {
     "name": "stdout",
     "output_type": "stream",
     "text": [
      "[(255,   0,   0, 255) (  0, 255,   0, 255) (  0,   0, 255, 255)\n",
      " (255, 255,   0, 255)]\n"
     ]
    }
   ],
   "source": [
    "rgba_dtype = np.dtype([(\"r\", np.uint8), (\"g\", np.uint8), (\"b\", np.uint8), (\"a\", np.uint8)])\n",
    "colors = np.array([(255, 0, 0, 255),\n",
    "                   (0, 255, 0, 255),\n",
    "                   (0, 0, 255, 255),\n",
    "                   (255, 255, 0, 255)], dtype=rgba_dtype)\n",
    "print(colors)"
   ]
  },
  {
   "cell_type": "code",
   "execution_count": 457,
   "id": "95fe18a7-3bf5-487a-8f29-5e53268544be",
   "metadata": {},
   "outputs": [
    {
     "data": {
      "image/png": "[encoded data removed]",
      "text/plain": [
       "<Figure size 640x480 with 1 Axes>"
      ]
     },
     "metadata": {},
     "output_type": "display_data"
    }
   ],
   "source": [
    "import matplotlib.pyplot as plt\n",
    "rgba_dtype = np.dtype([(\"r\", np.uint8), (\"g\", np.uint8), (\"b\", np.uint8), (\"a\", np.uint8)])\n",
    "colors = np.array([(255, 0, 0, 255),\n",
    "                   (0, 255, 0, 255),\n",
    "                   (0, 0, 255, 255),\n",
    "                   (255, 255, 0, 255)], dtype=rgba_dtype)\n",
    "color_array = np.zeros((1, len(colors), 4), dtype=np.uint8)\n",
    "color_array[0, :, :] = [list(c) for c in colors]\n",
    "plt.imshow(color_array, aspect=\"auto\")\n",
    "plt.axis(\"off\")\n",
    "plt.show()"
   ]
  },
  {
   "cell_type": "markdown",
   "id": "3f34bd2a",
   "metadata": {},
   "source": [
    "#### 24. Multiply a 5x3 matrix by a 3x2 matrix (real matrix product) (★☆☆)"
   ]
  },
  {
   "cell_type": "code",
   "execution_count": 458,
   "id": "ec8bd6da",
   "metadata": {},
   "outputs": [
    {
     "name": "stdout",
     "output_type": "stream",
     "text": [
      "[[3 6 4]\n",
      " [7 2 5]\n",
      " [7 3 3]\n",
      " [5 5 1]\n",
      " [8 6 9]]\n",
      "[[2 1]\n",
      " [5 6]\n",
      " [2 4]]\n",
      "[[44 55]\n",
      " [34 39]\n",
      " [35 37]\n",
      " [37 39]\n",
      " [64 80]]\n"
     ]
    }
   ],
   "source": [
    "A = np.random.randint(1, 10, (5, 3))\n",
    "B = np.random.randint(1, 10, (3, 2))\n",
    "C = np.dot(A, B)\n",
    "print(A)\n",
    "print(B)\n",
    "print(C)"
   ]
  },
  {
   "cell_type": "markdown",
   "id": "b1919ba3",
   "metadata": {},
   "source": [
    "#### 25. Given a 1D array, negate all elements which are between 3 and 8, in place. (★☆☆)"
   ]
  },
  {
   "cell_type": "code",
   "execution_count": 459,
   "id": "5b63b63b",
   "metadata": {},
   "outputs": [
    {
     "name": "stdout",
     "output_type": "stream",
     "text": [
      "[0 1 2 3 4 5 6 7 8 9]\n",
      "[ 0  1  2  3 -4 -5 -6 -7  8  9]\n"
     ]
    }
   ],
   "source": [
    "arr = np.arange(10)\n",
    "print(arr)\n",
    "arr[(arr > 3) & (arr < 8)] *= -1\n",
    "print(arr)"
   ]
  },
  {
   "cell_type": "markdown",
   "id": "fb1daa27",
   "metadata": {},
   "source": [
    "#### 26. What is the output of the following script? (★☆☆)\n",
    "```python\n",
    "# Author: Jake VanderPlas\n",
    "\n",
    "print(sum(range(5),-1))\n",
    "from numpy import *\n",
    "print(sum(range(5),-1))\n",
    "```"
   ]
  },
  {
   "cell_type": "code",
   "execution_count": 460,
   "id": "52a34d3d",
   "metadata": {},
   "outputs": [
    {
     "name": "stdout",
     "output_type": "stream",
     "text": [
      "10\n",
      "10\n"
     ]
    }
   ],
   "source": [
    "print(sum(range(5),-1))\n",
    "from numpy import *\n",
    "print(sum(range(5),-1))"
   ]
  },
  {
   "cell_type": "markdown",
   "id": "89b7e7a7",
   "metadata": {},
   "source": [
    "#### 27. Consider an integer vector Z, which of these expressions are legal? (★☆☆)\n",
    "```python\n",
    "Z**Z\n",
    "2 << Z >> 2\n",
    "Z <- Z\n",
    "1j*Z\n",
    "Z/1/1\n",
    "Z<Z>Z\n",
    "```"
   ]
  },
  {
   "cell_type": "code",
   "execution_count": 461,
   "id": "451181cf",
   "metadata": {},
   "outputs": [],
   "source": [
    "# Valid\n",
    "# Valid\n",
    "# Invalid\n",
    "# Valid\n",
    "# Valid\n",
    "# Invalid"
   ]
  },
  {
   "cell_type": "markdown",
   "id": "8c7601c6",
   "metadata": {},
   "source": [
    "#### 28. What are the result of the following expressions? (★☆☆)\n",
    "```python\n",
    "np.array(0) / np.array(0)\n",
    "np.array(0) // np.array(0)\n",
    "np.array([np.nan]).astype(int).astype(float)\n",
    "```"
   ]
  },
  {
   "cell_type": "code",
   "execution_count": 462,
   "id": "52983a0b",
   "metadata": {},
   "outputs": [
    {
     "data": {
      "text/plain": [
       "array([-2.14748365e+09])"
      ]
     },
     "execution_count": 462,
     "metadata": {},
     "output_type": "execute_result"
    }
   ],
   "source": [
    "np.array(0) / np.array(0)\n",
    "np.array(0) // np.array(0)\n",
    "np.array([np.nan]).astype(int).astype(float)"
   ]
  },
  {
   "cell_type": "markdown",
   "id": "06c9164d",
   "metadata": {},
   "source": [
    "#### 29. How to round away from zero a float array ? (★☆☆)"
   ]
  },
  {
   "cell_type": "code",
   "execution_count": 463,
   "id": "4cce0af8",
   "metadata": {},
   "outputs": [
    {
     "name": "stdout",
     "output_type": "stream",
     "text": [
      "[-2. -3.  4.  5.]\n"
     ]
    }
   ],
   "source": [
    "arr = np.array([-1.7, -2.5, 3.2, 4.8])\n",
    "rounded_arr = np.sign(arr) * np.ceil(np.abs(arr))\n",
    "print(rounded_arr)"
   ]
  },
  {
   "cell_type": "markdown",
   "id": "52235994",
   "metadata": {},
   "source": [
    "#### 30. How to find common values between two arrays? (★☆☆)"
   ]
  },
  {
   "cell_type": "code",
   "execution_count": 464,
   "id": "27eff6b1",
   "metadata": {},
   "outputs": [
    {
     "name": "stdout",
     "output_type": "stream",
     "text": [
      "[4 5]\n"
     ]
    }
   ],
   "source": [
    "A = np.array([1, 2, 3, 4, 5])\n",
    "B = np.array([4, 5, 6, 7, 8])\n",
    "common_values = np.intersect1d(A, B)\n",
    "print(common_values)"
   ]
  },
  {
   "cell_type": "markdown",
   "id": "7e6f7d78",
   "metadata": {},
   "source": [
    "#### 31. How to ignore all numpy warnings (not recommended)? (★☆☆)"
   ]
  },
  {
   "cell_type": "code",
   "execution_count": 465,
   "id": "1bdde6e1",
   "metadata": {},
   "outputs": [],
   "source": [
    "import numpy as np\n",
    "import warnings\n",
    "warnings.filterwarnings(\"ignore\")"
   ]
  },
  {
   "cell_type": "markdown",
   "id": "b001277e",
   "metadata": {},
   "source": [
    "#### 32. Is the following expressions true? (★☆☆)\n",
    "```python\n",
    "np.sqrt(-1) == np.emath.sqrt(-1)\n",
    "```"
   ]
  },
  {
   "cell_type": "code",
   "execution_count": 466,
   "id": "d8673bdf",
   "metadata": {},
   "outputs": [
    {
     "data": {
      "text/plain": [
       "False"
      ]
     },
     "execution_count": 466,
     "metadata": {},
     "output_type": "execute_result"
    }
   ],
   "source": [
    "np.sqrt(-1) == np.emath.sqrt(-1)"
   ]
  },
  {
   "cell_type": "markdown",
   "id": "b9a5ff84",
   "metadata": {},
   "source": [
    "#### 33. How to get the dates of yesterday, today and tomorrow? (★☆☆)"
   ]
  },
  {
   "cell_type": "code",
   "execution_count": 467,
   "id": "f33f9cc2",
   "metadata": {},
   "outputs": [
    {
     "name": "stdout",
     "output_type": "stream",
     "text": [
      "Yesterday : 2025-04-01\n",
      "Today     : 2025-04-02\n",
      "Tomorrow  : 2025-04-03\n"
     ]
    }
   ],
   "source": [
    "today = np.datetime64('today', 'D')\n",
    "yesterday = today - np.timedelta64(1, 'D')\n",
    "tomorrow = today + np.timedelta64(1, 'D')\n",
    "print(\"Yesterday :\", yesterday)\n",
    "print(\"Today     :\", today)\n",
    "print(\"Tomorrow  :\", tomorrow)"
   ]
  },
  {
   "cell_type": "markdown",
   "id": "f8e96e58",
   "metadata": {},
   "source": [
    "#### 34. How to get all the dates corresponding to the month of July 2016? (★★☆)"
   ]
  },
  {
   "cell_type": "code",
   "execution_count": 468,
   "id": "3927a8e8",
   "metadata": {},
   "outputs": [
    {
     "name": "stdout",
     "output_type": "stream",
     "text": [
      "['2016-07-01' '2016-07-02' '2016-07-03' '2016-07-04' '2016-07-05'\n",
      " '2016-07-06' '2016-07-07' '2016-07-08' '2016-07-09' '2016-07-10'\n",
      " '2016-07-11' '2016-07-12' '2016-07-13' '2016-07-14' '2016-07-15'\n",
      " '2016-07-16' '2016-07-17' '2016-07-18' '2016-07-19' '2016-07-20'\n",
      " '2016-07-21' '2016-07-22' '2016-07-23' '2016-07-24' '2016-07-25'\n",
      " '2016-07-26' '2016-07-27' '2016-07-28' '2016-07-29' '2016-07-30'\n",
      " '2016-07-31']\n"
     ]
    }
   ],
   "source": [
    "dates = np.arange('2016-07', '2016-08', dtype='datetime64[D]')\n",
    "print(dates)"
   ]
  },
  {
   "cell_type": "markdown",
   "id": "557c163e",
   "metadata": {},
   "source": [
    "#### 35. How to compute ((A+B)*(-A/2)) in place (without copy)? (★★☆)"
   ]
  },
  {
   "cell_type": "code",
   "execution_count": 469,
   "id": "3c2f59ac",
   "metadata": {},
   "outputs": [
    {
     "name": "stdout",
     "output_type": "stream",
     "text": [
      "[-12.5 -24.5 -40.5]\n"
     ]
    }
   ],
   "source": [
    "A = np.array([1, 2, 3], dtype=float)\n",
    "B = np.array([4, 5, 6])\n",
    "A += B\n",
    "A *= (-A / 2)\n",
    "print(A)"
   ]
  },
  {
   "cell_type": "markdown",
   "id": "14c05852",
   "metadata": {},
   "source": [
    "#### 36. Extract the integer part of a random array of positive numbers using 4 different methods (★★☆)"
   ]
  },
  {
   "cell_type": "code",
   "execution_count": 470,
   "id": "8b7d2937",
   "metadata": {},
   "outputs": [
    {
     "name": "stdout",
     "output_type": "stream",
     "text": [
      "[6 3 1 8 6]\n",
      "[6. 3. 1. 8. 6.]\n",
      "[6. 3. 1. 8. 6.]\n",
      "[6. 3. 1. 8. 6.]\n"
     ]
    }
   ],
   "source": [
    "arr = np.random.uniform(0, 10, 5)\n",
    "print(arr.astype(int))\n",
    "print(np.floor(arr))\n",
    "print(np.trunc(arr))\n",
    "print(np.fix(arr))"
   ]
  },
  {
   "cell_type": "markdown",
   "id": "003b8721",
   "metadata": {},
   "source": [
    "#### 37. Create a 5x5 matrix with row values ranging from 0 to 4 (★★☆)"
   ]
  },
  {
   "cell_type": "code",
   "execution_count": 471,
   "id": "63c75db0",
   "metadata": {},
   "outputs": [
    {
     "name": "stdout",
     "output_type": "stream",
     "text": [
      "[[0 1 2 3 4]\n",
      " [0 1 2 3 4]\n",
      " [0 1 2 3 4]\n",
      " [0 1 2 3 4]\n",
      " [0 1 2 3 4]]\n"
     ]
    }
   ],
   "source": [
    "matrix = np.tile(np.arange(5), (5, 1))\n",
    "print(matrix)"
   ]
  },
  {
   "cell_type": "markdown",
   "id": "8e71dc21",
   "metadata": {},
   "source": [
    "#### 38. Consider a generator function that generates 10 integers and use it to build an array (★☆☆)"
   ]
  },
  {
   "cell_type": "code",
   "execution_count": 472,
   "id": "f6aefd94",
   "metadata": {},
   "outputs": [
    {
     "name": "stdout",
     "output_type": "stream",
     "text": [
      "[82 35 62  4 57 52 66 15 52 68]\n"
     ]
    }
   ],
   "source": [
    "def generate_random_integers():\n",
    "    for _ in range(10):\n",
    "        yield np.random.randint(1, 100)\n",
    "array = np.array(list(generate_random_integers()))\n",
    "print(array)"
   ]
  },
  {
   "cell_type": "markdown",
   "id": "b7f03449",
   "metadata": {},
   "source": [
    "#### 39. Create a vector of size 10 with values ranging from 0 to 1, both excluded (★★☆)"
   ]
  },
  {
   "cell_type": "code",
   "execution_count": 473,
   "id": "a27cd904",
   "metadata": {},
   "outputs": [
    {
     "name": "stdout",
     "output_type": "stream",
     "text": [
      "[0.09090909 0.18181818 0.27272727 0.36363636 0.45454545 0.54545455\n",
      " 0.63636364 0.72727273 0.81818182 0.90909091]\n"
     ]
    }
   ],
   "source": [
    "vector = np.linspace(0, 1, 12)[1:-1]\n",
    "print(vector)"
   ]
  },
  {
   "cell_type": "markdown",
   "id": "043156c5",
   "metadata": {},
   "source": [
    "#### 40. Create a random vector of size 10 and sort it (★★☆)"
   ]
  },
  {
   "cell_type": "code",
   "execution_count": 474,
   "id": "6ae5eb58",
   "metadata": {},
   "outputs": [
    {
     "name": "stdout",
     "output_type": "stream",
     "text": [
      "Vector\n",
      "[0.66359135 0.64130724 0.00293126 0.02663846 0.60223441 0.65696601\n",
      " 0.45821021 0.552576   0.30105907 0.11283056]\n",
      "Sorted Vecotr\n",
      "[0.00293126 0.02663846 0.11283056 0.30105907 0.45821021 0.552576\n",
      " 0.60223441 0.64130724 0.65696601 0.66359135]\n"
     ]
    }
   ],
   "source": [
    "vector = np.random.rand(10)\n",
    "print(\"Vector\")\n",
    "print(vector)\n",
    "sorted_vector = np.sort(vector)\n",
    "print(\"Sorted Vecotr\")\n",
    "print(sorted_vector)"
   ]
  },
  {
   "cell_type": "markdown",
   "id": "4f7e8f3f",
   "metadata": {},
   "source": [
    "#### 41. How to sum a small array faster than np.sum? (★★☆)"
   ]
  },
  {
   "cell_type": "code",
   "execution_count": 475,
   "id": "88790af3",
   "metadata": {},
   "outputs": [
    {
     "name": "stdout",
     "output_type": "stream",
     "text": [
      "[0.06721662 0.8942581  0.52000921 0.79402275 0.45017357 0.68425419\n",
      " 0.09583605 0.26995378 0.84448001 0.86068557]\n",
      "5.480889853835969\n"
     ]
    }
   ],
   "source": [
    "array = np.random.rand(10)\n",
    "print(array)\n",
    "total = array.sum()\n",
    "print(total)"
   ]
  },
  {
   "cell_type": "markdown",
   "id": "13d1ca52",
   "metadata": {},
   "source": [
    "#### 42. Consider two random array A and B, check if they are equal (★★☆)"
   ]
  },
  {
   "cell_type": "code",
   "execution_count": 476,
   "id": "ca6dd579",
   "metadata": {},
   "outputs": [
    {
     "name": "stdout",
     "output_type": "stream",
     "text": [
      "[0.39893567 0.78048552 0.20091162 0.81186129 0.79537075 0.16837222\n",
      " 0.456519   0.31772499 0.80115204 0.58059765]\n",
      "[0.45117791 0.58454665 0.7065755  0.37899314 0.51460429 0.65187519\n",
      " 0.04824766 0.24684054 0.46102843 0.80286215]\n",
      "False\n"
     ]
    }
   ],
   "source": [
    "A = np.random.rand(10)\n",
    "B = np.random.rand(10)\n",
    "print(A)\n",
    "print(B)\n",
    "are_equal = np.array_equal(A, B)\n",
    "print(are_equal)"
   ]
  },
  {
   "cell_type": "markdown",
   "id": "cf7cca6d",
   "metadata": {},
   "source": [
    "#### 43. Make an array immutable (read-only) (★★☆)"
   ]
  },
  {
   "cell_type": "code",
   "execution_count": 477,
   "id": "cbbb8917",
   "metadata": {},
   "outputs": [
    {
     "name": "stdout",
     "output_type": "stream",
     "text": [
      "assignment destination is read-only\n"
     ]
    }
   ],
   "source": [
    "array = np.random.rand(10)\n",
    "array.setflags(write=False)\n",
    "try:\n",
    "    array[0] = 10\n",
    "except ValueError as e:\n",
    "    print(e)"
   ]
  },
  {
   "cell_type": "markdown",
   "id": "37b0828f",
   "metadata": {},
   "source": [
    "#### 44. Consider a random 10x2 matrix representing cartesian coordinates, convert them to polar coordinates (★★☆)"
   ]
  },
  {
   "cell_type": "code",
   "execution_count": 478,
   "id": "a89969af",
   "metadata": {},
   "outputs": [
    {
     "name": "stdout",
     "output_type": "stream",
     "text": [
      "Cartesian Coordinates\n",
      "[[0.14523851 0.7270804 ]\n",
      " [0.12940483 0.38029779]\n",
      " [0.09943681 0.63996326]\n",
      " [0.06749752 0.10758125]\n",
      " [0.04280138 0.07515073]\n",
      " [0.98376709 0.21664257]\n",
      " [0.44027895 0.69024778]\n",
      " [0.63279968 0.91659952]\n",
      " [0.10904679 0.95570986]\n",
      " [0.09979078 0.34792107]]\n",
      "\n",
      "Polar Coordinates\n",
      "[[0.74144462 1.37363561]\n",
      " [0.40171137 1.2428137 ]\n",
      " [0.64764238 1.41665001]\n",
      " [0.12700252 1.01046605]\n",
      " [0.08648462 1.05307467]\n",
      " [1.00733892 0.2167576 ]\n",
      " [0.81871091 1.00300534]\n",
      " [1.11381781 0.96655766]\n",
      " [0.96191088 1.45718734]\n",
      " [0.36194927 1.29147456]]\n"
     ]
    }
   ],
   "source": [
    "cartesian_coords = np.random.rand(10, 2)\n",
    "print(\"Cartesian Coordinates\")\n",
    "print(cartesian_coords)\n",
    "r = np.sqrt(cartesian_coords[:, 0]**2 + cartesian_coords[:, 1]**2)\n",
    "theta = np.arctan2(cartesian_coords[:, 1], cartesian_coords[:, 0])\n",
    "print(\"\\nPolar Coordinates\")\n",
    "polar_coords = np.column_stack((r, theta))\n",
    "print(polar_coords)"
   ]
  },
  {
   "cell_type": "markdown",
   "id": "b7d7dd80",
   "metadata": {},
   "source": [
    "#### 45. Create random vector of size 10 and replace the maximum value by 0 (★★☆)"
   ]
  },
  {
   "cell_type": "code",
   "execution_count": 479,
   "id": "8403a440",
   "metadata": {},
   "outputs": [
    {
     "name": "stdout",
     "output_type": "stream",
     "text": [
      "[0.31818122 0.58012832 0.72746226 0.34110821 0.62977533 0.63284744\n",
      " 0.60475609 0.86080836 0.97395054 0.9206288 ]\n",
      "[0.31818122 0.58012832 0.72746226 0.34110821 0.62977533 0.63284744\n",
      " 0.60475609 0.86080836 0.         0.9206288 ]\n"
     ]
    }
   ],
   "source": [
    "vector = np.random.rand(10)\n",
    "print(vector)\n",
    "vector[np.argmax(vector)] = 0\n",
    "print(vector)"
   ]
  },
  {
   "cell_type": "markdown",
   "id": "b47e5837",
   "metadata": {},
   "source": [
    "#### 46. Create a structured array with `x` and `y` coordinates covering the [0,1]x[0,1] area (★★☆)"
   ]
  },
  {
   "cell_type": "code",
   "execution_count": 480,
   "id": "42c72e94",
   "metadata": {},
   "outputs": [
    {
     "name": "stdout",
     "output_type": "stream",
     "text": [
      "[(0.        , 0.        ) (0.11111111, 0.        )\n",
      " (0.22222222, 0.        ) (0.33333333, 0.        )\n",
      " (0.44444444, 0.        ) (0.55555556, 0.        )\n",
      " (0.66666667, 0.        ) (0.77777778, 0.        )\n",
      " (0.88888889, 0.        ) (1.        , 0.        )\n",
      " (0.        , 0.11111111) (0.11111111, 0.11111111)\n",
      " (0.22222222, 0.11111111) (0.33333333, 0.11111111)\n",
      " (0.44444444, 0.11111111) (0.55555556, 0.11111111)\n",
      " (0.66666667, 0.11111111) (0.77777778, 0.11111111)\n",
      " (0.88888889, 0.11111111) (1.        , 0.11111111)\n",
      " (0.        , 0.22222222) (0.11111111, 0.22222222)\n",
      " (0.22222222, 0.22222222) (0.33333333, 0.22222222)\n",
      " (0.44444444, 0.22222222) (0.55555556, 0.22222222)\n",
      " (0.66666667, 0.22222222) (0.77777778, 0.22222222)\n",
      " (0.88888889, 0.22222222) (1.        , 0.22222222)\n",
      " (0.        , 0.33333333) (0.11111111, 0.33333333)\n",
      " (0.22222222, 0.33333333) (0.33333333, 0.33333333)\n",
      " (0.44444444, 0.33333333) (0.55555556, 0.33333333)\n",
      " (0.66666667, 0.33333333) (0.77777778, 0.33333333)\n",
      " (0.88888889, 0.33333333) (1.        , 0.33333333)\n",
      " (0.        , 0.44444444) (0.11111111, 0.44444444)\n",
      " (0.22222222, 0.44444444) (0.33333333, 0.44444444)\n",
      " (0.44444444, 0.44444444) (0.55555556, 0.44444444)\n",
      " (0.66666667, 0.44444444) (0.77777778, 0.44444444)\n",
      " (0.88888889, 0.44444444) (1.        , 0.44444444)\n",
      " (0.        , 0.55555556) (0.11111111, 0.55555556)\n",
      " (0.22222222, 0.55555556) (0.33333333, 0.55555556)\n",
      " (0.44444444, 0.55555556) (0.55555556, 0.55555556)\n",
      " (0.66666667, 0.55555556) (0.77777778, 0.55555556)\n",
      " (0.88888889, 0.55555556) (1.        , 0.55555556)\n",
      " (0.        , 0.66666667) (0.11111111, 0.66666667)\n",
      " (0.22222222, 0.66666667) (0.33333333, 0.66666667)\n",
      " (0.44444444, 0.66666667) (0.55555556, 0.66666667)\n",
      " (0.66666667, 0.66666667) (0.77777778, 0.66666667)\n",
      " (0.88888889, 0.66666667) (1.        , 0.66666667)\n",
      " (0.        , 0.77777778) (0.11111111, 0.77777778)\n",
      " (0.22222222, 0.77777778) (0.33333333, 0.77777778)\n",
      " (0.44444444, 0.77777778) (0.55555556, 0.77777778)\n",
      " (0.66666667, 0.77777778) (0.77777778, 0.77777778)\n",
      " (0.88888889, 0.77777778) (1.        , 0.77777778)\n",
      " (0.        , 0.88888889) (0.11111111, 0.88888889)\n",
      " (0.22222222, 0.88888889) (0.33333333, 0.88888889)\n",
      " (0.44444444, 0.88888889) (0.55555556, 0.88888889)\n",
      " (0.66666667, 0.88888889) (0.77777778, 0.88888889)\n",
      " (0.88888889, 0.88888889) (1.        , 0.88888889)\n",
      " (0.        , 1.        ) (0.11111111, 1.        )\n",
      " (0.22222222, 1.        ) (0.33333333, 1.        )\n",
      " (0.44444444, 1.        ) (0.55555556, 1.        )\n",
      " (0.66666667, 1.        ) (0.77777778, 1.        )\n",
      " (0.88888889, 1.        ) (1.        , 1.        )]\n"
     ]
    }
   ],
   "source": [
    "grid_size = 10\n",
    "x = np.linspace(0, 1, grid_size)\n",
    "y = np.linspace(0, 1, grid_size)\n",
    "x, y = np.meshgrid(x, y)\n",
    "structured_array = np.core.records.fromarrays([x.ravel(), y.ravel()], names='x, y')\n",
    "print(structured_array)"
   ]
  },
  {
   "cell_type": "markdown",
   "id": "8c7946ee",
   "metadata": {},
   "source": [
    "#### 47. Given two arrays, X and Y, construct the Cauchy matrix C (Cij =1/(xi - yj)) (★★☆)"
   ]
  },
  {
   "cell_type": "code",
   "execution_count": 481,
   "id": "26b93f06",
   "metadata": {},
   "outputs": [
    {
     "name": "stdout",
     "output_type": "stream",
     "text": [
      "[[   5.49276678    1.70351607    1.80435468    3.61686814    4.19100661\n",
      "     1.3986972  -357.6609997     6.79020253    5.86472154    2.21487302]\n",
      " [  -3.95303786    6.57922618    8.3901664    -6.30734475   -5.09109359\n",
      "     3.57240572   -2.28402511   -3.47515918   -3.780482     60.73291369]\n",
      " [  -3.45886068    8.63177547   12.04172073   -5.13642713   -4.29989181\n",
      "     4.10204452   -2.10985555   -3.08738084   -3.32602635  -50.82075182]\n",
      " [ -12.16642018    3.09818026    3.44870749   81.7578863   -38.99411441\n",
      "     2.21877095   -3.74465916   -8.54846651  -10.66780706    5.34067944]\n",
      " [  13.71500671    2.09259133    2.24683766    5.97594626    7.72431108\n",
      "     1.65069278   -8.93329956   26.2286592    16.29558858    2.92100118]\n",
      " [  -2.80908725   20.41814592   61.84432537   -3.8231731    -3.3395787\n",
      "     5.65272282   -1.848972     -2.55902311   -2.72083634  -11.55375086]\n",
      " [ -11.68630919    3.13093561    3.4893426   112.93735695  -34.45701609\n",
      "     2.23552009   -3.69789977   -8.30862796  -10.29688516    5.43876344]\n",
      " [  -2.16044123  -17.26971072  -11.02398968   -2.71411866   -2.46111523\n",
      "    14.28061322   -1.5438723    -2.00942416   -2.1078594    -5.16975213]\n",
      " [  -3.48258647    8.48747614   11.7627347    -5.18892285   -4.33661958\n",
      "     4.06916757   -2.11865995   -3.1062701    -3.34795902  -56.47367017]\n",
      " [  -5.06751948    4.81629783    5.72010568   -9.71717917   -7.10294591\n",
      "     2.98010888   -2.61650813   -4.30808299   -4.78739793   13.86956133]]\n"
     ]
    }
   ],
   "source": [
    "X = np.random.rand(10)\n",
    "Y = np.random.rand(10)\n",
    "C = 1 / (X[:, None] - Y[None, :])\n",
    "print(C)"
   ]
  },
  {
   "cell_type": "markdown",
   "id": "3e898e5f",
   "metadata": {},
   "source": [
    "#### 48. Print the minimum and maximum representable value for each numpy scalar type (★★☆)"
   ]
  },
  {
   "cell_type": "code",
   "execution_count": 482,
   "id": "afd1ae18",
   "metadata": {},
   "outputs": [
    {
     "name": "stdout",
     "output_type": "stream",
     "text": [
      "int8: min=-128, max=127\n",
      "int16: min=-32768, max=32767\n",
      "int32: min=-2147483648, max=2147483647\n",
      "int64: min=-9223372036854775808, max=9223372036854775807\n",
      "uint8: min=0, max=255\n",
      "uint16: min=0, max=65535\n",
      "uint32: min=0, max=4294967295\n",
      "uint64: min=0, max=18446744073709551615\n",
      "float16: min=-65504.0, max=65504.0\n",
      "float32: min=-3.4028234663852886e+38, max=3.4028234663852886e+38\n",
      "float64: min=-1.7976931348623157e+308, max=1.7976931348623157e+308\n"
     ]
    }
   ],
   "source": [
    "types = [np.int8, np.int16, np.int32, np.int64, np.uint8, np.uint16, np.uint32, np.uint64, \n",
    "         np.float16, np.float32, np.float64]\n",
    "for t in types:\n",
    "    info = np.iinfo(t) if np.issubdtype(t, np.integer) else np.finfo(t)\n",
    "    print(f\"{t.__name__}: min={info.min}, max={info.max}\")"
   ]
  },
  {
   "cell_type": "markdown",
   "id": "6fe6133b",
   "metadata": {},
   "source": [
    "#### 49. How to print all the values of an array? (★★☆)"
   ]
  },
  {
   "cell_type": "code",
   "execution_count": 483,
   "id": "5764ec92",
   "metadata": {},
   "outputs": [
    {
     "name": "stdout",
     "output_type": "stream",
     "text": [
      "[0.03195334 0.25585389 0.80014244 0.67273327 0.65566242 0.19579266\n",
      " 0.53402648 0.94393612 0.04092548 0.28696254 0.85151857 0.85470734\n",
      " 0.48257404 0.65475844 0.88360785 0.06745771 0.76923584 0.55006583\n",
      " 0.72468162 0.58776323 0.23533902 0.1649628  0.48908194 0.46702566\n",
      " 0.24093105 0.97687251 0.71019684 0.64090834 0.5275213  0.10979137\n",
      " 0.42372842 0.20320142 0.27953186 0.1722071  0.32104091 0.97823041\n",
      " 0.70950134 0.72397476 0.51173898 0.7048629  0.75146116 0.23917561\n",
      " 0.17732918 0.68230903 0.68504258 0.73701373 0.80093756 0.16221846\n",
      " 0.16134531 0.0837801  0.89226817 0.96977162 0.26941401 0.87950023\n",
      " 0.29464084 0.10074046 0.72445269 0.32010533 0.8037771  0.05227391\n",
      " 0.5484246  0.42347038 0.18799154 0.08843946 0.82027924 0.86247637\n",
      " 0.44917515 0.23262936 0.40671131 0.6598909  0.9656469  0.98568647\n",
      " 0.03606351 0.3142639  0.44615939 0.98391075 0.55176686 0.91010448\n",
      " 0.52477086 0.3744282  0.11590666 0.56123234 0.99483931 0.75216049\n",
      " 0.64329225 0.63614684 0.86844516 0.83350918 0.11793795 0.16283006\n",
      " 0.70330171 0.24530427 0.7269775  0.07744553 0.15673016 0.41266397\n",
      " 0.95689238 0.53633086 0.63096773 0.01598934]\n"
     ]
    }
   ],
   "source": [
    "np.set_printoptions(threshold=np.inf)\n",
    "array = np.random.rand(100)\n",
    "print(array)"
   ]
  },
  {
   "cell_type": "markdown",
   "id": "7ee2dacc",
   "metadata": {},
   "source": [
    "#### 50. How to find the closest value (to a given scalar) in a vector? (★★☆)"
   ]
  },
  {
   "cell_type": "code",
   "execution_count": 484,
   "id": "742518ef",
   "metadata": {},
   "outputs": [
    {
     "name": "stdout",
     "output_type": "stream",
     "text": [
      "0.5246296697465881\n"
     ]
    }
   ],
   "source": [
    "vector = np.random.rand(10)\n",
    "scalar = 0.5\n",
    "closest_value = vector[np.abs(vector - scalar).argmin()]\n",
    "print(closest_value)"
   ]
  },
  {
   "cell_type": "markdown",
   "id": "cfeda6ba",
   "metadata": {},
   "source": [
    "#### 51. Create a structured array representing a position (x,y) and a color (r,g,b) (★★☆)"
   ]
  },
  {
   "cell_type": "code",
   "execution_count": 485,
   "id": "9fcbd031",
   "metadata": {},
   "outputs": [
    {
     "data": {
      "image/png": "[encoded data removed]",
      "text/plain": [
       "<Figure size 640x480 with 1 Axes>"
      ]
     },
     "metadata": {},
     "output_type": "display_data"
    }
   ],
   "source": [
    "dtype = [('x', float), ('y', float), ('r', int), ('g', int), ('b', int)]\n",
    "structured_array = np.array([\n",
    "    (0.2, 0.3, 255, 0, 0), \n",
    "    (0.4, 0.6, 0, 255, 0), \n",
    "    (0.7, 0.8, 0, 0, 255)\n",
    "], dtype=dtype)\n",
    "colors = np.stack([structured_array['r'], structured_array['g'], structured_array['b']], axis=1) / 255\n",
    "plt.scatter(structured_array['x'], structured_array['y'], c=colors, s=100)\n",
    "plt.xlim(0, 1)\n",
    "plt.ylim(0, 1)\n",
    "plt.show()"
   ]
  },
  {
   "cell_type": "code",
   "execution_count": 486,
   "id": "2ac8db76-fc1a-4c8f-bbd9-175f32bd1c30",
   "metadata": {},
   "outputs": [
    {
     "name": "stdout",
     "output_type": "stream",
     "text": [
      "[((0., 0.), (0., 0., 0.)) ((0., 0.), (0., 0., 0.))\n",
      " ((0., 0.), (0., 0., 0.)) ((0., 0.), (0., 0., 0.))\n",
      " ((0., 0.), (0., 0., 0.)) ((0., 0.), (0., 0., 0.))\n",
      " ((0., 0.), (0., 0., 0.)) ((0., 0.), (0., 0., 0.))\n",
      " ((0., 0.), (0., 0., 0.)) ((0., 0.), (0., 0., 0.))]\n"
     ]
    }
   ],
   "source": [
    "Z = np.zeros(10, [ ('position', [ ('x', float, 1),\n",
    "                                  ('y', float, 1)]),\n",
    "                   ('color',    [ ('r', float, 1),\n",
    "                                  ('g', float, 1),\n",
    "                                  ('b', float, 1)])])\n",
    "print(Z)"
   ]
  },
  {
   "cell_type": "markdown",
   "id": "b97e75b5",
   "metadata": {},
   "source": [
    "#### 52. Consider a random vector with shape (100,2) representing coordinates, find point by point distances (★★☆)"
   ]
  },
  {
   "cell_type": "code",
   "execution_count": 487,
   "id": "c58a45b6",
   "metadata": {},
   "outputs": [
    {
     "name": "stdout",
     "output_type": "stream",
     "text": [
      "[[0.         0.60315787 0.20018474 0.28896279 0.69941125 0.18499665\n",
      "  0.47721792 0.28416053 0.29977159 0.81546575 0.65284448 0.69641782\n",
      "  0.37387142 0.43997062 0.30279887 0.6331159  0.2638914  0.73338285\n",
      "  0.23905644 0.65642934 0.41982431 0.16230593 0.828608   0.49568641\n",
      "  0.03129585 0.47051146 0.27754066 0.37781013 0.44815036 0.06241195\n",
      "  0.35964919 0.82660697 0.35888339 0.61301398 0.44820967 0.3936735\n",
      "  0.73968201 0.72924595 0.57554644 0.33482965 0.18196608 0.27379478\n",
      "  0.48839475 0.11064045 0.46216352 0.3955613  0.63308169 0.45287899\n",
      "  0.10639531 0.48715445 0.62189544 0.19441891 0.42278839 0.32396907\n",
      "  0.5667992  0.32007253 0.3564587  0.61353616 0.27847359 0.69424736\n",
      "  0.54447021 0.72957948 0.13351492 0.45339905 0.23481737 0.45093359\n",
      "  0.41510979 0.70967058 0.71111114 0.47371952 0.06902649 0.5743694\n",
      "  0.42458413 0.20658624 0.21070254 0.29799366 0.56079525 0.17737855\n",
      "  0.65689447 0.41123412 0.63768532 0.69786369 0.45419074 0.1782594\n",
      "  0.56588505 0.57272763 0.41473341 0.47606743 0.29065202 0.48830729\n",
      "  0.8000154  0.02329537 0.47521251 0.33706506 0.77887094 0.26984831\n",
      "  0.79856206 0.51874114 0.33243177 0.74469538]\n",
      " [0.60315787 0.         0.42683823 0.58608817 0.11511732 0.7136354\n",
      "  0.46794205 0.48754818 0.66462692 0.22601663 0.44663314 0.3198275\n",
      "  0.23554332 0.69803531 0.42155678 0.4176816  0.80274389 0.14568203\n",
      "  0.76019479 0.42274859 0.44601531 0.76546339 0.64579519 0.42658703\n",
      "  0.63391946 0.42309084 0.55850795 0.26425765 0.20601408 0.54074731\n",
      "  0.71772652 0.25762498 0.78880026 0.51907362 0.98468929 0.30455727\n",
      "  0.20157574 0.48450781 0.29838528 0.44440626 0.60433188 0.4502931\n",
      "  0.12900049 0.70009639 0.38176642 0.20866211 0.16913828 0.67042258\n",
      "  0.50530647 0.82614765 0.43433934 0.43635398 0.58033264 0.29931046\n",
      "  0.06600675 0.8611549  0.8709774  0.28440393 0.56130066 0.67358112\n",
      "  0.20854285 0.13401895 0.51110812 0.85409478 0.40286299 0.39742757\n",
      "  0.93906881 0.16268681 0.30124761 0.80908046 0.63960482 0.17479966\n",
      "  0.84816613 0.50832372 0.49502771 0.34841406 0.29965534 0.7692116\n",
      "  0.5307725  0.31769131 0.30735579 0.40129123 0.71115042 0.45843019\n",
      "  0.19500982 0.38828213 0.83467598 0.96396902 0.67544799 0.40034139\n",
      "  0.29618378 0.62505984 0.7672369  0.27046021 0.66253311 0.44627244\n",
      "  0.64727474 0.50592942 0.56035825 0.36964554]\n",
      " [0.20018474 0.42683823 0.         0.36844215 0.53309465 0.28762721\n",
      "  0.31069665 0.14771765 0.28058464 0.62680606 0.59577339 0.59021267\n",
      "  0.22373987 0.53059631 0.2799126  0.57000315 0.45317449 0.54613041\n",
      "  0.33644632 0.59058995 0.25124272 0.35515492 0.79717669 0.45885597\n",
      "  0.23083884 0.29243556 0.19276514 0.25869457 0.25178811 0.14523608\n",
      "  0.34508844 0.63310177 0.39241362 0.58970262 0.64148101 0.1939941\n",
      "  0.58988205 0.66854831 0.37695228 0.3253866  0.18691817 0.11278005\n",
      "  0.32948889 0.31014963 0.27515595 0.23238355 0.49341974 0.52816291\n",
      "  0.09397534 0.6154686  0.56661828 0.01010801 0.30774355 0.13055454\n",
      "  0.38140563 0.51189794 0.54129532 0.41395474 0.34658062 0.70711354\n",
      "  0.42229875 0.55908831 0.08447799 0.60271475 0.03520763 0.40733486\n",
      "  0.60449074 0.55549094 0.51101343 0.45826308 0.21820368 0.37616776\n",
      "  0.58060759 0.25301654 0.09543828 0.21530206 0.46816727 0.37756329\n",
      "  0.62812171 0.21323409 0.43867375 0.61680829 0.54623767 0.17231791\n",
      "  0.36665747 0.38300356 0.56872676 0.65648636 0.41607048 0.44172175\n",
      "  0.60085987 0.22345007 0.58400402 0.15741445 0.76600632 0.26429626\n",
      "  0.7754214  0.35857494 0.23099419 0.64399486]\n",
      " [0.28896279 0.58608817 0.36844215 0.         0.6445232  0.47124477\n",
      "  0.67734593 0.50966047 0.58047945 0.81157617 0.43261772 0.534566\n",
      "  0.36873586 0.16267359 0.16454861 0.4224197  0.27240062 0.73172987\n",
      "  0.52314731 0.44603113 0.61829107 0.37087667 0.57102146 0.2775181\n",
      "  0.29412809 0.65441069 0.53240811 0.32296221 0.5232811  0.27647233\n",
      "  0.64354471 0.84222523 0.64784596 0.36216356 0.42224548 0.52313278\n",
      "  0.64530919 0.50543426 0.69515806 0.1485254  0.45981501 0.48007608\n",
      "  0.4574612  0.28345111 0.62999261 0.40317572 0.53484576 0.16657527\n",
      "  0.31434167 0.25740146 0.40343757 0.37123362 0.66807571 0.42149896\n",
      "  0.58058767 0.31848358 0.30801016 0.7208574  0.02578141 0.41362976\n",
      "  0.43436797 0.68083514 0.3648015  0.26967578 0.39605471 0.2540526\n",
      "  0.37345092 0.62760949 0.8016435  0.75958348 0.35680935 0.64079472\n",
      "  0.26207808 0.11567585 0.44018385 0.24727614 0.40180079 0.3227534\n",
      "  0.40712521 0.55002626 0.74941722 0.50138831 0.17821836 0.19752072\n",
      "  0.64224242 0.72857763 0.24858785 0.38261843 0.09380141 0.28423963\n",
      "  0.8553642  0.28869603 0.21681626 0.39921938 0.50986942 0.14355289\n",
      "  0.53591625 0.72613303 0.5824551  0.56931568]\n",
      " [0.69941125 0.11511732 0.53309465 0.6445232  0.         0.82071912\n",
      "  0.5799562  0.60165126 0.7784365  0.19498368 0.41855154 0.26312884\n",
      "  0.32564742 0.73660407 0.48329271 0.39281403 0.88059054 0.14385314\n",
      "  0.86873491 0.39132814 0.56025708 0.86106182 0.5981247  0.44090424\n",
      "  0.72948069 0.53519286 0.67248626 0.33649487 0.32109091 0.63728245\n",
      "  0.83227723 0.24682619 0.90225715 0.50802661 1.05690319 0.41965222\n",
      "  0.09861289 0.43920854 0.39896116 0.49701043 0.71426017 0.56372944\n",
      "  0.2111205  0.79075646 0.49430307 0.30518107 0.13271172 0.70456393\n",
      "  0.60617005 0.86885378 0.41408578 0.54288151 0.69498307 0.40889228\n",
      "  0.17911307 0.93750545 0.94199239 0.37751229 0.62122667 0.65980305\n",
      "  0.21998603 0.03708358 0.61652408 0.90589116 0.51149447 0.42415736\n",
      "  1.0098099  0.06488966 0.36964213 0.92419231 0.74088274 0.27630893\n",
      "  0.90420684 0.58170422 0.60599945 0.42425905 0.2948091  0.85893897\n",
      "  0.50990259 0.43266263 0.39625428 0.35464465 0.74828299 0.54286117\n",
      "  0.29782543 0.49106038 0.890792   1.02694122 0.73713097 0.41676407\n",
      "  0.32573817 0.72044496 0.80580988 0.37568048 0.62863375 0.51270927\n",
      "  0.60677869 0.61603679 0.67532537 0.30283482]\n",
      " [0.18499665 0.7136354  0.28762721 0.47124477 0.82071912 0.\n",
      "  0.44971383 0.27188148 0.17267148 0.90544842 0.8302178  0.85780117\n",
      "  0.50607874 0.61514075 0.48109347 0.80881845 0.36741283 0.82681661\n",
      "  0.05522211 0.83163295 0.40386734 0.17538683 1.01156533 0.67561281\n",
      "  0.17727836 0.46076029 0.2209185  0.52764306 0.52698386 0.22306275\n",
      "  0.21214283 0.90526804 0.18268846 0.79602829 0.51813755 0.44559221\n",
      "  0.8756566  0.90634073 0.60668015 0.5164388  0.12012302 0.28954455\n",
      "  0.61586084 0.21779111 0.46904474 0.51870498 0.77572804 0.63192329\n",
      "  0.22716594 0.64330381 0.79940873 0.27784389 0.34692499 0.41470973\n",
      "  0.66517462 0.40809087 0.45805232 0.64966917 0.46243544 0.87915609\n",
      "  0.69643457 0.84643996 0.20497069 0.59528627 0.31100897 0.62883139\n",
      "  0.49999071 0.8420427  0.75054138 0.31236187 0.11598024 0.64198081\n",
      "  0.56182183 0.39094439 0.22746838 0.45914887 0.72622885 0.24128459\n",
      "  0.83947135 0.45226433 0.6682847  0.86892069 0.62850703 0.35115285\n",
      "  0.62814105 0.57509614 0.55460271 0.57650002 0.45900529 0.66617249\n",
      "  0.85651747 0.18255777 0.64235383 0.44503917 0.96339698 0.45005778\n",
      "  0.98233838 0.47763885 0.26741868 0.90884941]\n",
      " [0.47721792 0.46794205 0.31069665 0.67734593 0.5799562  0.44971383\n",
      "  0.         0.19415942 0.30576823 0.57149784 0.81599179 0.75027526\n",
      "  0.41098854 0.83828563 0.56591287 0.78661073 0.74107351 0.51228296\n",
      "  0.46832666 0.80209553 0.05951008 0.59550966 1.02784044 0.71181442\n",
      "  0.50199169 0.0448537  0.2288909  0.4748771  0.27713791 0.43973642\n",
      "  0.32710361 0.54779424 0.41683733 0.84087021 0.92308085 0.19495949\n",
      "  0.66931953 0.87827665 0.21055417 0.61138043 0.33705844 0.20612618\n",
      "  0.45263626 0.58324177 0.08650061 0.39051725 0.61207047 0.83260169\n",
      "  0.38719617 0.92616131 0.79156516 0.30964166 0.14018331 0.2853724\n",
      "  0.40203304 0.79651371 0.83357372 0.25249378 0.65450198 0.97740488\n",
      "  0.58701643 0.58818005 0.34552276 0.91144556 0.28133462 0.66161531\n",
      "  0.89195175 0.63037899 0.34301742 0.37921523 0.45758332 0.31141157\n",
      "  0.8877191  0.56168051 0.26652454 0.48085367 0.66492747 0.64106817\n",
      "  0.87191923 0.16896168 0.25844393 0.80785967 0.8539648  0.47985432\n",
      "  0.29000281 0.13987939 0.87627183 0.95265226 0.72643757 0.68902162\n",
      "  0.46432999 0.49764847 0.8937727  0.32871682 1.01466755 0.55970089\n",
      "  1.01484457 0.05040696 0.18561099 0.80559749]\n",
      " [0.28416053 0.48754818 0.14771765 0.50966047 0.60165126 0.27188148\n",
      "  0.19415942 0.         0.17730474 0.65345501 0.73131988 0.70590082\n",
      "  0.33518916 0.67233303 0.42729302 0.70421625 0.54765022 0.5794072\n",
      "  0.30269563 0.72351632 0.13927402 0.40365237 0.9369161  0.60163953\n",
      "  0.30812597 0.19421267 0.07105167 0.38513049 0.28386238 0.25182973\n",
      "  0.23143674 0.64612849 0.30200324 0.73301874 0.72894263 0.18916895\n",
      "  0.67411871 0.80175944 0.33532279 0.47291109 0.15246952 0.04257586\n",
      "  0.42043442 0.38915408 0.19766722 0.33078408 0.59067774 0.67243714\n",
      "  0.20173933 0.7482345  0.70320698 0.14209614 0.16025842 0.20577997\n",
      "  0.42932624 0.60262594 0.64057238 0.37871044 0.48922189 0.85398496\n",
      "  0.53544764 0.62093239 0.15541762 0.72684968 0.13373952 0.54992228\n",
      "  0.69816867 0.63678217 0.47946014 0.33286855 0.26402149 0.383015\n",
      "  0.70118019 0.39576406 0.07443521 0.3576092  0.59437683 0.44713998\n",
      "  0.77004006 0.18822658 0.39659453 0.74362368 0.68786166 0.31737725\n",
      "  0.36665789 0.30584812 0.69025962 0.76020288 0.54696832 0.58296216\n",
      "  0.58848384 0.30404611 0.72226072 0.25111509 0.90959939 0.41195956\n",
      "  0.91710318 0.23458118 0.08712272 0.76116217]\n",
      " [0.29977159 0.66462692 0.28058464 0.58047945 0.7784365  0.17267148\n",
      "  0.30576823 0.17730474 0.         0.82757796 0.87476123 0.86835064\n",
      "  0.49768933 0.7373017  0.54297204 0.84959531 0.53045475 0.75509975\n",
      "  0.17149931 0.87053762 0.27309718 0.34592154 1.07247139 0.73226857\n",
      "  0.30820073 0.32810186 0.10625428 0.53871206 0.46113547 0.30456443\n",
      "  0.06588018 0.816996   0.124902   0.8610862  0.68947328 0.36554685\n",
      "  0.84883509 0.94828773 0.49283675 0.58546061 0.12066606 0.21489097\n",
      "  0.59203461 0.37198927 0.34800425 0.49872862 0.76147834 0.74686815\n",
      "  0.27626684 0.78588459 0.84516695 0.27117537 0.18283732 0.37626238\n",
      "  0.60662587 0.57556933 0.62326277 0.5370876  0.56565416 0.96592649\n",
      "  0.69883779 0.79815128 0.22928434 0.74688862 0.28502319 0.68156505\n",
      "  0.66917014 0.81195894 0.63565167 0.18282359 0.24323046 0.55601903\n",
      "  0.71558347 0.47924602 0.18645648 0.49258297 0.74862128 0.40829519\n",
      "  0.90150194 0.36158429 0.55049077 0.89737892 0.75191193 0.41556862\n",
      "  0.53842022 0.44225513 0.70698021 0.74323468 0.59041574 0.7172826\n",
      "  0.75106194 0.30931982 0.77487341 0.41856009 1.03568806 0.51902784\n",
      "  1.04838714 0.32349836 0.12310478 0.92275258]\n",
      " [0.81546575 0.22601663 0.62680606 0.81157617 0.19498368 0.90544842\n",
      "  0.57149784 0.65345501 0.82757796 0.         0.61272066 0.45207335\n",
      "  0.45855012 0.91805874 0.64715158 0.58745781 1.02648322 0.08263731\n",
      "  0.94706533 0.58516002 0.5718455  0.9769816  0.78480468 0.63133315\n",
      "  0.8466672  0.53049098 0.72298374 0.4902657  0.3784916  0.75351491\n",
      "  0.87133394 0.05954353 0.95200271 0.70298079 1.20972892 0.4649652\n",
      "  0.26840964 0.62881726 0.3624339  0.66831359 0.78936598 0.62317818\n",
      "  0.35500986 0.91699032 0.49589322 0.42886541 0.32745466 0.88833583\n",
      "  0.71306958 1.04810462 0.60897832 0.63543492 0.70541679 0.49629862\n",
      "  0.24891427 1.08526703 1.09636804 0.32444611 0.78694308 0.85472107\n",
      "  0.40788454 0.16156783 0.7106826  1.07876331 0.59781139 0.60988391\n",
      "  1.16444232 0.24997008 0.26566189 0.94548043 0.84460522 0.27172991\n",
      "  1.07360958 0.73388218 0.67902728 0.57408874 0.48833677 0.98643416\n",
      "  0.70456007 0.46608376 0.32941457 0.54509287 0.93058232 0.68107171\n",
      "  0.2902438  0.44929225 1.06011917 1.18998561 0.90135981 0.60633414\n",
      "  0.16948976 0.83809243 0.98743929 0.47840358 0.82039472 0.6722677\n",
      "  0.79648379 0.59418538 0.71080011 0.48492701]\n",
      " [0.65284448 0.44663314 0.59577339 0.43261772 0.41855154 0.8302178\n",
      "  0.81599179 0.73131988 0.87476123 0.61272066 0.         0.1713905\n",
      "  0.40704515 0.43141964 0.35011984 0.03009155 0.70451218 0.55823727\n",
      "  0.88542906 0.02869177 0.7704956  0.7817306  0.21210462 0.15983511\n",
      "  0.67244052 0.77578555 0.78733718 0.34804422 0.55082662 0.60717166\n",
      "  0.94004695 0.66533696 0.97775501 0.10797161 0.83615211 0.62103695\n",
      "  0.35496233 0.07641516 0.712901   0.32062179 0.76755643 0.68927701\n",
      "  0.37902449 0.693868   0.73631228 0.42547458 0.28927161 0.39064886\n",
      "  0.61099492 0.55929264 0.03095948 0.60467871 0.87872    0.53965095\n",
      "  0.49100554 0.74718292 0.7277416  0.71294073 0.42230079 0.24498948\n",
      "  0.24569144 0.45117784 0.65033424 0.62225371 0.59909325 0.2019205\n",
      "  0.78721647 0.36412202 0.74666909 1.0540254  0.71829988 0.60139068\n",
      "  0.63571479 0.45294389 0.69121042 0.38227488 0.15536527 0.74586274\n",
      "  0.09345361 0.64759031 0.73969798 0.08823624 0.43659815 0.47906504\n",
      "  0.61655504 0.7891619  0.62412665 0.77184476 0.51586482 0.16453768\n",
      "  0.73489912 0.66420019 0.49063195 0.49288142 0.21595972 0.38320683\n",
      "  0.20417705 0.86434485 0.81843962 0.17132572]\n",
      " [0.69641782 0.3198275  0.59021267 0.534566   0.26312884 0.85780117\n",
      "  0.75027526 0.70590082 0.86835064 0.45207335 0.1713905  0.\n",
      "  0.37141769 0.57271474 0.4075108  0.15357308 0.80300571 0.40680724\n",
      "  0.91175771 0.14271257 0.71380052 0.84377741 0.3350108  0.26581088\n",
      "  0.72127969 0.70683622 0.7703433  0.33260147 0.47345653 0.64140299\n",
      "  0.93079579 0.50753074 0.98261987 0.27589105 0.95476413 0.5603681\n",
      "  0.18691398 0.17678193 0.61148458 0.39557604 0.77500268 0.66347984\n",
      "  0.29799391 0.76001352 0.66528293 0.37610541 0.15070048 0.53406135\n",
      "  0.63073824 0.70540606 0.17886996 0.6001087  0.83653577 0.50107025\n",
      "  0.3767578  0.85239998 0.84175619 0.60251004 0.51779616 0.41567146\n",
      "  0.17045459 0.29172027 0.66027467 0.7601683  0.58337372 0.28051453\n",
      "  0.90563899 0.20240462 0.61827136 1.03833423 0.75489689 0.49076637\n",
      "  0.76828695 0.5192176  0.68208313 0.39997686 0.13782047 0.82039097\n",
      "  0.26451885 0.58315378 0.62653928 0.09333453 0.58059726 0.51851478\n",
      "  0.50920744 0.69673934 0.75575739 0.90202679 0.62609038 0.25247497\n",
      "  0.58810331 0.71233553 0.63735326 0.45489288 0.36877282 0.44301332\n",
      "  0.34451187 0.79493136 0.79101921 0.05573077]\n",
      " [0.37387142 0.23554332 0.22373987 0.36873586 0.32564742 0.50607874\n",
      "  0.41098854 0.33518916 0.49768933 0.45855012 0.40704515 0.37141769\n",
      "  0.         0.50318532 0.20910561 0.3782596  0.56796571 0.37617683\n",
      "  0.55730519 0.3954093  0.36367131 0.53541439 0.6180405  0.30464146\n",
      "  0.40384627 0.37266289 0.39892689 0.0663751  0.16985619 0.31189016\n",
      "  0.55957038 0.48140877 0.61435265 0.43116688 0.7515751  0.2171071\n",
      "  0.37025869 0.47305347 0.34874278 0.24466546 0.41065565 0.29264429\n",
      "  0.11454352 0.46628312 0.33516938 0.03471811 0.2701516  0.48358946\n",
      "  0.28384603 0.62155247 0.38150589 0.23383995 0.47392655 0.13369702\n",
      "  0.21528103 0.62671733 0.63881488 0.36575335 0.34303636 0.57296603\n",
      "  0.20129611 0.35653811 0.30162773 0.63812111 0.212817   0.25676107\n",
      "  0.70679624 0.33799011 0.43721596 0.66706412 0.41787264 0.27456615\n",
      "  0.62785217 0.27779763 0.31209105 0.12158439 0.26151605 0.53502132\n",
      "  0.46106317 0.24493284 0.39486882 0.40996219 0.51787633 0.22295917\n",
      "  0.27869214 0.40593053 0.61446687 0.73653334 0.45223912 0.28047044\n",
      "  0.48677294 0.39480407 0.56984027 0.08652617 0.60385757 0.22518439\n",
      "  0.60398625 0.46026519 0.42118524 0.42638752]\n",
      " [0.43997062 0.69803531 0.53059631 0.16267359 0.73660407 0.61514075\n",
      "  0.83828563 0.67233303 0.7373017  0.91805874 0.43141964 0.57271474\n",
      "  0.50318532 0.         0.29493169 0.43247157 0.33341997 0.84220518\n",
      "  0.66390753 0.45311943 0.77949125 0.48829359 0.5098892  0.30952051\n",
      "  0.4392924  0.81392096 0.69397389 0.44715602 0.66726308 0.43574104\n",
      "  0.79895768 0.95536729 0.79594784 0.33367524 0.41763991 0.67765394\n",
      "  0.71726481 0.49178228 0.8434385  0.25936618 0.61699604 0.64254656\n",
      "  0.57401194 0.40833472 0.78784391 0.53779827 0.61321751 0.04128916\n",
      "  0.4761055  0.13388371 0.40838277 0.53363257 0.83061318 0.5748405\n",
      "  0.70410463 0.35614858 0.32116848 0.86577389 0.18405496 0.32044165\n",
      "  0.51700532 0.77368359 0.52645406 0.19086962 0.55737701 0.31356976\n",
      "  0.37052361 0.7073406  0.94039792 0.91366078 0.50481488 0.77764616\n",
      "  0.206827   0.2775846  0.60264016 0.38655598 0.45837713 0.4273201\n",
      "  0.37317558 0.70526684 0.89473152 0.51494169 0.01567946 0.35879568\n",
      "  0.78171317 0.88323294 0.19635142 0.34290223 0.15927817 0.32841478\n",
      "  0.98222857 0.43544308 0.06938491 0.5474902  0.4344886  0.28724921\n",
      "  0.46946028 0.88741824 0.74459111 0.59395092]\n",
      " [0.30279887 0.42155678 0.2799126  0.16454861 0.48329271 0.48109347\n",
      "  0.56591287 0.42729302 0.54297204 0.64715158 0.35011984 0.4075108\n",
      "  0.20910561 0.29493169 0.         0.33042319 0.40514898 0.56718652\n",
      "  0.53630436 0.35383943 0.5096459  0.43888231 0.53327969 0.19464785\n",
      "  0.3232636  0.53595422 0.46929691 0.15873634 0.37252219 0.25823452\n",
      "  0.60883667 0.67775163 0.63610313 0.3192253  0.57477081 0.39042015\n",
      "  0.49231643 0.42649868 0.54956973 0.04595002 0.42837983 0.38971886\n",
      "  0.29291831 0.3534256  0.50549029 0.24382178 0.38084451 0.27820662\n",
      "  0.26889129 0.41273607 0.31918669 0.28654362 0.58652951 0.28766415\n",
      "  0.41719733 0.45935791 0.45964434 0.57096889 0.13979241 0.42747182\n",
      "  0.2811628  0.51913593 0.31373221 0.43346152 0.29653645 0.14820769\n",
      "  0.5271644  0.47120997 0.64603445 0.72559021 0.36829042 0.48360054\n",
      "  0.42661757 0.1117461  0.37059368 0.09214476 0.26970099 0.41288242\n",
      "  0.36110378 0.41879556 0.59996311 0.39753396 0.30988501 0.13104093\n",
      "  0.48705031 0.59431383 0.41312815 0.54451929 0.25481134 0.1856042\n",
      "  0.69348357 0.31482613 0.36091537 0.25529272 0.49278447 0.03552855\n",
      "  0.50682961 0.61621434 0.51071417 0.45113529]\n",
      " [0.6331159  0.4176816  0.57000315 0.4224197  0.39281403 0.80881845\n",
      "  0.78661073 0.70421625 0.84959531 0.58745781 0.03009155 0.15357308\n",
      "  0.3782596  0.43247157 0.33042319 0.         0.6948092  0.53136627\n",
      "  0.8639852  0.02389733 0.74147274 0.7652867  0.24186534 0.14572823\n",
      "  0.65356227 0.74624966 0.76103619 0.3201215  0.52087394 0.58595807\n",
      "  0.91470848 0.6393548  0.95392125 0.12242307 0.83154174 0.59165181\n",
      "  0.33296476 0.0987487  0.6828214  0.30357754 0.74360727 0.66205576\n",
      "  0.34893295 0.67785184 0.70667432 0.39612108 0.26235288 0.39228622\n",
      "  0.58796459 0.56252447 0.02556269 0.57903266 0.85064436 0.51118568\n",
      "  0.4613356  0.73911053 0.72173132 0.68297536 0.4105573  0.26787221\n",
      "  0.21576498 0.42608976 0.62632626 0.62277092 0.57243666 0.18296857\n",
      "  0.78246171 0.34001104 0.71733328 1.02822771 0.69780834 0.57148994\n",
      "  0.63457679 0.43572704 0.66539912 0.35762061 0.12527374 0.73149252\n",
      "  0.11710378 0.61809537 0.70978071 0.08258571 0.43866003 0.45788077\n",
      "  0.58657558 0.75909851 0.62267194 0.77028946 0.50816295 0.14608335\n",
      "  0.70710779 0.64518627 0.49391135 0.46430598 0.2453047  0.36427822\n",
      "  0.23424548 0.83485463 0.7913355  0.16259134]\n",
      " [0.2638914  0.80274389 0.45317449 0.27240062 0.88059054 0.36741283\n",
      "  0.74107351 0.54765022 0.53045475 1.02648322 0.70451218 0.80300571\n",
      "  0.56796571 0.33341997 0.40514898 0.6948092  0.         0.94402721\n",
      "  0.40068541 0.71839765 0.6836984  0.1976184  0.82854325 0.54984074\n",
      "  0.23986541 0.73395122 0.53411839 0.54431155 0.68390066 0.30855618\n",
      "  0.57842999 1.04706662 0.54424283 0.62826613 0.189028   0.64567017\n",
      "  0.8969892  0.77639924 0.82922082 0.40815868 0.42791163 0.53734225\n",
      "  0.67606226 0.16158147 0.72387663 0.59798851 0.78551023 0.36700818\n",
      "  0.36165012 0.30440839 0.67560925 0.44954187 0.67893432 0.56173845\n",
      "  0.78060716 0.05970324 0.09394596 0.86452176 0.28602323 0.65024513\n",
      "  0.68623173 0.91498755 0.39676942 0.23964866 0.48833502 0.52362621\n",
      "  0.15173147 0.87442056 0.95863755 0.67879772 0.29408285 0.81092156\n",
      "  0.20346832 0.29929563 0.47454965 0.45682297 0.66741283 0.12784089\n",
      "  0.67255942 0.66626778 0.89026534 0.77364099 0.34104211 0.34567413\n",
      "  0.80588859 0.83384692 0.19944796 0.21474254 0.1922515  0.55554859\n",
      "  1.03668973 0.24361068 0.32851161 0.56102234 0.75928719 0.37195417\n",
      "  0.79047961 0.7821009  0.58912489 0.84014456]\n",
      " [0.73338285 0.14568203 0.54613041 0.73172987 0.14385314 0.82681661\n",
      "  0.51228296 0.5794072  0.75509975 0.08263731 0.55823727 0.40680724\n",
      "  0.37617683 0.84220518 0.56718652 0.53136627 0.94402721 0.\n",
      "  0.8695198  0.53171479 0.50664967 0.89508026 0.74181297 0.56220869\n",
      "  0.76455305 0.46953946 0.64966302 0.40951649 0.30021103 0.67134321\n",
      "  0.80133143 0.11369555 0.87989997 0.64249566 1.12758159 0.39025793\n",
      "  0.23529048 0.58243452 0.30886056 0.5898838  0.71183557 0.54744069\n",
      "  0.27438337 0.83451114 0.43249964 0.34627985 0.26903384 0.81363434\n",
      "  0.63145025 0.97111732 0.55131591 0.55491811 0.64184886 0.41557971\n",
      "  0.16660334 1.00287068 1.01440271 0.27632112 0.70689629 0.79602578\n",
      "  0.33900517 0.12083322 0.63026736 0.99976077 0.51782938 0.53739267\n",
      "  1.08245857 0.20731864 0.24151904 0.8802999  0.76353442 0.20340953\n",
      "  0.993804   0.65210513 0.60132739 0.49248042 0.42428673 0.90394431\n",
      "  0.64796047 0.39390385 0.28766772 0.49774482 0.85507338 0.59854012\n",
      "  0.22379095 0.39992079 0.98031447 1.10893821 0.82082268 0.53658829\n",
      "  0.18210297 0.75594255 0.91151338 0.39634409 0.77055484 0.59151045\n",
      "  0.74976324 0.53970409 0.64074037 0.44639629]\n",
      " [0.23905644 0.76019479 0.33644632 0.52314731 0.86873491 0.05522211\n",
      "  0.46832666 0.30269563 0.17149931 0.94706533 0.88542906 0.91175771\n",
      "  0.55730519 0.66390753 0.53630436 0.8639852  0.40068541 0.8695198\n",
      "  0.         0.88677687 0.42722415 0.20352136 1.06652766 0.73080595\n",
      "  0.22912385 0.48406921 0.24339267 0.58090014 0.56930911 0.27828263\n",
      "  0.19412131 0.94446502 0.14367141 0.8509627  0.53835743 0.48399824\n",
      "  0.9259987  0.96154219 0.63755482 0.57150054 0.15771607 0.32586654\n",
      "  0.66576752 0.26039406 0.49651854 0.56858595 0.82733431 0.68210415\n",
      "  0.28103577 0.68587388 0.85462361 0.32648273 0.35371703 0.46088502\n",
      "  0.70982098 0.43612114 0.48819698 0.68117941 0.51520803 0.93261082\n",
      "  0.7494831  0.89356824 0.2556782  0.6340934  0.35746599 0.6840535\n",
      "  0.52472203 0.89187911 0.78177753 0.28020113 0.1702484  0.68068867\n",
      "  0.5996806  0.44543784 0.26819374 0.51366475 0.7807172  0.27287353\n",
      "  0.89447912 0.48821145 0.69822898 0.92380653 0.67692986 0.40636546\n",
      "  0.66585172 0.59918167 0.59326465 0.60406092 0.5064208  0.72139431\n",
      "  0.89098914 0.23504336 0.68832608 0.49342649 1.01786669 0.50519588\n",
      "  1.03711594 0.49138547 0.28287389 0.96307501]\n",
      " [0.65642934 0.42274859 0.59058995 0.44603113 0.39132814 0.83163295\n",
      "  0.80209553 0.72351632 0.87053762 0.58516002 0.02869177 0.14271257\n",
      "  0.3954093  0.45311943 0.35383943 0.02389733 0.71839765 0.53171479\n",
      "  0.88677687 0.         0.75786417 0.78908986 0.22900428 0.1695711\n",
      "  0.67704988 0.76128083 0.78110527 0.33874804 0.53415699 0.60887769\n",
      "  0.93551452 0.6381543  0.97566462 0.13526257 0.85414206 0.60721653\n",
      "  0.3264747  0.07824509 0.69339662 0.32738465 0.76532839 0.68124325\n",
      "  0.36044139 0.70169101 0.72137019 0.41195212 0.26303933 0.41267581\n",
      "  0.61018995 0.582328   0.04483284 0.59971121 0.86867926 0.52877103\n",
      "  0.46892288 0.762452   0.74465634 0.69215075 0.43433219 0.27357677\n",
      "  0.22529023 0.42359254 0.64804926 0.64369978 0.59225231 0.20663658\n",
      "  0.80509281 0.3361786  0.72344056 1.04866346 0.72091768 0.58025078\n",
      "  0.65610212 0.45948866 0.68591245 0.37913296 0.13781481 0.75538905\n",
      "  0.12208301 0.63331825 0.71858358 0.06242552 0.45890583 0.48085237\n",
      "  0.59591958 0.77116336 0.64430076 0.79198232 0.53139881 0.16985738\n",
      "  0.70917903 0.66864921 0.51366661 0.48174253 0.24021782 0.38782489\n",
      "  0.22522063 0.84999972 0.81060587 0.14476713]\n",
      " [0.41982431 0.44601531 0.25124272 0.61829107 0.56025708 0.40386734\n",
      "  0.05951008 0.13927402 0.27309718 0.5718455  0.7704956  0.71380052\n",
      "  0.36367131 0.77949125 0.5096459  0.74147274 0.6836984  0.50664967\n",
      "  0.42722415 0.75786417 0.         0.54280953 0.98170922 0.66075106\n",
      "  0.4452834  0.05696158 0.18407492 0.42583053 0.24555395 0.38091356\n",
      "  0.3049483  0.55404989 0.39154205 0.79073989 0.86678433 0.15345079\n",
      "  0.64548585 0.83483193 0.22155842 0.55531884 0.28767878 0.14729948\n",
      "  0.41598431 0.52689014 0.07712647 0.34611765 0.58040577 0.77435056\n",
      "  0.32817857 0.86669009 0.74517603 0.25013321 0.13583323 0.23395798\n",
      "  0.38114491 0.73962303 0.7758516  0.2656776  0.59559757 0.92473848\n",
      "  0.54747373 0.5720047  0.2873912  0.85202276 0.22223817 0.61003611\n",
      "  0.83487862 0.60665321 0.36296266 0.3738882  0.40323439 0.30324764\n",
      "  0.82843219 0.50261528 0.20949645 0.4262115  0.62167852 0.58606109\n",
      "  0.8230616  0.13177457 0.27764611 0.76691441 0.79516837 0.42086695\n",
      "  0.28302735 0.17196379 0.81694403 0.89459009 0.66692807 0.63861345\n",
      "  0.48023907 0.44064277 0.83459085 0.27911912 0.96556423 0.50228836\n",
      "  0.9672387  0.10793598 0.149993   0.76943418]\n",
      " [0.16230593 0.76546339 0.35515492 0.37087667 0.86106182 0.17538683\n",
      "  0.59550966 0.40365237 0.34592154 0.9769816  0.7817306  0.84377741\n",
      "  0.53541439 0.48829359 0.43888231 0.7652867  0.1976184  0.89508026\n",
      "  0.20352136 0.78908986 0.54280953 0.         0.939595   0.62194079\n",
      "  0.13168603 0.59773811 0.37184158 0.53526674 0.60646169 0.22471612\n",
      "  0.38738582 0.9867348  0.34719276 0.72681292 0.34355708 0.54415402\n",
      "  0.89862673 0.85766001 0.72173494 0.46170917 0.26101785 0.4061633\n",
      "  0.64994909 0.08851996 0.59693418 0.55774742 0.7905984  0.51305035\n",
      "  0.26443815 0.49128899 0.75097613 0.34791013 0.51066438 0.4831094\n",
      "  0.72857431 0.23348271 0.28483655 0.76185354 0.37103057 0.78315062\n",
      "  0.69900161 0.89156409 0.27683741 0.4341389  0.38810233 0.58271145\n",
      "  0.32462257 0.86957736 0.86128718 0.48297913 0.14230473 0.73131837\n",
      "  0.39889061 0.32974842 0.33877867 0.4518567  0.70637766 0.06994819\n",
      "  0.77178308 0.55844932 0.78430463 0.83584995 0.49958163 0.32854307\n",
      "  0.72149235 0.70727935 0.39336367 0.40187346 0.32930999 0.61923743\n",
      "  0.95555673 0.14066496 0.50204059 0.49876841 0.88061308 0.40362009\n",
      "  0.90569436 0.6302393  0.42454742 0.88936713]\n",
      " [0.828608   0.64579519 0.79717669 0.57102146 0.5981247  1.01156533\n",
      "  1.02784044 0.9369161  1.07247139 0.78480468 0.21210462 0.3350108\n",
      "  0.6180405  0.5098892  0.53327969 0.24186534 0.82854325 0.74181297\n",
      "  1.06652766 0.22900428 0.98170922 0.939595   0.         0.3403472\n",
      "  0.84396351 0.98781443 0.98986276 0.55732916 0.76260666 0.79022008\n",
      "  1.13823959 0.84134951 1.16928516 0.21560322 0.92689931 0.83291738\n",
      "  0.51663299 0.16133277 0.9221774  0.49532601 0.96071276 0.89538314\n",
      "  0.58944237 0.85120024 0.94840561 0.63736165 0.4796627  0.47025393\n",
      "  0.80164281 0.61335632 0.23653534 0.80557677 1.0872989  0.74974613\n",
      "  0.69550447 0.86082879 0.83011553 0.92002125 0.56865623 0.20189986\n",
      "  0.45404928 0.62595926 0.84458702 0.689702   0.80359377 0.39091628\n",
      "  0.88025547 0.53660443 0.94700223 1.25381136 0.89662877 0.80786193\n",
      "  0.71273297 0.62236456 0.89226185 0.58188195 0.36636089 0.89377345\n",
      "  0.17227898 0.85959003 0.94607285 0.24548562 0.50850366 0.66424324\n",
      "  0.82401858 1.00013979 0.70366607 0.84575393 0.63674344 0.35558437\n",
      "  0.92292192 0.83649241 0.5498189  0.70330762 0.08443953 0.56219499\n",
      "  0.04241523 1.07632528 1.02383372 0.30047405]\n",
      " [0.49568641 0.42658703 0.45885597 0.2775181  0.44090424 0.67561281\n",
      "  0.71181442 0.60163953 0.73226857 0.63133315 0.15983511 0.26581088\n",
      "  0.30464146 0.30952051 0.19464785 0.14572823 0.54984074 0.56220869\n",
      "  0.73080595 0.1695711  0.66075106 0.62194079 0.3403472  0.\n",
      "  0.51417686 0.67543464 0.65156241 0.23858522 0.46913498 0.45286813\n",
      "  0.79807652 0.67553162 0.82945489 0.13145243 0.69185183 0.5204998\n",
      "  0.41028307 0.23574807 0.6446147  0.16152708 0.62047914 0.56103565\n",
      "  0.32156363 0.53403743 0.63906483 0.33201782 0.31130407 0.27262734\n",
      "  0.46165291 0.44323645 0.12921979 0.46691464 0.75609675 0.42692122\n",
      "  0.45162708 0.5953287  0.5803097  0.65413571 0.26493985 0.26853022\n",
      "  0.22360142 0.47762635 0.50424162 0.49483759 0.46790201 0.05172048\n",
      "  0.64267913 0.40392265 0.70748391 0.91391851 0.56220777 0.54891369\n",
      "  0.50247652 0.29360662 0.55337806 0.24415069 0.15067288 0.58636293\n",
      "  0.16944324 0.5487446  0.68272209 0.22388658 0.31867881 0.32550976\n",
      "  0.55957302 0.70898718 0.48995181 0.6363866  0.36531412 0.02658746\n",
      "  0.72238074 0.50609868 0.37627935 0.38317546 0.30802554 0.22596796\n",
      "  0.31669205 0.7617877  0.68791027 0.29433016]\n",
      " [0.03129585 0.63391946 0.23083884 0.29412809 0.72948069 0.17727836\n",
      "  0.50199169 0.30812597 0.30820073 0.8466672  0.67244052 0.72127969\n",
      "  0.40384627 0.4392924  0.3232636  0.65356227 0.23986541 0.76455305\n",
      "  0.22912385 0.67704988 0.4452834  0.13168603 0.84396351 0.51417686\n",
      "  0.         0.4969278  0.29597351 0.40582803 0.47937042 0.09330759\n",
      "  0.36530441 0.85790188 0.35667225 0.62859834 0.42158255 0.42393394\n",
      "  0.76845831 0.74884597 0.60533358 0.35272241 0.1945041  0.30038279\n",
      "  0.51838966 0.08203207 0.48992104 0.42607359 0.66127074 0.45491446\n",
      "  0.13731041 0.47796984 0.64148317 0.22480597 0.44134044 0.35522188\n",
      "  0.59795989 0.29452783 0.33332633 0.64365635 0.28620893 0.70405547\n",
      "  0.57152787 0.75989046 0.1612062  0.43962875 0.26527189 0.47081128\n",
      "  0.39004271 0.73884746 0.74152545 0.47703349 0.06626258 0.60550417\n",
      "  0.40939962 0.22190386 0.23578697 0.32448257 0.58497222 0.14698007\n",
      "  0.67286999 0.44101223 0.66757755 0.72001241 0.45301518 0.20282499\n",
      "  0.5968933  0.60064193 0.40018649 0.45367161 0.28569612 0.50806792\n",
      "  0.83105637 0.00914681 0.47036755 0.36826387 0.79190835 0.28934091\n",
      "  0.81293014 0.5423715  0.35107885 0.76879927]\n",
      " [0.47051146 0.42309084 0.29243556 0.65441069 0.53519286 0.46076029\n",
      "  0.0448537  0.19421267 0.32810186 0.53049098 0.77578555 0.70683622\n",
      "  0.37266289 0.81392096 0.53595422 0.74624966 0.73395122 0.46953946\n",
      "  0.48406921 0.76128083 0.05696158 0.59773811 0.98781443 0.67543464\n",
      "  0.4969278  0.         0.24101784 0.43747166 0.23341446 0.42837716\n",
      "  0.3562425  0.50885459 0.44436238 0.80356995 0.91844665 0.15557687\n",
      "  0.62446668 0.83704775 0.17242334 0.58096118 0.34416197 0.19671746\n",
      "  0.40957192 0.57883417 0.04186347 0.35061207 0.56780097 0.8064018\n",
      "  0.37512434 0.90623391 0.75186189 0.29276435 0.1760358  0.25116748\n",
      "  0.35718779 0.79058278 0.82537641 0.21572473 0.63090562 0.94219163\n",
      "  0.54459396 0.5436925  0.33720049 0.89514969 0.26062688 0.62577117\n",
      "  0.88548285 0.58552634 0.31032835 0.41664649 0.45731594 0.2677525\n",
      "  0.87277726 0.53908015 0.26173086 0.44880115 0.62381486 0.63932713\n",
      "  0.83366354 0.12826762 0.22497078 0.76569839 0.82958841 0.45715698\n",
      "  0.246507   0.11514527 0.86099865 0.94329989 0.70802127 0.65213869\n",
      "  0.42967519 0.4918817  0.87121715 0.29251712 0.97646801 0.53194374\n",
      "  0.97567009 0.08880315 0.20521581 0.76205479]\n",
      " [0.27754066 0.55850795 0.19276514 0.53240811 0.67248626 0.2209185\n",
      "  0.2288909  0.07105167 0.10625428 0.72298374 0.78733718 0.7703433\n",
      "  0.39892689 0.69397389 0.46929691 0.76103619 0.53411839 0.64966302\n",
      "  0.24339267 0.78110527 0.18407492 0.37184158 0.98986276 0.65156241\n",
      "  0.29597351 0.24101784 0.         0.44472353 0.35489081 0.26036218\n",
      "  0.16205329 0.71413604 0.23100951 0.78225877 0.70838854 0.25966397\n",
      "  0.74404104 0.85926882 0.39629078 0.5138958  0.11082547 0.10979963\n",
      "  0.48879313 0.37268313 0.25359159 0.39721337 0.65879748 0.69811595\n",
      "  0.21807008 0.75890033 0.7585048  0.18466432 0.14541042 0.27314538\n",
      "  0.50037232 0.58583617 0.62802635 0.4403007  0.51419781 0.89656558\n",
      "  0.60010166 0.69195389 0.16760769 0.73011119 0.18917549 0.6000766\n",
      "  0.68149142 0.7069035  0.54033373 0.26863016 0.24100499 0.45187082\n",
      "  0.70194839 0.42260481 0.09874388 0.40803573 0.65494741 0.42347516\n",
      "  0.82087034 0.2569821  0.4560666  0.8042366  0.70921541 0.34958423\n",
      "  0.43487291 0.35600212 0.69189177 0.74874131 0.55837027 0.63447024\n",
      "  0.652583   0.2939038  0.73900729 0.3170375  0.95840969 0.44982169\n",
      "  0.96817054 0.25926285 0.05510708 0.82527553]\n",
      " [0.37781013 0.26425765 0.25869457 0.32296221 0.33649487 0.52764306\n",
      "  0.4748771  0.38513049 0.53871206 0.4902657  0.34804422 0.33260147\n",
      "  0.0663751  0.44715602 0.15873634 0.3201215  0.54431155 0.40951649\n",
      "  0.58090014 0.33874804 0.42583053 0.53526674 0.55732916 0.23858522\n",
      "  0.40582803 0.43747166 0.44472353 0.         0.23500085 0.31837559\n",
      "  0.60243896 0.51933697 0.65065748 0.3661302  0.72281299 0.28217353\n",
      "  0.36363469 0.41693916 0.41348897 0.18789836 0.44244175 0.34273194\n",
      "  0.13525741 0.45940274 0.40061383 0.09689584 0.25545765 0.42499447\n",
      "  0.30070759 0.56975324 0.32118692 0.26843533 0.53067958 0.19257176\n",
      "  0.25879086 0.60161502 0.60844242 0.42858129 0.29783295 0.50673325\n",
      "  0.16892896 0.37067861 0.32783892 0.59218732 0.25559551 0.19039861\n",
      "  0.67649894 0.3360266  0.49547944 0.71324664 0.42996139 0.33256326\n",
      "  0.5848026  0.24620587 0.35234378 0.08779854 0.21028968 0.52620233\n",
      "  0.39730084 0.31029304 0.45766559 0.35952727 0.46140705 0.20907192\n",
      "  0.33878676 0.47223926 0.57132308 0.69973431 0.41130832 0.21476873\n",
      "  0.53601478 0.39668219 0.51502524 0.1467123  0.53993506 0.18202293\n",
      "  0.54157974 0.52451445 0.47213008 0.38573706]\n",
      " [0.44815036 0.20601408 0.25178811 0.5232811  0.32109091 0.52698386\n",
      "  0.27713791 0.28386238 0.46113547 0.3784916  0.55082662 0.47345653\n",
      "  0.16985619 0.66726308 0.37252219 0.52087394 0.68390066 0.30021103\n",
      "  0.56930911 0.53415699 0.24555395 0.60646169 0.76260666 0.46913498\n",
      "  0.47937042 0.23341446 0.35489081 0.23500085 0.         0.38831946\n",
      "  0.51249832 0.38156733 0.58586232 0.5907178  0.87248626 0.09857484\n",
      "  0.40151573 0.60826659 0.17892283 0.41157787 0.4116317  0.24899575\n",
      "  0.17691387 0.55523034 0.19182656 0.13825821 0.33557942 0.65017056\n",
      "  0.34253087 0.78005195 0.52904314 0.25972024 0.37707552 0.12435157\n",
      "  0.14555883 0.7436002  0.76469123 0.19852454 0.49759465 0.73737418\n",
      "  0.31314929 0.33798995 0.33419758 0.78858943 0.220762   0.42357666\n",
      "  0.83122648 0.36292341 0.28008839 0.60313757 0.46979405 0.12727374\n",
      "  0.77424993 0.41925589 0.30111807 0.28070911 0.3963794  0.62417376\n",
      "  0.61625761 0.11412347 0.22746863 0.53440691 0.68231759 0.34710443\n",
      "  0.12252348 0.24069712 0.76117706 0.8716594  0.59868271 0.44379648\n",
      "  0.35358497 0.47135129 0.7322482  0.12621865 0.75828751 0.38215817\n",
      "  0.75363805 0.32151197 0.35443016 0.52864283]\n",
      " [0.06241195 0.54074731 0.14523608 0.27647233 0.63728245 0.22306275\n",
      "  0.43973642 0.25182973 0.30456443 0.75351491 0.60717166 0.64140299\n",
      "  0.31189016 0.43574104 0.25823452 0.58595807 0.30855618 0.67134321\n",
      "  0.27828263 0.60887769 0.38091356 0.22471612 0.79022008 0.45286813\n",
      "  0.09330759 0.42837716 0.26036218 0.31837559 0.38831946 0.\n",
      "  0.36851127 0.76538557 0.38258775 0.57503119 0.49643905 0.33901197\n",
      "  0.67885475 0.68332662 0.52217183 0.29496899 0.18403606 0.23364533\n",
      "  0.42635662 0.16702405 0.41600082 0.33319954 0.57306184 0.4430445\n",
      "  0.05339284 0.4992569  0.57635291 0.14109468 0.40206843 0.26396823\n",
      "  0.50474149 0.36695426 0.39804797 0.5588536  0.26109771 0.66695043\n",
      "  0.48618691 0.66729345 0.0966115  0.47506976 0.18043661 0.4057855\n",
      "  0.46016205 0.64838692 0.65515778 0.48533174 0.11358349 0.51508139\n",
      "  0.44943635 0.17640709 0.17758719 0.24152252 0.50722276 0.23585504\n",
      "  0.61795521 0.3584259  0.58380847 0.64747215 0.45074411 0.12812017\n",
      "  0.50736759 0.52555516 0.43844787 0.51506215 0.29827461 0.44311719\n",
      "  0.74116553 0.08461017 0.47879749 0.27514743 0.74500623 0.22802928\n",
      "  0.76211459 0.48405779 0.31314294 0.69086103]\n",
      " [0.35964919 0.71772652 0.34508844 0.64354471 0.83227723 0.21214283\n",
      "  0.32710361 0.23143674 0.06588018 0.87133394 0.94004695 0.93079579\n",
      "  0.55957038 0.79895768 0.60883667 0.91470848 0.57842999 0.80133143\n",
      "  0.19412131 0.93551452 0.3049483  0.38738582 1.13823959 0.79807652\n",
      "  0.36530441 0.3562425  0.16205329 0.60243896 0.51249832 0.36851127\n",
      "  0.         0.85724639 0.09077907 0.92695863 0.72895394 0.41502032\n",
      "  0.90555176 1.01335859 0.52645762 0.65125434 0.18457204 0.27173483\n",
      "  0.65084517 0.42353588 0.38191563 0.55898999 0.82084083 0.80964359\n",
      "  0.34181722 0.84308548 0.91054059 0.33584409 0.19081252 0.43518015\n",
      "  0.65791706 0.62021472 0.66984824 0.57050167 0.62935236 1.03144314\n",
      "  0.76086601 0.85046516 0.2951276  0.80095123 0.34762554 0.74732476\n",
      "  0.711996   0.86820984 0.66655835 0.1172547  0.29928465 0.59976924\n",
      "  0.7687055  0.54393327 0.25020603 0.55800009 0.81259371 0.45322861\n",
      "  0.96733659 0.40776734 0.5811789  0.96156075 0.81338902 0.48123087\n",
      "  0.58112019 0.46675142 0.76065745 0.78860189 0.64986853 0.78297364\n",
      "  0.78504932 0.36728355 0.834616   0.4787656  1.10156374 0.58475461\n",
      "  1.11424448 0.33521056 0.16063397 0.98545348]\n",
      " [0.82660697 0.25762498 0.63310177 0.84222523 0.24682619 0.90526804\n",
      "  0.54779424 0.64612849 0.816996   0.05954353 0.66533696 0.50753074\n",
      "  0.48140877 0.95536729 0.67775163 0.6393548  1.04706662 0.11369555\n",
      "  0.94446502 0.6381543  0.55404989 0.9867348  0.84134951 0.67553162\n",
      "  0.85790188 0.50885459 0.71413604 0.51933697 0.38156733 0.76538557\n",
      "  0.85724639 0.         0.94042395 0.75288265 1.2323767  0.46046719\n",
      "  0.32582357 0.68428431 0.33724159 0.70188989 0.78729816 0.6187726\n",
      "  0.38497254 0.93084274 0.47709325 0.44975376 0.3776063  0.92710456\n",
      "  0.72230303 1.08377055 0.66019178 0.64120172 0.68485635 0.50368828\n",
      "  0.26663117 1.10631603 1.12009468 0.29609446 0.8171628  0.90565695\n",
      "  0.45209484 0.21583951 0.71576146 1.11097715 0.60231793 0.65108641\n",
      "  1.18801476 0.30512983 0.22397618 0.92548356 0.85126131 0.26379537\n",
      "  1.10413923 0.75897005 0.67784517 0.60023762 0.5359507  1.00026489\n",
      "  0.75637109 0.45791647 0.29631182 0.600142   0.96833819 0.70151907\n",
      "  0.27947061 0.41898091 1.09065919 1.21716786 0.93024229 0.65001403\n",
      "  0.11531514 0.84956681 1.02463113 0.49111521 0.87496583 0.70087003\n",
      "  0.85202514 0.56614917 0.69757662 0.54210113]\n",
      " [0.35888339 0.78880026 0.39241362 0.64784596 0.90225715 0.18268846\n",
      "  0.41683733 0.30200324 0.124902   0.95200271 0.97775501 0.98261987\n",
      "  0.61435265 0.79594784 0.63610313 0.95392125 0.54424283 0.87989997\n",
      "  0.14367141 0.97566462 0.39154205 0.34719276 1.16928516 0.82945489\n",
      "  0.35667225 0.44436238 0.23100951 0.65065748 0.58586232 0.38258775\n",
      "  0.09077907 0.94042395 0.         0.95518619 0.67894773 0.4904488\n",
      "  0.97094465 1.05259606 0.61291497 0.67574477 0.21033735 0.33855613\n",
      "  0.71267664 0.40003875 0.46793687 0.61795178 0.88115171 0.81106204\n",
      "  0.36781531 0.82584875 0.947541   0.38251137 0.28154181 0.49754254\n",
      "  0.73128744 0.57953849 0.63181559 0.6571111  0.63683796 1.04916619\n",
      "  0.81444416 0.92249202 0.32761569 0.77637235 0.40197908 0.78006979\n",
      "  0.66721774 0.93444055 0.75427937 0.13839044 0.2916292  0.68032637\n",
      "  0.74232744 0.55825301 0.30265779 0.59659173 0.85879809 0.41647629\n",
      "  0.99718928 0.48621076 0.66888863 1.00631294 0.8095972  0.50540321\n",
      "  0.66244782 0.55612899 0.73558521 0.7472218  0.64098364 0.8167308\n",
      "  0.87160514 0.36080095 0.82476941 0.53821515 1.12693146 0.60854198\n",
      "  1.14273078 0.42597351 0.24327378 1.03629073]\n",
      " [0.61301398 0.51907362 0.58970262 0.36216356 0.50802661 0.79602829\n",
      "  0.84087021 0.73301874 0.8610862  0.70298079 0.10797161 0.27589105\n",
      "  0.43116688 0.33367524 0.3192253  0.12242307 0.62826613 0.64249566\n",
      "  0.8509627  0.13526257 0.79073989 0.72681292 0.21560322 0.13145243\n",
      "  0.62859834 0.80356995 0.78225877 0.3661302  0.5907178  0.57503119\n",
      "  0.92695863 0.75288265 0.95518619 0.         0.74648857 0.64814673\n",
      "  0.45398547 0.15829811 0.76238462 0.28006338 0.74753966 0.69247642\n",
      "  0.43101324 0.63829665 0.76633599 0.45615127 0.375613   0.29240716\n",
      "  0.58810157 0.45731227 0.097577   0.59760295 0.8875098  0.55678195\n",
      "  0.55469219 0.66618688 0.64178661 0.76807086 0.35711557 0.15451183\n",
      "  0.31071537 0.5425762  0.63225549 0.5239645  0.5992899  0.18316019\n",
      "  0.69808788 0.45863415 0.81272737 1.0432476  0.68103013 0.6593093\n",
      "  0.54019436 0.4068604  0.68386196 0.3754439  0.21971032 0.68380747\n",
      "  0.04505567 0.67608818 0.79603278 0.1961958  0.33711822 0.44979354\n",
      "  0.67207076 0.83140929 0.52925666 0.67644142 0.43636933 0.15215849\n",
      "  0.81361442 0.62105975 0.38893691 0.51222534 0.17658815 0.3471193\n",
      "  0.187605   0.8906064  0.8191913  0.27929712]\n",
      " [0.44820967 0.98468929 0.64148101 0.42224548 1.05690319 0.51813755\n",
      "  0.92308085 0.72894263 0.68947328 1.20972892 0.83615211 0.95476413\n",
      "  0.7515751  0.41763991 0.57477081 0.83154174 0.189028   1.12758159\n",
      "  0.53835743 0.85414206 0.86678433 0.34355708 0.92689931 0.69185183\n",
      "  0.42158255 0.91844665 0.70838854 0.72281299 0.87248626 0.49643905\n",
      "  0.72895394 1.2323767  0.67894773 0.74648857 0.         0.83443908\n",
      "  1.06555161 0.90251664 1.01795855 0.56907438 0.59883477 0.72178814\n",
      "  0.85669296 0.33990426 0.9101993  0.78264896 0.95440225 0.45819179\n",
      "  0.54915494 0.32605822 0.80968167 0.63753199 0.85085634 0.75065432\n",
      "  0.96574612 0.12966902 0.11514935 1.05348044 0.44207856 0.73255829\n",
      "  0.85403009 1.09216526 0.58172437 0.24458952 0.67667973 0.67487598\n",
      "  0.04917336 1.04577703 1.14765766 0.81721929 0.46788841 0.99935525\n",
      "  0.21590756 0.47673678 0.65731158 0.63655975 0.82376849 0.2850423\n",
      "  0.78807455 0.85470059 1.07913266 0.91330604 0.41839968 0.53124905\n",
      "  0.9946234  1.02058069 0.22379164 0.10315202 0.3291391  0.7025221\n",
      "  1.2248291  0.42657608 0.38074823 0.7489661  0.8495766  0.54425475\n",
      "  0.88598881 0.96214695 0.76264535 0.98618137]\n",
      " [0.3936735  0.30455727 0.1939941  0.52313278 0.41965222 0.44559221\n",
      "  0.19495949 0.18916895 0.36554685 0.4649652  0.62103695 0.5603681\n",
      "  0.2171071  0.67765394 0.39042015 0.59165181 0.64567017 0.39025793\n",
      "  0.48399824 0.60721653 0.15345079 0.54415402 0.83291738 0.5204998\n",
      "  0.42393394 0.15557687 0.25966397 0.28217353 0.09857484 0.33901197\n",
      "  0.41502032 0.46046719 0.4904488  0.64814673 0.83443908 0.\n",
      "  0.49931394 0.68358533 0.18355581 0.43412336 0.32694431 0.1585047\n",
      "  0.26266265 0.50398054 0.11864908 0.19556561 0.42852051 0.66624946\n",
      "  0.2878721  0.77961624 0.5967197  0.19926617 0.28047988 0.10306255\n",
      "  0.24313984 0.7047721  0.73201399 0.21996888 0.49835026 0.78791767\n",
      "  0.39424781 0.43602304 0.26731725 0.77789338 0.15897982 0.47126842\n",
      "  0.79636465 0.46087843 0.31770994 0.50456274 0.4031103  0.1967102\n",
      "  0.75939837 0.41079778 0.21827109 0.300244   0.47022601 0.57090035\n",
      "  0.67808678 0.02866317 0.24482978 0.61424062 0.69318206 0.33105578\n",
      "  0.18257127 0.20565815 0.74685927 0.8448186  0.58753869 0.49693477\n",
      "  0.41361571 0.41685113 0.73861754 0.13898399 0.82089117 0.39111833\n",
      "  0.82027604 0.24355818 0.25616285 0.61601496]\n",
      " [0.73968201 0.20157574 0.58988205 0.64530919 0.09861289 0.8756566\n",
      "  0.66931953 0.67411871 0.84883509 0.26840964 0.35496233 0.18691398\n",
      "  0.37025869 0.71726481 0.49231643 0.33296476 0.8969892  0.23529048\n",
      "  0.9259987  0.3264747  0.64548585 0.89862673 0.51663299 0.41028307\n",
      "  0.76845831 0.62446668 0.74404104 0.36363469 0.40151573 0.67885475\n",
      "  0.90555176 0.32582357 0.97094465 0.45398547 1.06555161 0.49931394\n",
      "  0.         0.36241691 0.49516608 0.49702986 0.77531203 0.63430032\n",
      "  0.26043501 0.82286148 0.58301177 0.35750172 0.11149054 0.68199272\n",
      "  0.65394561 0.85107199 0.35675383 0.59992866 0.77848802 0.47346873\n",
      "  0.26758231 0.95166772 0.95046763 0.4752772  0.62400776 0.59990929\n",
      "  0.21154129 0.11450645 0.67074628 0.89592796 0.57248559 0.40501631\n",
      "  1.01733031 0.03894265 0.46766939 1.00227478 0.78743662 0.37169621\n",
      "  0.89826056 0.59869943 0.6701713  0.44939411 0.25965649 0.88914197\n",
      "  0.44835953 0.51530017 0.49454941 0.28016068 0.72746597 0.57240953\n",
      "  0.39290043 0.58672289 0.88508399 1.02641639 0.73909758 0.3892889\n",
      "  0.4165605  0.75931684 0.78528092 0.43472992 0.55532194 0.52503846\n",
      "  0.52955925 0.70748882 0.75190469 0.21652102]\n",
      " [0.72924595 0.48450781 0.66854831 0.50543426 0.43920854 0.90634073\n",
      "  0.87827665 0.80175944 0.94828773 0.62881726 0.07641516 0.17678193\n",
      "  0.47305347 0.49178228 0.42649868 0.0987487  0.77639924 0.58243452\n",
      "  0.96154219 0.07824509 0.83483193 0.85766001 0.16133277 0.23574807\n",
      "  0.74884597 0.83704775 0.85926882 0.41693916 0.60826659 0.68332662\n",
      "  1.01335859 0.68428431 1.05259606 0.15829811 0.90251664 0.68358533\n",
      "  0.36241691 0.         0.76354081 0.39688071 0.84229658 0.75948076\n",
      "  0.4329121  0.76967675 0.79682358 0.48873184 0.3184918  0.45054746\n",
      "  0.68637136 0.61530619 0.10737433 0.67762109 0.94661311 0.60656566\n",
      "  0.53493589 0.81750831 0.79594048 0.76005715 0.49621513 0.25904664\n",
      "  0.29639113 0.46845267 0.72502008 0.68222734 0.67046278 0.27831375\n",
      "  0.85384509 0.37917431 0.78568914 1.12670723 0.79462163 0.64777419\n",
      "  0.69803742 0.52917081 0.76391139 0.45636635 0.21336158 0.82093814\n",
      "  0.12353064 0.70935783 0.78579985 0.08473714 0.4954057  0.55520723\n",
      "  0.6643533  0.84336438 0.68693347 0.83432925 0.58631819 0.24094008\n",
      "  0.76287831 0.7406113  0.54705308 0.55948319 0.19339502 0.45962194\n",
      "  0.16774085 0.92583224 0.88884694 0.15210163]\n",
      " [0.57554644 0.29838528 0.37695228 0.69515806 0.39896116 0.60668015\n",
      "  0.21055417 0.33532279 0.49283675 0.3624339  0.712901   0.61148458\n",
      "  0.34874278 0.8434385  0.54956973 0.6828214  0.82922082 0.30886056\n",
      "  0.63755482 0.69339662 0.22155842 0.72173494 0.9221774  0.6446147\n",
      "  0.60533358 0.17242334 0.39629078 0.41348897 0.17892283 0.52217183\n",
      "  0.52645762 0.33724159 0.61291497 0.76238462 1.01795855 0.18355581\n",
      "  0.49516608 0.76354081 0.         0.58968503 0.48665021 0.31947105\n",
      "  0.33420725 0.6861275  0.14501682 0.31659376 0.46256563 0.8277109\n",
      "  0.47047117 0.95255864 0.6938613  0.38165317 0.34832217 0.27625474\n",
      "  0.23577757 0.8882957  0.91541887 0.04425292 0.66974534 0.91173682\n",
      "  0.46814275 0.39951378 0.44608011 0.95587428 0.34177593 0.60055644\n",
      "  0.97990089 0.45720475 0.14422438 0.58879994 0.57957494 0.12382798\n",
      "  0.93895015 0.58644883 0.38602147 0.45744011 0.55761831 0.75222108\n",
      "  0.784844   0.16432506 0.06257625 0.68444433 0.85865848 0.50922177\n",
      "  0.10340194 0.09258508 0.92619501 1.02761583 0.76522678 0.61879216\n",
      "  0.25870469 0.5985712  0.9073008  0.29640689 0.92519223 0.55674952\n",
      "  0.91706156 0.23198264 0.37025069 0.66393557]\n",
      " [0.33482965 0.44440626 0.3253866  0.1485254  0.49701043 0.5164388\n",
      "  0.61138043 0.47291109 0.58546061 0.66831359 0.32062179 0.39557604\n",
      "  0.24466546 0.25936618 0.04595002 0.30357754 0.40815868 0.5898838\n",
      "  0.57150054 0.32738465 0.55531884 0.46170917 0.49532601 0.16152708\n",
      "  0.35272241 0.58096118 0.5138958  0.18789836 0.41157787 0.29496899\n",
      "  0.65125434 0.70188989 0.67574477 0.28006338 0.56907438 0.43412336\n",
      "  0.49702986 0.39688071 0.58968503 0.         0.46952278 0.43554552\n",
      "  0.31756561 0.37437645 0.54995037 0.27908523 0.38638367 0.23897263\n",
      "  0.31005243 0.38276761 0.28973652 0.33183647 0.63230526 0.33174442\n",
      "  0.44585146 0.45940713 0.45420156 0.60947892 0.12705213 0.38267271\n",
      "  0.28588973 0.53353914 0.35622485 0.41062549 0.34244135 0.12135773\n",
      "  0.52060907 0.47908564 0.68154972 0.76824482 0.40204234 0.51865879\n",
      "  0.40733261 0.13233434 0.41529282 0.13409112 0.25928965 0.42965391\n",
      "  0.32311061 0.4626167  0.63855834 0.37561899 0.27376565 0.17069478\n",
      "  0.52333905 0.63709333 0.39389362 0.53094037 0.24219253 0.15754682\n",
      "  0.72364538 0.34470268 0.32712946 0.29759846 0.45141278 0.06720387\n",
      "  0.46727391 0.66171377 0.55598001 0.43536825]\n",
      " [0.18196608 0.60433188 0.18691817 0.45981501 0.71426017 0.12012302\n",
      "  0.33705844 0.15246952 0.12066606 0.78936598 0.76755643 0.77500268\n",
      "  0.41065565 0.61699604 0.42837983 0.74360727 0.42791163 0.71183557\n",
      "  0.15771607 0.76532839 0.28767878 0.26101785 0.96071276 0.62047914\n",
      "  0.1945041  0.34416197 0.11082547 0.44244175 0.4116317  0.18403606\n",
      "  0.18457204 0.78729816 0.21033735 0.74753966 0.59883477 0.32694431\n",
      "  0.77531203 0.84229658 0.48665021 0.46952278 0.         0.16975196\n",
      "  0.51496691 0.26645249 0.35009867 0.41827585 0.68022287 0.62622186\n",
      "  0.15954413 0.6691182  0.73741132 0.1768162  0.25216198 0.30543222\n",
      "  0.55273071 0.47786695 0.52180934 0.52957146 0.44506765 0.84790033\n",
      "  0.60836769 0.73807509 0.11728317 0.63386244 0.20317551 0.57063664\n",
      "  0.57326097 0.74022618 0.63044724 0.30162001 0.13389359 0.52363119\n",
      "  0.60389125 0.35941006 0.11052401 0.38626015 0.64928414 0.3137941\n",
      "  0.78892212 0.3325658  0.5483635  0.79633505 0.63168666 0.2988709\n",
      "  0.50924644 0.45749416 0.59459558 0.64260315 0.47178271 0.60708751\n",
      "  0.7366288  0.19419496 0.65576581 0.34073722 0.92081292 0.4025628\n",
      "  0.93513398 0.36968651 0.16403118 0.82810772]\n",
      " [0.27379478 0.4502931  0.11278005 0.48007608 0.56372944 0.28954455\n",
      "  0.20612618 0.04257586 0.21489097 0.62317818 0.68927701 0.66347984\n",
      "  0.29264429 0.64254656 0.38971886 0.66205576 0.53734225 0.54744069\n",
      "  0.32586654 0.68124325 0.14729948 0.4061633  0.89538314 0.56103565\n",
      "  0.30038279 0.19671746 0.10979963 0.34273194 0.24899575 0.23364533\n",
      "  0.27173483 0.6187726  0.33855613 0.69247642 0.72178814 0.1585047\n",
      "  0.63430032 0.75948076 0.31947105 0.43554552 0.16975196 0.\n",
      "  0.37921181 0.38236725 0.19104133 0.28867995 0.54934326 0.64079853\n",
      "  0.18109023 0.72354134 0.6612981  0.10895768 0.19690837 0.16391961\n",
      "  0.39370084 0.59386701 0.62906645 0.36160196 0.45869873 0.81534712\n",
      "  0.49303421 0.58408763 0.14058392 0.70608139 0.09373365 0.50931886\n",
      "  0.68880989 0.5972438  0.46238693 0.37504947 0.26414914 0.35498044\n",
      "  0.68185706 0.36505308 0.0674249  0.31734689 0.55184213 0.4439477\n",
      "  0.72906099 0.16281408 0.38177576 0.70107576 0.65815825 0.28493131\n",
      "  0.33998559 0.30173842 0.67051637 0.74749842 0.52281879 0.54196052\n",
      "  0.56697322 0.29521227 0.6946401  0.20882768 0.86906008 0.37612831\n",
      "  0.87599474 0.25133289 0.12939816 0.71870597]\n",
      " [0.48839475 0.12900049 0.32948889 0.4574612  0.2111205  0.61586084\n",
      "  0.45263626 0.42043442 0.59203461 0.35500986 0.37902449 0.29799391\n",
      "  0.11454352 0.57401194 0.29291831 0.34893295 0.67606226 0.27438337\n",
      "  0.66576752 0.36044139 0.41598431 0.64994909 0.58944237 0.32156363\n",
      "  0.51838966 0.40957192 0.48879313 0.13525741 0.17691387 0.42635662\n",
      "  0.65084517 0.38497254 0.71267664 0.43101324 0.85669296 0.26266265\n",
      "  0.26043501 0.4329121  0.33420725 0.31756561 0.51496691 0.37921181\n",
      "  0.         0.58011577 0.36828069 0.09719039 0.17027444 0.54836627\n",
      "  0.39682801 0.7002123  0.35965572 0.33952423 0.54092787 0.21582027\n",
      "  0.1322839  0.734071   0.74268589 0.33722473 0.43255217 0.58306468\n",
      "  0.13672391 0.2424551  0.41089212 0.72600503 0.31241895 0.2846625\n",
      "  0.81077576 0.22618615 0.38592534 0.75246366 0.53132176 0.22857084\n",
      "  0.71950559 0.38001955 0.41073949 0.22013332 0.22365923 0.64858137\n",
      "  0.45128809 0.28515989 0.36505015 0.35769515 0.58759316 0.33390753\n",
      "  0.24107536 0.4107622  0.706018   0.83498044 0.54648571 0.29500836\n",
      "  0.4095951  0.50934641 0.64285565 0.17479119 0.59105514 0.31727312\n",
      "  0.58307878 0.49804373 0.50225207 0.35354434]\n",
      " [0.11064045 0.70009639 0.31014963 0.28345111 0.79075646 0.21779111\n",
      "  0.58324177 0.38915408 0.37198927 0.91699032 0.693868   0.76001352\n",
      "  0.46628312 0.40833472 0.3534256  0.67785184 0.16158147 0.83451114\n",
      "  0.26039406 0.70169101 0.52689014 0.08851996 0.85120024 0.53403743\n",
      "  0.08203207 0.57883417 0.37268313 0.45940274 0.55523034 0.16702405\n",
      "  0.42353588 0.93084274 0.40003875 0.63829665 0.33990426 0.50398054\n",
      "  0.82286148 0.76967675 0.6861275  0.37437645 0.26645249 0.38236725\n",
      "  0.58011577 0.         0.57193302 0.4914343  0.71346978 0.43049729\n",
      "  0.21617497 0.42591247 0.66317136 0.3047369  0.51737282 0.43088906\n",
      "  0.66810796 0.21388838 0.25552677 0.72392021 0.28277863 0.69660821\n",
      "  0.61960256 0.82256404 0.24316545 0.3780578  0.34501527 0.49561376\n",
      "  0.3096196  0.79529686 0.82114357 0.52939795 0.13256583 0.68208379\n",
      "  0.34527799 0.24302725 0.31744376 0.37373599 0.62230061 0.06946567\n",
      "  0.6832643  0.52183112 0.74821731 0.74932241 0.42051575 0.25045326\n",
      "  0.67436324 0.68263745 0.33753205 0.37632327 0.2492177  0.53190728\n",
      "  0.90818944 0.08788226 0.42855348 0.43976746 0.79276641 0.31796541\n",
      "  0.81747464 0.62288273 0.42764096 0.80452931]\n",
      " [0.46216352 0.38176642 0.27515595 0.62999261 0.49430307 0.46904474\n",
      "  0.08650061 0.19766722 0.34800425 0.49589322 0.73631228 0.66528293\n",
      "  0.33516938 0.78784391 0.50549029 0.70667432 0.72387663 0.43249964\n",
      "  0.49651854 0.72137019 0.07712647 0.59693418 0.94840561 0.63906483\n",
      "  0.48992104 0.04186347 0.25359159 0.40061383 0.19182656 0.41600082\n",
      "  0.38191563 0.47709325 0.46793687 0.76633599 0.9101993  0.11864908\n",
      "  0.58301177 0.79682358 0.14501682 0.54995037 0.35009867 0.19104133\n",
      "  0.36828069 0.57193302 0.         0.31179997 0.5259532  0.77869634\n",
      "  0.36263029 0.88399388 0.71277538 0.27684483 0.20968001 0.21839773\n",
      "  0.31594496 0.78144338 0.81404505 0.18925208 0.60595321 0.90656609\n",
      "  0.50365559 0.50352393 0.32880796 0.87622517 0.2415372  0.58991304\n",
      "  0.87560807 0.54406914 0.287776   0.44960899 0.45511551 0.22960814\n",
      "  0.85513248 0.51538784 0.25823623 0.41673339 0.58374635 0.63462131\n",
      "  0.79565234 0.09032397 0.20288556 0.72486942 0.80347368 0.43380634\n",
      "  0.20877046 0.11080406 0.84307487 0.93064542 0.68758974 0.61537578\n",
      "  0.40367145 0.4842525  0.84666663 0.25736905 0.93843636 0.50350813\n",
      "  0.93689453 0.12976349 0.22526414 0.72044879]\n",
      " [0.3955613  0.20866211 0.23238355 0.40317572 0.30518107 0.51870498\n",
      "  0.39051725 0.33078408 0.49872862 0.42886541 0.42547458 0.37610541\n",
      "  0.03471811 0.53779827 0.24382178 0.39612108 0.59798851 0.34627985\n",
      "  0.56858595 0.41195212 0.34611765 0.55774742 0.63736165 0.33201782\n",
      "  0.42607359 0.35061207 0.39721337 0.09689584 0.13825821 0.33319954\n",
      "  0.55898999 0.44975376 0.61795178 0.45615127 0.78264896 0.19556561\n",
      "  0.35750172 0.48873184 0.31659376 0.27908523 0.41827585 0.28867995\n",
      "  0.09719039 0.4914343  0.31179997 0.         0.26320266 0.51792317\n",
      "  0.30101133 0.65625434 0.40125789 0.24243604 0.4621619  0.12516754\n",
      "  0.18315819 0.65701539 0.67040603 0.33225815 0.37745341 0.60053459\n",
      "  0.20598132 0.33426584 0.31374561 0.67242736 0.21643663 0.28560773\n",
      "  0.73829006 0.32336641 0.40260423 0.66365001 0.43571255 0.23989018\n",
      "  0.6618181  0.31057087 0.31540781 0.15591459 0.27557213 0.56056319\n",
      "  0.48416027 0.22234445 0.36136857 0.42177145 0.55245914 0.25234753\n",
      "  0.24427489 0.37700044 0.64845248 0.76940376 0.48605362 0.30711841\n",
      "  0.45259111 0.4171399  0.60452599 0.08023313 0.62687288 0.25962982\n",
      "  0.62513884 0.438995   0.41513312 0.43165968]\n",
      " [0.63308169 0.16913828 0.49341974 0.53484576 0.13271172 0.77572804\n",
      "  0.61207047 0.59067774 0.76147834 0.32745466 0.28927161 0.15070048\n",
      "  0.2701516  0.61321751 0.38084451 0.26235288 0.78551023 0.26903384\n",
      "  0.82733431 0.26303933 0.58040577 0.7905984  0.4796627  0.31130407\n",
      "  0.66127074 0.56780097 0.65879748 0.25545765 0.33557942 0.57306184\n",
      "  0.82084083 0.3776063  0.88115171 0.375613   0.95440225 0.42852051\n",
      "  0.11149054 0.3184918  0.46256563 0.38638367 0.68022287 0.54934326\n",
      "  0.17027444 0.71346978 0.5259532  0.26320266 0.         0.57941061\n",
      "  0.55123605 0.74658193 0.28266504 0.50352747 0.70863277 0.38566263\n",
      "  0.22701348 0.840187   0.83928808 0.45219926 0.51320454 0.52805174\n",
      "  0.1004999  0.16825024 0.57167539 0.78853303 0.47950607 0.29967113\n",
      "  0.90627382 0.09425364 0.46858801 0.92271213 0.68332603 0.34082027\n",
      "  0.78965955 0.48735977 0.57859765 0.3397338  0.16285745 0.77920743\n",
      "  0.37909754 0.44863854 0.47596408 0.23422237 0.62412866 0.46314107\n",
      "  0.35971648 0.54945346 0.77640215 0.91663004 0.62857155 0.28820863\n",
      "  0.44632034 0.65212431 0.68192157 0.34306879 0.50272637 0.41355673\n",
      "  0.48402469 0.65465108 0.67241169 0.20151681]\n",
      " [0.45287899 0.67042258 0.52816291 0.16657527 0.70456393 0.63192329\n",
      "  0.83260169 0.67243714 0.74686815 0.88833583 0.39064886 0.53406135\n",
      "  0.48358946 0.04128916 0.27820662 0.39228622 0.36700818 0.81363434\n",
      "  0.68210415 0.41267581 0.77435056 0.51305035 0.47025393 0.27262734\n",
      "  0.45491446 0.8064018  0.69811595 0.42499447 0.65017056 0.4430445\n",
      "  0.80964359 0.92710456 0.81106204 0.29240716 0.45819179 0.66624946\n",
      "  0.68199272 0.45054746 0.8277109  0.23897263 0.62622186 0.64079853\n",
      "  0.54836627 0.43049729 0.77869634 0.51792317 0.57941061 0.\n",
      "  0.48013273 0.17134828 0.36800954 0.53193808 0.83186165 0.56318842\n",
      "  0.67954003 0.39296361 0.35997034 0.84831759 0.18396641 0.28373757\n",
      "  0.48460729 0.74163977 0.53061305 0.23188221 0.55313282 0.28047447\n",
      "  0.410798   0.67328849 0.92008814 0.92534826 0.51943326 0.75713218\n",
      "  0.24808926 0.27678743 0.60458355 0.37034786 0.4225352  0.45455748\n",
      "  0.33190948 0.69426136 0.87737874 0.47464947 0.04656096 0.3558707\n",
      "  0.76219725 0.87126082 0.2375267  0.38418947 0.18454505 0.29270475\n",
      "  0.95767151 0.45036473 0.10368707 0.53319062 0.39600579 0.27531596\n",
      "  0.43017024 0.88221463 0.74740722 0.55412821]\n",
      " [0.10639531 0.50530647 0.09397534 0.31434167 0.60617005 0.22716594\n",
      "  0.38719617 0.20173933 0.27626684 0.71306958 0.61099492 0.63073824\n",
      "  0.28384603 0.4761055  0.26889129 0.58796459 0.36165012 0.63145025\n",
      "  0.28103577 0.61018995 0.32817857 0.26443815 0.80164281 0.46165291\n",
      "  0.13731041 0.37512434 0.21807008 0.30070759 0.34253087 0.05339284\n",
      "  0.34181722 0.72230303 0.36781531 0.58810157 0.54915494 0.2878721\n",
      "  0.65394561 0.68637136 0.47047117 0.31005243 0.15954413 0.18109023\n",
      "  0.39682801 0.21617497 0.36263029 0.30101133 0.55123605 0.48013273\n",
      "  0.         0.54672499 0.58056436 0.08882068 0.35585556 0.21876041\n",
      "  0.46523162 0.41981259 0.45141509 0.50783913 0.2963031  0.68966113\n",
      "  0.46961345 0.63464691 0.05048233 0.52571724 0.12889377 0.41231106\n",
      "  0.51332406 0.6218135  0.60498392 0.45902846 0.13471968 0.46832496\n",
      "  0.50093818 0.20570824 0.1284934  0.23333394 0.50006209 0.28371925\n",
      "  0.62968631 0.30637553 0.53237062 0.64447405 0.49140818 0.13953537\n",
      "  0.45958531 0.47227829 0.48971291 0.56842825 0.3454165  0.44907759\n",
      "  0.69375782 0.12968902 0.52278154 0.2358336  0.76127611 0.24320809\n",
      "  0.77570585 0.43210694 0.26861493 0.68207945]\n",
      " [0.48715445 0.82614765 0.6154686  0.25740146 0.86885378 0.64330381\n",
      "  0.92616131 0.7482345  0.78588459 1.04810462 0.55929264 0.70540606\n",
      "  0.62155247 0.13388371 0.41273607 0.56252447 0.30440839 0.97111732\n",
      "  0.68587388 0.582328   0.86669009 0.49128899 0.61335632 0.44323645\n",
      "  0.47796984 0.90623391 0.75890033 0.56975324 0.78005195 0.4992569\n",
      "  0.84308548 1.08377055 0.82584875 0.45731227 0.32605822 0.77961624\n",
      "  0.85107199 0.61530619 0.95255864 0.38276761 0.6691182  0.72354134\n",
      "  0.7002123  0.42591247 0.88399388 0.65625434 0.74658193 0.17134828\n",
      "  0.54672499 0.         0.53790788 0.61670597 0.90131596 0.67854436\n",
      "  0.82837711 0.30405539 0.2555083  0.97798285 0.28284794 0.41377971\n",
      "  0.64971247 0.90590711 0.59513987 0.08154885 0.64581071 0.44692879\n",
      "  0.28495747 0.84077152 1.05731125 0.95305005 0.54381241 0.8955469\n",
      "  0.11417835 0.36910141 0.67518191 0.50140616 0.59226063 0.42299147\n",
      "  0.49355086 0.80613057 1.00661382 0.64457274 0.12484269 0.45024924\n",
      "  0.89794291 0.98464777 0.11134006 0.23482742 0.20130967 0.46229842\n",
      "  1.10571963 0.47656925 0.06866981 0.6565268  0.53261188 0.39824524\n",
      "  0.57140163 0.97372035 0.81227393 0.72478207]\n",
      " [0.62189544 0.43433934 0.56661828 0.40343757 0.41408578 0.79940873\n",
      "  0.79156516 0.70320698 0.84516695 0.60897832 0.03095948 0.17886996\n",
      "  0.38150589 0.40838277 0.31918669 0.02556269 0.67560925 0.55131591\n",
      "  0.85462361 0.04483284 0.74517603 0.75097613 0.23653534 0.12921979\n",
      "  0.64148317 0.75186189 0.7585048  0.32118692 0.52904314 0.57635291\n",
      "  0.91054059 0.66019178 0.947541   0.097577   0.80968167 0.5967197\n",
      "  0.35675383 0.10737433 0.6938613  0.28973652 0.73741132 0.6612981\n",
      "  0.35965572 0.66317136 0.71277538 0.40125789 0.28266504 0.36800954\n",
      "  0.58056436 0.53790788 0.         0.57543814 0.85170603 0.51338561\n",
      "  0.4756988  0.71897464 0.70051322 0.69547277 0.3925787  0.2457489\n",
      "  0.22939098 0.44788061 0.62023452 0.59891095 0.57061619 0.17098149\n",
      "  0.76065911 0.36262391 0.73268822 1.02478784 0.6873936  0.58453796\n",
      "  0.61127199 0.42206707 0.66205027 0.35258773 0.13724995 0.71549353\n",
      "  0.09686523 0.62359618 0.7226239  0.10668043 0.41429298 0.44825913\n",
      "  0.59901953 0.76840159 0.59947822 0.74716485 0.48776016 0.13359258\n",
      "  0.72570863 0.63324121 0.46926376 0.46684605 0.2316065  0.35224762\n",
      "  0.2246103  0.84023597 0.79030179 0.18773932]\n",
      " [0.19441891 0.43635398 0.01010801 0.37123362 0.54288151 0.27784389\n",
      "  0.30964166 0.14209614 0.27117537 0.63543492 0.60467871 0.6001087\n",
      "  0.23383995 0.53363257 0.28654362 0.57903266 0.44954187 0.55491811\n",
      "  0.32648273 0.59971121 0.25013321 0.34791013 0.80557677 0.46691464\n",
      "  0.22480597 0.29276435 0.18466432 0.26843533 0.25972024 0.14109468\n",
      "  0.33584409 0.64120172 0.38251137 0.59760295 0.63753199 0.19926617\n",
      "  0.59992866 0.67762109 0.38165317 0.33183647 0.1768162  0.10895768\n",
      "  0.33952423 0.3047369  0.27684483 0.24243604 0.50352747 0.53193808\n",
      "  0.08882068 0.61670597 0.57543814 0.         0.3023398  0.13937861\n",
      "  0.390459   0.50804327 0.53827593 0.41918408 0.34974781 0.71394\n",
      "  0.4322986  0.56874219 0.07538368 0.60261994 0.04049175 0.41546146\n",
      "  0.60103678 0.56549741 0.51673131 0.44935775 0.21007563 0.38349872\n",
      "  0.58001293 0.256105   0.08671551 0.2237152  0.47774502 0.37171547\n",
      "  0.63625653 0.21757063 0.44358412 0.62629481 0.54925192 0.17613039\n",
      "  0.37361721 0.38541531 0.56824625 0.65404704 0.41679752 0.45004674\n",
      "  0.60775839 0.21761898 0.58625778 0.16721094 0.77380444 0.27000601\n",
      "  0.78355423 0.35702398 0.22417185 0.6538394 ]\n",
      " [0.42278839 0.58033264 0.30774355 0.66807571 0.69498307 0.34692499\n",
      "  0.14018331 0.16025842 0.18283732 0.70541679 0.87872    0.83653577\n",
      "  0.47392655 0.83061318 0.58652951 0.85064436 0.67893432 0.64184886\n",
      "  0.35371703 0.86867926 0.13583323 0.51066438 1.0872989  0.75609675\n",
      "  0.44134044 0.1760358  0.14541042 0.53067958 0.37707552 0.40206843\n",
      "  0.19081252 0.68485635 0.28154181 0.8875098  0.85085634 0.28047988\n",
      "  0.77848802 0.94661311 0.34832217 0.63230526 0.25216198 0.19690837\n",
      "  0.54092787 0.51737282 0.20968001 0.4621619  0.70863277 0.83186165\n",
      "  0.35585556 0.90131596 0.85170603 0.3023398  0.         0.34023093\n",
      "  0.51598115 0.7298424  0.77287692 0.39124232 0.6482554  1.01217573\n",
      "  0.66755167 0.70748465 0.30644835 0.87465968 0.29054267 0.70445333\n",
      "  0.82533376 0.73980125 0.48316425 0.24062733 0.38512841 0.43857003\n",
      "  0.8469122  0.55507422 0.22803447 0.51332588 0.73539607 0.56585748\n",
      "  0.92307185 0.26319742 0.39842409 0.88330529 0.84606019 0.47743379\n",
      "  0.41806415 0.27963503 0.83671326 0.89365128 0.7002134  0.73618593\n",
      "  0.60417877 0.43931422 0.87862154 0.38740136 1.06396453 0.57203671\n",
      "  1.06948268 0.14447786 0.09036924 0.8922614 ]\n",
      " [0.32396907 0.29931046 0.13055454 0.42149896 0.40889228 0.41470973\n",
      "  0.2853724  0.20577997 0.37626238 0.49629862 0.53965095 0.50107025\n",
      "  0.13369702 0.5748405  0.28766415 0.51118568 0.56173845 0.41557971\n",
      "  0.46088502 0.52877103 0.23395798 0.4831094  0.74974613 0.42692122\n",
      "  0.35522188 0.25116748 0.27314538 0.19257176 0.12435157 0.26396823\n",
      "  0.43518015 0.50368828 0.49754254 0.55678195 0.75065432 0.10306255\n",
      "  0.47346873 0.60656566 0.27625474 0.33174442 0.30543222 0.16391961\n",
      "  0.21582027 0.43088906 0.21839773 0.12516754 0.38566263 0.56318842\n",
      "  0.21876041 0.67854436 0.51338561 0.13937861 0.34023093 0.\n",
      "  0.25122439 0.62137666 0.64445717 0.30665477 0.39647788 0.69203388\n",
      "  0.33072932 0.43278824 0.2147591  0.67971388 0.103702   0.37642208\n",
      "  0.71033534 0.43724838 0.39750207 0.53862585 0.34839274 0.25130171\n",
      "  0.66272593 0.31071526 0.1974174  0.19833575 0.39519604 0.49982294\n",
      "  0.58935689 0.13121738 0.33400553 0.54341935 0.59034368 0.232976\n",
      "  0.24460126 0.30840628 0.64995217 0.7539804  0.48906825 0.40465833\n",
      "  0.47758479 0.34713435 0.63629004 0.04717908 0.73173566 0.28809858\n",
      "  0.73410644 0.33560224 0.28999644 0.55654182]\n",
      " [0.5667992  0.06600675 0.38140563 0.58058767 0.17911307 0.66517462\n",
      "  0.40203304 0.42932624 0.60662587 0.24891427 0.49100554 0.3767578\n",
      "  0.21528103 0.70410463 0.41719733 0.4613356  0.78060716 0.16660334\n",
      "  0.70982098 0.46892288 0.38114491 0.72857431 0.69550447 0.45162708\n",
      "  0.59795989 0.35718779 0.50037232 0.25879086 0.14555883 0.50474149\n",
      "  0.65791706 0.26663117 0.73128744 0.55469219 0.96574612 0.24313984\n",
      "  0.26758231 0.53493589 0.23577757 0.44585146 0.55273071 0.39370084\n",
      "  0.1322839  0.66810796 0.31594496 0.18315819 0.22701348 0.67954003\n",
      "  0.46523162 0.82837711 0.4756988  0.390459   0.51598115 0.25122439\n",
      "  0.         0.83978738 0.85356088 0.22606818 0.5551492  0.70844458\n",
      "  0.24632569 0.19296672 0.46582289 0.85022026 0.35453881 0.41651297\n",
      "  0.92144821 0.22868902 0.25803519 0.74672276 0.59792213 0.11402165\n",
      "  0.84149316 0.49307861 0.44248288 0.33549803 0.33866371 0.73755988\n",
      "  0.57066114 0.2542865  0.25104777 0.45347177 0.71795995 0.43497454\n",
      "  0.13271276 0.3241887  0.82805459 0.95177384 0.66646899 0.42504333\n",
      "  0.27818487 0.5893427  0.77257831 0.22980611 0.70653503 0.43774232\n",
      "  0.69413768 0.43993451 0.49928516 0.42851993]\n",
      " [0.32007253 0.8611549  0.51189794 0.31848358 0.93750545 0.40809087\n",
      "  0.79651371 0.60262594 0.57556933 1.08526703 0.74718292 0.85239998\n",
      "  0.62671733 0.35614858 0.45935791 0.73911053 0.05970324 1.00287068\n",
      "  0.43612114 0.762452   0.73962303 0.23348271 0.86082879 0.5953287\n",
      "  0.29452783 0.79058278 0.58583617 0.60161502 0.7436002  0.36695426\n",
      "  0.62021472 1.10631603 0.57953849 0.66618688 0.12966902 0.7047721\n",
      "  0.95166772 0.81750831 0.8882957  0.45940713 0.47786695 0.59386701\n",
      "  0.734071   0.21388838 0.78144338 0.65701539 0.840187   0.39296361\n",
      "  0.41981259 0.30405539 0.71897464 0.50804327 0.7298424  0.62137666\n",
      "  0.83978738 0.         0.05490864 0.92383121 0.33463709 0.67637847\n",
      "  0.74045742 0.97215994 0.453468   0.22993553 0.54708939 0.57210054\n",
      "  0.09574401 0.92990627 1.01816584 0.71615555 0.34486674 0.87062478\n",
      "  0.19324686 0.35580435 0.53017714 0.51439608 0.71799696 0.16734747\n",
      "  0.70980124 0.72509657 0.94946451 0.81911757 0.36148752 0.40481298\n",
      "  0.86557154 0.89165273 0.19322312 0.16843858 0.23133083 0.60272221\n",
      "  1.09638524 0.29898043 0.33967916 0.6206926  0.78865793 0.42695578\n",
      "  0.82169028 0.83666151 0.64059999 0.88779897]\n",
      " [0.3564587  0.8709774  0.54129532 0.30801016 0.94199239 0.45805232\n",
      "  0.83357372 0.64057238 0.62326277 1.09636804 0.7277416  0.84175619\n",
      "  0.63881488 0.32116848 0.45964434 0.72173132 0.09394596 1.01440271\n",
      "  0.48819698 0.74465634 0.7758516  0.28483655 0.83011553 0.5803097\n",
      "  0.33332633 0.82537641 0.62802635 0.60844242 0.76469123 0.39804797\n",
      "  0.66984824 1.12009468 0.63181559 0.64178661 0.11514935 0.73201399\n",
      "  0.95046763 0.79594048 0.91541887 0.45420156 0.52180934 0.62906645\n",
      "  0.74268589 0.25552677 0.81404505 0.67040603 0.83928808 0.35997034\n",
      "  0.45141509 0.2555083  0.70051322 0.53827593 0.77287692 0.64445717\n",
      "  0.85356088 0.05490864 0.         0.94952462 0.32730443 0.64115764\n",
      "  0.7389359  0.97734437 0.48853531 0.17850595 0.57626727 0.56145063\n",
      "  0.06809292 0.93062768 1.04195872 0.76780056 0.3880089  0.89097213\n",
      "  0.14237947 0.3626836  0.56712055 0.5226117  0.70979883 0.21679236\n",
      "  0.68446707 0.75360705 0.97582757 0.80294395 0.32467183 0.42036111\n",
      "  0.88714913 0.92350505 0.1441934  0.12080287 0.21567083 0.58996272\n",
      "  1.1155955  0.33674885 0.29689485 0.63999507 0.75563032 0.42929053\n",
      "  0.79014026 0.87513015 0.68304571 0.87441884]\n",
      " [0.61353616 0.28440393 0.41395474 0.7208574  0.37751229 0.64966917\n",
      "  0.25249378 0.37871044 0.5370876  0.32444611 0.71294073 0.60251004\n",
      "  0.36575335 0.86577389 0.57096889 0.68297536 0.86452176 0.27632112\n",
      "  0.68117941 0.69215075 0.2656776  0.76185354 0.92002125 0.65413571\n",
      "  0.64365635 0.21572473 0.4403007  0.42858129 0.19852454 0.5588536\n",
      "  0.57050167 0.29609446 0.6571111  0.76807086 1.05348044 0.21996888\n",
      "  0.4752772  0.76005715 0.04425292 0.60947892 0.52957146 0.36160196\n",
      "  0.33722473 0.72392021 0.18925208 0.33225815 0.45219926 0.84831759\n",
      "  0.50783913 0.97798285 0.69547277 0.41918408 0.39124232 0.30665477\n",
      "  0.22606818 0.92383121 0.94952462 0.         0.69525341 0.9192882\n",
      "  0.4672629  0.3744645  0.48550526 0.98425327 0.37894549 0.61203582\n",
      "  1.01461116 0.43819434 0.10087815 0.63145017 0.61992512 0.112329\n",
      "  0.96847721 0.61443874 0.42768946 0.47922723 0.55839531 0.79063541\n",
      "  0.78827892 0.20341997 0.02911594 0.67925163 0.88081172 0.53898696\n",
      "  0.09645336 0.12494865 0.95557662 1.06035726 0.79378178 0.62794261\n",
      "  0.21456482 0.63667696 0.93073701 0.32180433 0.9270746  0.58047791\n",
      "  0.9169375  0.27042683 0.41449834 0.65355313]\n",
      " [0.27847359 0.56130066 0.34658062 0.02578141 0.62122667 0.46243544\n",
      "  0.65450198 0.48922189 0.56565416 0.78694308 0.42230079 0.51779616\n",
      "  0.34303636 0.18405496 0.13979241 0.4105573  0.28602323 0.70689629\n",
      "  0.51520803 0.43433219 0.59559757 0.37103057 0.56865623 0.26493985\n",
      "  0.28620893 0.63090562 0.51419781 0.29783295 0.49759465 0.26109771\n",
      "  0.62935236 0.8171628  0.63683796 0.35711557 0.44207856 0.49835026\n",
      "  0.62400776 0.49621513 0.66974534 0.12705213 0.44506765 0.45869873\n",
      "  0.43255217 0.28277863 0.60595321 0.37745341 0.51320454 0.18396641\n",
      "  0.2963031  0.28284794 0.3925787  0.34974781 0.6482554  0.39647788\n",
      "  0.5551492  0.33463709 0.32730443 0.69525341 0.         0.41817345\n",
      "  0.41270848 0.65740741 0.34676828 0.29523346 0.37341023 0.23775102\n",
      "  0.39356704 0.6055399  0.77587913 0.74586164 0.34708227 0.61501331\n",
      "  0.28698495 0.0936474  0.42072884 0.22154424 0.38360548 0.3267946\n",
      "  0.40217117 0.52537995 0.72383743 0.48822857 0.19971332 0.17477714\n",
      "  0.61647574 0.70389288 0.27350189 0.40571846 0.11593895 0.2695869\n",
      "  0.82971039 0.2801711  0.24073337 0.37368701 0.51035574 0.11785614\n",
      "  0.53469731 0.70350482 0.56346629 0.55414284]\n",
      " [0.69424736 0.67358112 0.70711354 0.41362976 0.65980305 0.87915609\n",
      "  0.97740488 0.85398496 0.96592649 0.85472107 0.24498948 0.41567146\n",
      "  0.57296603 0.32044165 0.42747182 0.26787221 0.65024513 0.79602578\n",
      "  0.93261082 0.27357677 0.92473848 0.78315062 0.20189986 0.26853022\n",
      "  0.70405547 0.94219163 0.89656558 0.50673325 0.73737418 0.66695043\n",
      "  1.03144314 0.90565695 1.04916619 0.15451183 0.73255829 0.78791767\n",
      "  0.59990929 0.25904664 0.91173682 0.38267271 0.84790033 0.81534712\n",
      "  0.58306468 0.69660821 0.90656609 0.60053459 0.52805174 0.28373757\n",
      "  0.68966113 0.41377971 0.2457489  0.71394    1.01217573 0.69203388\n",
      "  0.70844458 0.67637847 0.64115764 0.9192882  0.41817345 0.\n",
      "  0.46517961 0.69361118 0.73739145 0.4918322  0.72164455 0.31667122\n",
      "  0.68713609 0.60788292 0.96642462 1.14867717 0.76325979 0.8116327\n",
      "  0.51695956 0.4909132  0.79793813 0.50019223 0.37417956 0.73004495\n",
      "  0.15155249 0.81631953 0.9475267  0.32626581 0.3165175  0.55051949\n",
      "  0.82372243 0.97746389 0.50877048 0.64772373 0.46284076 0.29358493\n",
      "  0.96802538 0.69771993 0.35245473 0.64968489 0.11911271 0.44763151\n",
      "  0.15949315 1.02762501 0.93806944 0.40636708]\n",
      " [0.54447021 0.20854285 0.42229875 0.43436797 0.21998603 0.69643457\n",
      "  0.58701643 0.53544764 0.69883779 0.40788454 0.24569144 0.17045459\n",
      "  0.20129611 0.51700532 0.2811628  0.21576498 0.68623173 0.33900517\n",
      "  0.7494831  0.22529023 0.54747373 0.69900161 0.45404928 0.22360142\n",
      "  0.57152787 0.54459396 0.60010166 0.16892896 0.31314929 0.48618691\n",
      "  0.76086601 0.45209484 0.81444416 0.31071537 0.85403009 0.39424781\n",
      "  0.21154129 0.29639113 0.46814275 0.28588973 0.60836769 0.49303421\n",
      "  0.13672391 0.61960256 0.50365559 0.20598132 0.1004999  0.48460729\n",
      "  0.46961345 0.64971247 0.22939098 0.4322986  0.66755167 0.33072932\n",
      "  0.24632569 0.74045742 0.7389359  0.4672629  0.41270848 0.46517961\n",
      "  0.         0.25705069 0.49540599 0.68950053 0.41383079 0.20417251\n",
      "  0.80585068 0.1936623  0.50368645 0.86793551 0.59845213 0.35572739\n",
      "  0.68989667 0.38908579 0.51288353 0.24724042 0.09239032 0.68415643\n",
      "  0.32450904 0.41842982 0.4940163  0.22129514 0.52849453 0.37047189\n",
      "  0.37090347 0.54698045 0.67660011 0.81630062 0.52808086 0.19845131\n",
      "  0.50412121 0.56241279 0.58610663 0.28445037 0.4605258  0.31443835\n",
      "  0.44969248 0.63330254 0.62061406 0.2258232 ]\n",
      " [0.72957948 0.13401895 0.55908831 0.68083514 0.03708358 0.84643996\n",
      "  0.58818005 0.62093239 0.79815128 0.16156783 0.45117784 0.29172027\n",
      "  0.35653811 0.77368359 0.51913593 0.42608976 0.91498755 0.12083322\n",
      "  0.89356824 0.42359254 0.5720047  0.89156409 0.62595926 0.47762635\n",
      "  0.75989046 0.5436925  0.69195389 0.37067861 0.33798995 0.66729345\n",
      "  0.85046516 0.21583951 0.92249202 0.5425762  1.09216526 0.43602304\n",
      "  0.11450645 0.46845267 0.39951378 0.53353914 0.73807509 0.58408763\n",
      "  0.2424551  0.82256404 0.50352393 0.33426584 0.16825024 0.74163977\n",
      "  0.63464691 0.90590711 0.44788061 0.56874219 0.70748465 0.43278824\n",
      "  0.19296672 0.97215994 0.97734437 0.3744645  0.65740741 0.69361118\n",
      "  0.25705069 0.         0.64302715 0.94270485 0.53610703 0.46122319\n",
      "  1.04522602 0.08937944 0.35679028 0.9395989  0.76932601 0.27950976\n",
      "  0.94081343 0.61643786 0.62895814 0.45829256 0.33088533 0.89102729\n",
      "  0.54317203 0.44700813 0.39098861 0.38431489 0.78536655 0.57572314\n",
      "  0.30126005 0.49208254 0.92738957 1.06311959 0.77327002 0.45360479\n",
      "  0.3021484  0.75089913 0.84289211 0.40191429 0.65929839 0.5481519\n",
      "  0.63619305 0.62206513 0.69218586 0.32790184]\n",
      " [0.13351492 0.51110812 0.08447799 0.3648015  0.61652408 0.20497069\n",
      "  0.34552276 0.15541762 0.22928434 0.7106826  0.65033424 0.66027467\n",
      "  0.30162773 0.52645406 0.31373221 0.62632626 0.39676942 0.63026736\n",
      "  0.2556782  0.64804926 0.2873912  0.27683741 0.84458702 0.50424162\n",
      "  0.1612062  0.33720049 0.16760769 0.32783892 0.33419758 0.0966115\n",
      "  0.2951276  0.71576146 0.32761569 0.63225549 0.58172437 0.26731725\n",
      "  0.67074628 0.72502008 0.44608011 0.35622485 0.11728317 0.14058392\n",
      "  0.41089212 0.24316545 0.32880796 0.31374561 0.57167539 0.53061305\n",
      "  0.05048233 0.59513987 0.62023452 0.07538368 0.30644835 0.2147591\n",
      "  0.46582289 0.453468   0.48853531 0.48550526 0.34676828 0.73739145\n",
      "  0.49540599 0.64302715 0.         0.57165442 0.11344949 0.45404943\n",
      "  0.54828336 0.63707238 0.58459242 0.41202724 0.1363891  0.45659181\n",
      "  0.54577347 0.25587765 0.08104268 0.26901246 0.5329155  0.30703469\n",
      "  0.67311636 0.28213234 0.50855713 0.67945988 0.54173045 0.18691177\n",
      "  0.44577826 0.4394795  0.53488982 0.60721447 0.39390615 0.49030406\n",
      "  0.6794384  0.15544514 0.57252353 0.24111609 0.80650271 0.28998739\n",
      "  0.81972488 0.38871827 0.21854556 0.71283039]\n",
      " [0.45339905 0.85409478 0.60271475 0.26967578 0.90589116 0.59528627\n",
      "  0.91144556 0.72684968 0.74688862 1.07876331 0.62225371 0.7601683\n",
      "  0.63812111 0.19086962 0.43346152 0.62277092 0.23964866 0.99976077\n",
      "  0.6340934  0.64369978 0.85202276 0.4341389  0.689702   0.49483759\n",
      "  0.43962875 0.89514969 0.73011119 0.59218732 0.78858943 0.47506976\n",
      "  0.80095123 1.11097715 0.77637235 0.5239645  0.24458952 0.77789338\n",
      "  0.89592796 0.68222734 0.95587428 0.41062549 0.63386244 0.70608139\n",
      "  0.72600503 0.3780578  0.87622517 0.67242736 0.78853303 0.23188221\n",
      "  0.52571724 0.08154885 0.59891095 0.60261994 0.87465968 0.67971388\n",
      "  0.85022026 0.22993553 0.17850595 0.98425327 0.29523346 0.4918322\n",
      "  0.68950053 0.94270485 0.57165442 0.         0.63510634 0.49125414\n",
      "  0.20355244 0.88267265 1.06827646 0.90737939 0.5036857  0.90868361\n",
      "  0.03682554 0.36981478 0.65265691 0.51654628 0.64011294 0.36442932\n",
      "  0.56244574 0.80314732 1.01235655 0.70532525 0.18689393 0.44706401\n",
      "  0.90914077 0.98054213 0.04083732 0.15606569 0.19064919 0.51123878\n",
      "  1.12487633 0.43966885 0.13988393 0.66292808 0.61013193 0.41303355\n",
      "  0.64806915 0.95741427 0.7845812  0.78359555]\n",
      " [0.23481737 0.40286299 0.03520763 0.39605471 0.51149447 0.31100897\n",
      "  0.28133462 0.13373952 0.28502319 0.59781139 0.59909325 0.58337372\n",
      "  0.212817   0.55737701 0.29653645 0.57243666 0.48833502 0.51782938\n",
      "  0.35746599 0.59225231 0.22223817 0.38810233 0.80359377 0.46790201\n",
      "  0.26527189 0.26062688 0.18917549 0.25559551 0.220762   0.18043661\n",
      "  0.34762554 0.60231793 0.40197908 0.5992899  0.67667973 0.15897982\n",
      "  0.57248559 0.67046278 0.34177593 0.34244135 0.20317551 0.09373365\n",
      "  0.31241895 0.34501527 0.2415372  0.21643663 0.47950607 0.55313282\n",
      "  0.12889377 0.64581071 0.57061619 0.04049175 0.29054267 0.103702\n",
      "  0.35453881 0.54708939 0.57626727 0.37894549 0.37341023 0.72164455\n",
      "  0.41383079 0.53610703 0.11344949 0.63510634 0.         0.41618404\n",
      "  0.6396045  0.53716093 0.47629691 0.45765129 0.24942748 0.34358532\n",
      "  0.61363433 0.28037945 0.09936901 0.22391834 0.46586693 0.41215287\n",
      "  0.63634243 0.17802842 0.40354817 0.61512275 0.57305019 0.19864734\n",
      "  0.33339424 0.3485959  0.60162227 0.69115076 0.44741732 0.44928651\n",
      "  0.56746968 0.25803996 0.61244026 0.1377557  0.77587399 0.28441254\n",
      "  0.78344734 0.33011004 0.22030863 0.63789431]\n",
      " [0.45093359 0.39742757 0.40733486 0.2540526  0.42415736 0.62883139\n",
      "  0.66161531 0.54992228 0.68156505 0.60988391 0.2019205  0.28051453\n",
      "  0.25676107 0.31356976 0.14820769 0.18296857 0.52362621 0.53739267\n",
      "  0.6840535  0.20663658 0.61003611 0.58271145 0.39091628 0.05172048\n",
      "  0.47081128 0.62577117 0.6000766  0.19039861 0.42357666 0.4057855\n",
      "  0.74732476 0.65108641 0.78006979 0.18316019 0.67487598 0.47126842\n",
      "  0.40501631 0.27831375 0.60055644 0.12135773 0.57063664 0.50931886\n",
      "  0.2846625  0.49561376 0.58991304 0.28560773 0.29967113 0.28047447\n",
      "  0.41231106 0.44692879 0.17098149 0.41546146 0.70445333 0.37642208\n",
      "  0.41651297 0.57210054 0.56145063 0.61203582 0.23775102 0.31667122\n",
      "  0.20417251 0.46122319 0.45404943 0.49125414 0.41618404 0.\n",
      "  0.62581976 0.39384353 0.66955598 0.86295364 0.51645955 0.50911526\n",
      "  0.49512094 0.25298481 0.50199557 0.19247012 0.15005113 0.55087533\n",
      "  0.22079589 0.49965308 0.64084904 0.25436164 0.32466965 0.27783429\n",
      "  0.51860747 0.66235897 0.48214363 0.62617302 0.34586172 0.03739883\n",
      "  0.69114333 0.46250024 0.38240343 0.33327839 0.35974122 0.18147099\n",
      "  0.3680953  0.71169825 0.63621423 0.31661374]\n",
      " [0.41510979 0.93906881 0.60449074 0.37345092 1.0098099  0.49999071\n",
      "  0.89195175 0.69816867 0.66917014 1.16444232 0.78721647 0.90563899\n",
      "  0.70679624 0.37052361 0.5271644  0.78246171 0.15173147 1.08245857\n",
      "  0.52472203 0.80509281 0.83487862 0.32462257 0.88025547 0.64267913\n",
      "  0.39004271 0.88548285 0.68149142 0.67649894 0.83122648 0.46016205\n",
      "  0.711996   1.18801476 0.66721774 0.69808788 0.04917336 0.79636465\n",
      "  1.01733031 0.85384509 0.97990089 0.52060907 0.57326097 0.68880989\n",
      "  0.81077576 0.3096196  0.87560807 0.73829006 0.90627382 0.410798\n",
      "  0.51332406 0.28495747 0.76065911 0.60103678 0.82533376 0.71033534\n",
      "  0.92144821 0.09574401 0.06809292 1.01461116 0.39356704 0.68713609\n",
      "  0.80585068 1.04522602 0.54828336 0.20355244 0.6396045  0.62581976\n",
      "  0.         0.99789552 1.10776761 0.8048316  0.44049469 0.95774788\n",
      "  0.17230558 0.43077628 0.62551559 0.59070453 0.77481357 0.26113388\n",
      "  0.73988639 0.81738671 1.04065214 0.86418871 0.37187935 0.48782755\n",
      "  0.95359769 0.98556021 0.17894833 0.08430431 0.28018027 0.65337237\n",
      "  1.18269074 0.39431278 0.33645597 0.70691299 0.80359491 0.49710427\n",
      "  0.83955296 0.93230945 0.73621121 0.93700848]\n",
      " [0.70967058 0.16268681 0.55549094 0.62760949 0.06488966 0.8420427\n",
      "  0.63037899 0.63678217 0.81195894 0.24997008 0.36412202 0.20240462\n",
      "  0.33799011 0.7073406  0.47120997 0.34001104 0.87442056 0.20731864\n",
      "  0.89187911 0.3361786  0.60665321 0.86957736 0.53660443 0.40392265\n",
      "  0.73884746 0.58552634 0.7069035  0.3360266  0.36292341 0.64838692\n",
      "  0.86820984 0.30512983 0.93444055 0.45863415 1.04577703 0.46087843\n",
      "  0.03894265 0.37917431 0.45720475 0.47908564 0.74022618 0.5972438\n",
      "  0.22618615 0.79529686 0.54406914 0.32336641 0.09425364 0.67328849\n",
      "  0.6218135  0.84077152 0.36262391 0.56549741 0.73980125 0.43724838\n",
      "  0.22868902 0.92990627 0.93062768 0.43819434 0.6055399  0.60788292\n",
      "  0.1936623  0.08937944 0.63707238 0.88267265 0.53716093 0.39384353\n",
      "  0.99789552 0.         0.43412558 0.96423846 0.75581546 0.33356931\n",
      "  0.8835033  0.57534533 0.63433379 0.42291438 0.25391889 0.86222859\n",
      "  0.45680115 0.47660406 0.45805614 0.29519276 0.71815367 0.54508973\n",
      "  0.35466605 0.54853423 0.87021978 1.00983255 0.7211974  0.38145131\n",
      "  0.38942056 0.72972176 0.77596342 0.39948898 0.57042615 0.50296152\n",
      "  0.54691204 0.66861535 0.71399422 0.23920712]\n",
      " [0.71111114 0.30124761 0.51101343 0.8016435  0.36964213 0.75054138\n",
      "  0.34301742 0.47946014 0.63565167 0.26566189 0.74666909 0.61827136\n",
      "  0.43721596 0.94039792 0.64603445 0.71733328 0.95863755 0.24151904\n",
      "  0.78177753 0.72344056 0.36296266 0.86128718 0.94700223 0.70748391\n",
      "  0.74152545 0.31032835 0.54033373 0.49547944 0.28008839 0.65515778\n",
      "  0.66655835 0.22397618 0.75427937 0.81272737 1.14765766 0.31770994\n",
      "  0.46766939 0.78568914 0.14422438 0.68154972 0.63044724 0.46238693\n",
      "  0.38592534 0.82114357 0.287776   0.40260423 0.46858801 0.92008814\n",
      "  0.60498392 1.05731125 0.73268822 0.51673131 0.48316425 0.39750207\n",
      "  0.25803519 1.01816584 1.04195872 0.10087815 0.77587913 0.96642462\n",
      "  0.50368645 0.35679028 0.58459242 1.06827646 0.47629691 0.66955598\n",
      "  1.10776761 0.43412558 0.         0.72145441 0.71962103 0.16296151\n",
      "  1.05430154 0.69927111 0.5282893  0.55595867 0.59606968 0.88844549\n",
      "  0.82819452 0.30307051 0.0853989  0.70219784 0.9550616  0.62678715\n",
      "  0.15941249 0.20535922 1.04121011 1.15074675 0.87863435 0.68092197\n",
      "  0.12305801 0.73433677 1.00694014 0.4062823  0.96260139 0.65913159\n",
      "  0.94830768 0.35264557 0.51269212 0.6651671 ]\n",
      " [0.47371952 0.80908046 0.45826308 0.75958348 0.92419231 0.31236187\n",
      "  0.37921523 0.33286855 0.18282359 0.94548043 1.0540254  1.03833423\n",
      "  0.66706412 0.91366078 0.72559021 1.02822771 0.67879772 0.8802999\n",
      "  0.28020113 1.04866346 0.3738882  0.48297913 1.25381136 0.91391851\n",
      "  0.47703349 0.41664649 0.26863016 0.71324664 0.60313757 0.48533174\n",
      "  0.1172547  0.92548356 0.13839044 1.0432476  0.81721929 0.50456274\n",
      "  1.00227478 1.12670723 0.58879994 0.76824482 0.30162001 0.37504947\n",
      "  0.75246366 0.52939795 0.44960899 0.66365001 0.92271213 0.92534826\n",
      "  0.45902846 0.95305005 1.02478784 0.44935775 0.24062733 0.53862585\n",
      "  0.74672276 0.71615555 0.76780056 0.63145017 0.74586164 1.14867717\n",
      "  0.86793551 0.9395989  0.41202724 0.90737939 0.45765129 0.86295364\n",
      "  0.8048316  0.96423846 0.72145441 0.         0.41077322 0.67691387\n",
      "  0.87412274 0.66102995 0.36283793 0.67263273 0.92351313 0.55149973\n",
      "  1.08329763 0.49263951 0.63744178 1.07277363 0.92791007 0.59838618\n",
      "  0.65686877 0.51638271 0.86676171 0.8842276  0.76262864 0.89831217\n",
      "  0.84336792 0.47973895 0.94737026 0.58387712 1.2181757  0.70184949\n",
      "  1.23035355 0.37181403 0.25061622 1.09343257]\n",
      " [0.06902649 0.63960482 0.21820368 0.35680935 0.74088274 0.11598024\n",
      "  0.45758332 0.26402149 0.24323046 0.84460522 0.71829988 0.75489689\n",
      "  0.41787264 0.50481488 0.36829042 0.69780834 0.29408285 0.76353442\n",
      "  0.1702484  0.72091768 0.40323439 0.14230473 0.89662877 0.56220777\n",
      "  0.06626258 0.45731594 0.24100499 0.42996139 0.46979405 0.11358349\n",
      "  0.29928465 0.85126131 0.2916292  0.68103013 0.46788841 0.4031103\n",
      "  0.78743662 0.79462163 0.57957494 0.40204234 0.13389359 0.26414914\n",
      "  0.53132176 0.13256583 0.45511551 0.43571255 0.68332603 0.51943326\n",
      "  0.13471968 0.54381241 0.6873936  0.21007563 0.38512841 0.34839274\n",
      "  0.59792213 0.34486674 0.3880089  0.61992512 0.34708227 0.76325979\n",
      "  0.59845213 0.76932601 0.1363891  0.5036857  0.24942748 0.51645955\n",
      "  0.44049469 0.75581546 0.71962103 0.41077322 0.         0.59290274\n",
      "  0.47263147 0.27518958 0.19688339 0.35494081 0.62079947 0.18376761\n",
      "  0.72471473 0.41660513 0.64215043 0.76055755 0.5186837  0.24032742\n",
      "  0.5821668  0.56565837 0.46385898 0.50881148 0.35191269 0.55385756\n",
      "  0.81576767 0.06937814 0.53661359 0.36951171 0.84762402 0.33625832\n",
      "  0.86695734 0.49489153 0.2957335  0.80444353]\n",
      " [0.5743694  0.17479966 0.37616776 0.64079472 0.27630893 0.64198081\n",
      "  0.31141157 0.383015   0.55601903 0.27172991 0.60139068 0.49076637\n",
      "  0.27456615 0.77764616 0.48360054 0.57148994 0.81092156 0.20340953\n",
      "  0.68068867 0.58025078 0.30324764 0.73131837 0.80786193 0.54891369\n",
      "  0.60550417 0.2677525  0.45187082 0.33256326 0.12727374 0.51508139\n",
      "  0.59976924 0.26379537 0.68032637 0.6593093  0.99935525 0.1967102\n",
      "  0.37169621 0.64777419 0.12382798 0.51865879 0.52363119 0.35498044\n",
      "  0.22857084 0.68208379 0.22960814 0.23989018 0.34082027 0.75713218\n",
      "  0.46832496 0.8955469  0.58453796 0.38349872 0.43857003 0.25130171\n",
      "  0.11402165 0.87062478 0.89097213 0.112329   0.61501331 0.8116327\n",
      "  0.35572739 0.27950976 0.45659181 0.90868361 0.34358532 0.50911526\n",
      "  0.95774788 0.33356931 0.16296151 0.67691387 0.59290274 0.\n",
      "  0.89596277 0.54122111 0.41451547 0.39419391 0.4473147  0.7508699\n",
      "  0.67810907 0.19492965 0.13833787 0.56692817 0.79225946 0.4719495\n",
      "  0.02175463 0.21503323 0.88275241 0.99663352 0.71996521 0.52247514\n",
      "  0.22633069 0.59762427 0.84440619 0.25106337 0.81604285 0.49773047\n",
      "  0.80521712 0.34296158 0.43917398 0.54232912]\n",
      " [0.42458413 0.84816613 0.58060759 0.26207808 0.90420684 0.56182183\n",
      "  0.8877191  0.70118019 0.71558347 1.07360958 0.63571479 0.76828695\n",
      "  0.62785217 0.206827   0.42661757 0.63457679 0.20346832 0.993804\n",
      "  0.5996806  0.65610212 0.82843219 0.39889061 0.71273297 0.50247652\n",
      "  0.40939962 0.87277726 0.70194839 0.5848026  0.77424993 0.44943635\n",
      "  0.7687055  1.10413923 0.74232744 0.54019436 0.21590756 0.75939837\n",
      "  0.89826056 0.69803742 0.93895015 0.40733261 0.60389125 0.68185706\n",
      "  0.71950559 0.34527799 0.85513248 0.6618181  0.78965955 0.24808926\n",
      "  0.50093818 0.11417835 0.61127199 0.58001293 0.8469122  0.66272593\n",
      "  0.84149316 0.19324686 0.14237947 0.96847721 0.28698495 0.51695956\n",
      "  0.68989667 0.94081343 0.54577347 0.03682554 0.61363433 0.49512094\n",
      "  0.17230558 0.8835033  1.05430154 0.87412274 0.47263147 0.89596277\n",
      "  0.         0.3550455  0.62680995 0.50641769 0.64489144 0.32904867\n",
      "  0.5799983  0.78408174 0.99630941 0.71713749 0.20539814 0.42975593\n",
      "  0.89559048 0.96063794 0.01349077 0.13629931 0.17604049 0.51734182\n",
      "  1.114353   0.40989981 0.16484591 0.64816909 0.63444203 0.40377444\n",
      "  0.67147762 0.93304135 0.75665876 0.79401011]\n",
      " [0.20658624 0.50832372 0.25301654 0.11567585 0.58170422 0.39094439\n",
      "  0.56168051 0.39576406 0.47924602 0.73388218 0.45294389 0.5192176\n",
      "  0.27779763 0.2775846  0.1117461  0.43572704 0.29929563 0.65210513\n",
      "  0.44543784 0.45948866 0.50261528 0.32974842 0.62236456 0.29360662\n",
      "  0.22190386 0.53908015 0.42260481 0.24620587 0.41925589 0.17640709\n",
      "  0.54393327 0.75897005 0.55825301 0.4068604  0.47673678 0.41079778\n",
      "  0.59869943 0.52917081 0.58644883 0.13233434 0.35941006 0.36505308\n",
      "  0.38001955 0.24302725 0.51538784 0.31057087 0.48735977 0.27678743\n",
      "  0.20570824 0.36910141 0.42206707 0.256105   0.55507422 0.31071526\n",
      "  0.49307861 0.35580435 0.3626836  0.61443874 0.0936474  0.4909132\n",
      "  0.38908579 0.61643786 0.25587765 0.36981478 0.28037945 0.25298481\n",
      "  0.43077628 0.57534533 0.69927111 0.66102995 0.27518958 0.54122111\n",
      "  0.3550455  0.         0.32796793 0.15992897 0.38142285 0.30122816\n",
      "  0.45102121 0.43710255 0.64256308 0.50631692 0.29322254 0.08194414\n",
      "  0.54056319 0.61557653 0.34193951 0.45883528 0.17947544 0.28964369\n",
      "  0.76149035 0.21424373 0.33224407 0.29329422 0.57245728 0.07634448\n",
      "  0.5919998  0.61045953 0.47098125 0.56233146]\n",
      " [0.21070254 0.49502771 0.09543828 0.44018385 0.60599945 0.22746838\n",
      "  0.26652454 0.07443521 0.18645648 0.67902728 0.69121042 0.68208313\n",
      "  0.31209105 0.60264016 0.37059368 0.66539912 0.47454965 0.60132739\n",
      "  0.26819374 0.68591245 0.20949645 0.33877867 0.89226185 0.55337806\n",
      "  0.23578697 0.26173086 0.09874388 0.35234378 0.30111807 0.17758719\n",
      "  0.25020603 0.67784517 0.30265779 0.68386196 0.65731158 0.21827109\n",
      "  0.6701713  0.76391139 0.38602147 0.41529282 0.11052401 0.0674249\n",
      "  0.41073949 0.31744376 0.25823623 0.31540781 0.57859765 0.60458355\n",
      "  0.1284934  0.67518191 0.66205027 0.08671551 0.22803447 0.1974174\n",
      "  0.44248288 0.53017714 0.56712055 0.42768946 0.42072884 0.79793813\n",
      "  0.51288353 0.62895814 0.08104268 0.65265691 0.09936901 0.50199557\n",
      "  0.62551559 0.63433379 0.5282893  0.36283793 0.19688339 0.41451547\n",
      "  0.62680995 0.32796793 0.         0.31042229 0.5624137  0.3776711\n",
      "  0.72277267 0.22653149 0.44846173 0.71135474 0.61806855 0.25253107\n",
      "  0.40083946 0.36879044 0.61593242 0.68645261 0.47387301 0.53670919\n",
      "  0.6306392  0.23121137 0.65081969 0.23598158 0.85989158 0.3515916\n",
      "  0.87005883 0.30849022 0.1431612  0.73637744]\n",
      " [0.29799366 0.34841406 0.21530206 0.24727614 0.42425905 0.45914887\n",
      "  0.48085367 0.3576092  0.49258297 0.57408874 0.38227488 0.39997686\n",
      "  0.12158439 0.38655598 0.09214476 0.35762061 0.45682297 0.49248042\n",
      "  0.51366475 0.37913296 0.4262115  0.4518567  0.58188195 0.24415069\n",
      "  0.32448257 0.44880115 0.40803573 0.08779854 0.28070911 0.24152252\n",
      "  0.55800009 0.60023762 0.59659173 0.3754439  0.63655975 0.300244\n",
      "  0.44939411 0.45636635 0.45744011 0.13409112 0.38626015 0.31734689\n",
      "  0.22013332 0.37373599 0.41673339 0.15591459 0.3397338  0.37034786\n",
      "  0.23333394 0.50140616 0.35258773 0.2237152  0.51332588 0.19833575\n",
      "  0.33549803 0.51439608 0.5226117  0.47922723 0.22154424 0.50019223\n",
      "  0.24724042 0.45829256 0.26901246 0.51654628 0.22391834 0.19247012\n",
      "  0.59070453 0.42291438 0.55595867 0.67263273 0.35494081 0.39419391\n",
      "  0.50641769 0.15992897 0.31042229 0.         0.26707999 0.43974833\n",
      "  0.41307955 0.32879751 0.50817655 0.41127139 0.40162944 0.12352589\n",
      "  0.39665527 0.50302476 0.49301542 0.61693868 0.33103441 0.22643717\n",
      "  0.60835732 0.31538806 0.4517707  0.16358791 0.55200871 0.10376055\n",
      "  0.56034913 0.53126063 0.44376492 0.45002636]\n",
      " [0.56079525 0.29965534 0.46816727 0.40180079 0.2948091  0.72622885\n",
      "  0.66492747 0.59437683 0.74862128 0.48833677 0.15536527 0.13782047\n",
      "  0.26151605 0.45837713 0.26970099 0.12527374 0.66741283 0.42428673\n",
      "  0.7807172  0.13781481 0.62167852 0.70637766 0.36636089 0.15067288\n",
      "  0.58497222 0.62381486 0.65494741 0.21028968 0.3963794  0.50722276\n",
      "  0.81259371 0.5359507  0.85879809 0.21971032 0.82376849 0.47022601\n",
      "  0.25965649 0.21336158 0.55761831 0.25928965 0.64928414 0.55184213\n",
      "  0.22365923 0.62230061 0.58374635 0.27557213 0.16285745 0.4225352\n",
      "  0.50006209 0.59226063 0.13724995 0.47774502 0.73539607 0.39519604\n",
      "  0.33866371 0.71799696 0.70979883 0.55839531 0.38360548 0.37417956\n",
      "  0.09239032 0.33088533 0.5329155  0.64011294 0.46586693 0.15005113\n",
      "  0.77481357 0.25391889 0.59606968 0.92351313 0.62079947 0.4473147\n",
      "  0.64489144 0.38142285 0.5624137  0.26707999 0.         0.68257548\n",
      "  0.23212562 0.49602703 0.58545066 0.1493234  0.46821837 0.38256654\n",
      "  0.46194729 0.63396058 0.63197288 0.77622376 0.49463693 0.12996848\n",
      "  0.59391568 0.5760937  0.5259867  0.34801707 0.3687388  0.30519764\n",
      "  0.3594598  0.71257867 0.68109976 0.1839005 ]\n",
      " [0.17737855 0.7692116  0.37756329 0.3227534  0.85893897 0.24128459\n",
      "  0.64106817 0.44713998 0.40829519 0.98643416 0.74586274 0.82039097\n",
      "  0.53502132 0.4273201  0.41288242 0.73149252 0.12784089 0.90394431\n",
      "  0.27287353 0.75538905 0.58606109 0.06994819 0.89377345 0.58636293\n",
      "  0.14698007 0.63932713 0.42347516 0.52620233 0.62417376 0.23585504\n",
      "  0.45322861 1.00026489 0.41647629 0.68380747 0.2850423  0.57090035\n",
      "  0.88914197 0.82093814 0.75222108 0.42965391 0.3137941  0.4439477\n",
      "  0.64858137 0.06946567 0.63462131 0.56056319 0.77920743 0.45455748\n",
      "  0.28371925 0.42299147 0.71549353 0.37171547 0.56585748 0.49982294\n",
      "  0.73755988 0.16734747 0.21679236 0.79063541 0.3267946  0.73004495\n",
      "  0.68415643 0.89102729 0.30703469 0.36442932 0.41215287 0.55087533\n",
      "  0.26113388 0.86222859 0.88844549 0.55149973 0.18376761 0.7508699\n",
      "  0.32904867 0.30122816 0.3776711  0.43974833 0.68257548 0.\n",
      "  0.72885852 0.58791508 0.81450543 0.80523197 0.43778946 0.31716203\n",
      "  0.74284525 0.74542485 0.32369521 0.33548969 0.2700158  0.58634431\n",
      "  0.97683315 0.15412184 0.43667721 0.50921142 0.83139121 0.37737798\n",
      "  0.85844978 0.67865707 0.47762641 0.86339161]\n",
      " [0.65689447 0.5307725  0.62812171 0.40712521 0.50990259 0.83947135\n",
      "  0.87191923 0.77004006 0.90150194 0.70456007 0.09345361 0.26451885\n",
      "  0.46106317 0.37317558 0.36110378 0.11710378 0.67255942 0.64796047\n",
      "  0.89447912 0.12208301 0.8230616  0.77178308 0.17227898 0.16944324\n",
      "  0.67286999 0.83366354 0.82087034 0.39730084 0.61625761 0.61795521\n",
      "  0.96733659 0.75637109 0.99718928 0.04505567 0.78807455 0.67808678\n",
      "  0.44835953 0.12353064 0.784844   0.32311061 0.78892212 0.72906099\n",
      "  0.45128809 0.6832643  0.79565234 0.48416027 0.37909754 0.33190948\n",
      "  0.62968631 0.49355086 0.09686523 0.63625653 0.92307185 0.58935689\n",
      "  0.57066114 0.70980124 0.68446707 0.78827892 0.40217117 0.15155249\n",
      "  0.32450904 0.54317203 0.67311636 0.56244574 0.63634243 0.22079589\n",
      "  0.73988639 0.45680115 0.82819452 1.08329763 0.72471473 0.67810907\n",
      "  0.5799983  0.45102121 0.72277267 0.41307955 0.23212562 0.72885852\n",
      "  0.         0.70567393 0.81579074 0.17711113 0.3756397  0.49201504\n",
      "  0.69190888 0.85670785 0.56936487 0.7160372  0.48050145 0.18710088\n",
      "  0.82256983 0.66526361 0.42568061 0.54398418 0.14280499 0.38992662\n",
      "  0.14730023 0.92131563 0.85657939 0.25920557]\n",
      " [0.41123412 0.31769131 0.21323409 0.55002626 0.43266263 0.45226433\n",
      "  0.16896168 0.18822658 0.36158429 0.46608376 0.64759031 0.58315378\n",
      "  0.24493284 0.70526684 0.41879556 0.61809537 0.66626778 0.39390385\n",
      "  0.48821145 0.63331825 0.13177457 0.55844932 0.85959003 0.5487446\n",
      "  0.44101223 0.12826762 0.2569821  0.31029304 0.11412347 0.3584259\n",
      "  0.40776734 0.45791647 0.48621076 0.67608818 0.85470059 0.02866317\n",
      "  0.51530017 0.70935783 0.16432506 0.4626167  0.3325658  0.16281408\n",
      "  0.28515989 0.52183112 0.09032397 0.22234445 0.44863854 0.69426136\n",
      "  0.30637553 0.80613057 0.62359618 0.21757063 0.26319742 0.13121738\n",
      "  0.2542865  0.72509657 0.75360705 0.20341997 0.52537995 0.81631953\n",
      "  0.41842982 0.44700813 0.28213234 0.80314732 0.17802842 0.49965308\n",
      "  0.81738671 0.47660406 0.30307051 0.49263951 0.41660513 0.19492965\n",
      "  0.78408174 0.43710255 0.22653149 0.32879751 0.49602703 0.58791508\n",
      "  0.70567393 0.         0.22660683 0.63903429 0.72081781 0.35680714\n",
      "  0.17845322 0.17856372 0.7716391  0.86737269 0.61303326 0.52505801\n",
      "  0.40434909 0.43424842 0.76584378 0.16762505 0.84847504 0.41902896\n",
      "  0.84742427 0.21675947 0.247455   0.63868782]\n",
      " [0.63768532 0.30735579 0.43867375 0.74941722 0.39625428 0.6682847\n",
      "  0.25844393 0.39659453 0.55049077 0.32941457 0.73969798 0.62653928\n",
      "  0.39486882 0.89473152 0.59996311 0.70978071 0.89026534 0.28766772\n",
      "  0.69822898 0.71858358 0.27764611 0.78430463 0.94607285 0.68272209\n",
      "  0.66757755 0.22497078 0.4560666  0.45766559 0.22746863 0.58380847\n",
      "  0.5811789  0.29631182 0.66888863 0.79603278 1.07913266 0.24482978\n",
      "  0.49454941 0.78579985 0.06257625 0.63855834 0.5483635  0.38177576\n",
      "  0.36505015 0.74821731 0.20288556 0.36136857 0.47596408 0.87737874\n",
      "  0.53237062 1.00661382 0.7226239  0.44358412 0.39842409 0.33400553\n",
      "  0.25104777 0.94946451 0.97582757 0.02911594 0.72383743 0.9475267\n",
      "  0.4940163  0.39098861 0.50855713 1.01235655 0.40354817 0.64084904\n",
      "  1.04065214 0.45805614 0.0853989  0.63744178 0.64215043 0.13833787\n",
      "  0.99630941 0.64256308 0.44846173 0.50817655 0.58545066 0.81450543\n",
      "  0.81579074 0.22660683 0.         0.70451946 0.90978407 0.56666953\n",
      "  0.12397684 0.12325735 0.98344367 1.08721371 0.82182128 0.65649079\n",
      "  0.20592782 0.66074988 0.95960276 0.3502551  0.95418733 0.60926886\n",
      "  0.94355277 0.2710951  0.42747154 0.67697418]\n",
      " [0.69786369 0.40129123 0.61680829 0.50138831 0.35464465 0.86892069\n",
      "  0.80785967 0.74362368 0.89737892 0.54509287 0.08823624 0.09333453\n",
      "  0.40996219 0.51494169 0.39753396 0.08258571 0.77364099 0.49774482\n",
      "  0.92380653 0.06242552 0.76691441 0.83584995 0.24548562 0.22388658\n",
      "  0.72001241 0.76569839 0.8042366  0.35952727 0.53440691 0.64747215\n",
      "  0.96156075 0.600142   1.00631294 0.1961958  0.91330604 0.61424062\n",
      "  0.28016068 0.08473714 0.68444433 0.37561899 0.79633505 0.70107576\n",
      "  0.35769515 0.74932241 0.72486942 0.42177145 0.23422237 0.47464947\n",
      "  0.64447405 0.64457274 0.10668043 0.62629481 0.88330529 0.54341935\n",
      "  0.45347177 0.81911757 0.80294395 0.67925163 0.48822857 0.32626581\n",
      "  0.22129514 0.38431489 0.67945988 0.70532525 0.61512275 0.25436164\n",
      "  0.86418871 0.29519276 0.70219784 1.07277363 0.76055755 0.56692817\n",
      "  0.71713749 0.50631692 0.71135474 0.41127139 0.1493234  0.80523197\n",
      "  0.17711113 0.63903429 0.70451946 0.         0.52095922 0.52035817\n",
      "  0.58409455 0.76620779 0.70520972 0.85280222 0.58866934 0.21947034\n",
      "  0.67814281 0.71139314 0.57592231 0.49627561 0.27547303 0.43246801\n",
      "  0.25213441 0.85445127 0.83027662 0.0831249 ]\n",
      " [0.45419074 0.71115042 0.54623767 0.17821836 0.74828299 0.62850703\n",
      "  0.8539648  0.68786166 0.75191193 0.93058232 0.43659815 0.58059726\n",
      "  0.51787633 0.01567946 0.30988501 0.43866003 0.34104211 0.85507338\n",
      "  0.67692986 0.45890583 0.79516837 0.49958163 0.50850366 0.31867881\n",
      "  0.45301518 0.82958841 0.70921541 0.46140705 0.68231759 0.45074411\n",
      "  0.81338902 0.96833819 0.8095972  0.33711822 0.41839968 0.69318206\n",
      "  0.72746597 0.4954057  0.85865848 0.27376565 0.63168666 0.65815825\n",
      "  0.58759316 0.42051575 0.80347368 0.55245914 0.62412866 0.04656096\n",
      "  0.49140818 0.12484269 0.41429298 0.54925192 0.84606019 0.59034368\n",
      "  0.71795995 0.36148752 0.32467183 0.88081172 0.19971332 0.3165175\n",
      "  0.52849453 0.78536655 0.54173045 0.18689393 0.57305019 0.32466965\n",
      "  0.37187935 0.71815367 0.9550616  0.92791007 0.5186837  0.79225946\n",
      "  0.20539814 0.29322254 0.61806855 0.40162944 0.46821837 0.43778946\n",
      "  0.3756397  0.72081781 0.90978407 0.52095922 0.         0.37446303\n",
      "  0.7964753  0.89874392 0.19561538 0.34078067 0.17129862 0.33827943\n",
      "  0.99612404 0.44930567 0.05783076 0.56279995 0.43188591 0.30264913\n",
      "  0.46768573 0.90309488 0.7599356  0.60060819]\n",
      " [0.1782594  0.45843019 0.17231791 0.19752072 0.54286117 0.35115285\n",
      "  0.47985432 0.31737725 0.41556862 0.68107171 0.47906504 0.51851478\n",
      "  0.22295917 0.35879568 0.13104093 0.45788077 0.34567413 0.59854012\n",
      "  0.40636546 0.48085237 0.42086695 0.32854307 0.66424324 0.32550976\n",
      "  0.20282499 0.45715698 0.34958423 0.20907192 0.34710443 0.12812017\n",
      "  0.48123087 0.70151907 0.50540321 0.44979354 0.53124905 0.33105578\n",
      "  0.57240953 0.55520723 0.50922177 0.17069478 0.2988709  0.28493131\n",
      "  0.33390753 0.25045326 0.43380634 0.25234753 0.46314107 0.3558707\n",
      "  0.13953537 0.45024924 0.44825913 0.17613039 0.47743379 0.232976\n",
      "  0.43497454 0.40481298 0.42036111 0.53898696 0.17477714 0.55051949\n",
      "  0.37047189 0.57572314 0.18691177 0.44706401 0.19864734 0.27783429\n",
      "  0.48782755 0.54508973 0.62678715 0.59838618 0.24032742 0.4719495\n",
      "  0.42975593 0.08194414 0.25253107 0.12352589 0.38256654 0.31716203\n",
      "  0.49201504 0.35680714 0.56666953 0.52035817 0.37446303 0.\n",
      "  0.46947363 0.53499916 0.41697629 0.52473302 0.25654088 0.31512175\n",
      "  0.69554219 0.19384854 0.4141839  0.22111897 0.62209408 0.10369692\n",
      "  0.63732757 0.52875578 0.39554501 0.56646558]\n",
      " [0.56588505 0.19500982 0.36665747 0.64224242 0.29782543 0.62814105\n",
      "  0.29000281 0.36665789 0.53842022 0.2902438  0.61655504 0.50920744\n",
      "  0.27869214 0.78171317 0.48705031 0.58657558 0.80588859 0.22379095\n",
      "  0.66585172 0.59591958 0.28302735 0.72149235 0.82401858 0.55957302\n",
      "  0.5968933  0.246507   0.43487291 0.33878676 0.12252348 0.50736759\n",
      "  0.58112019 0.27947061 0.66244782 0.67207076 0.9946234  0.18257127\n",
      "  0.39290043 0.6643533  0.10340194 0.52333905 0.50924644 0.33998559\n",
      "  0.24107536 0.67436324 0.20877046 0.24427489 0.35971648 0.76219725\n",
      "  0.45958531 0.89794291 0.59901953 0.37361721 0.41806415 0.24460126\n",
      "  0.13271276 0.86557154 0.88714913 0.09645336 0.61647574 0.82372243\n",
      "  0.37090347 0.30126005 0.44577826 0.90914077 0.33339424 0.51860747\n",
      "  0.95359769 0.35466605 0.15941249 0.65686877 0.5821668  0.02175463\n",
      "  0.89559048 0.54056319 0.40083946 0.39665527 0.46194729 0.74284525\n",
      "  0.69190888 0.17845322 0.12397684 0.58409455 0.7964753  0.46947363\n",
      "  0.         0.19387202 0.88245101 0.99412252 0.7197628  0.533249\n",
      "  0.23421192 0.58917342 0.84795154 0.24838708 0.83062125 0.49973696\n",
      "  0.82059542 0.32123819 0.42064444 0.56120856]\n",
      " [0.57272763 0.38828213 0.38300356 0.72857763 0.49106038 0.57509614\n",
      "  0.13987939 0.30584812 0.44225513 0.44929225 0.7891619  0.69673934\n",
      "  0.40593053 0.88323294 0.59431383 0.75909851 0.83384692 0.39992079\n",
      "  0.59918167 0.77116336 0.17196379 0.70727935 1.00013979 0.70898718\n",
      "  0.60064193 0.11514527 0.35600212 0.47223926 0.24069712 0.52555516\n",
      "  0.46675142 0.41898091 0.55612899 0.83140929 1.02058069 0.20565815\n",
      "  0.58672289 0.84336438 0.09258508 0.63709333 0.45749416 0.30173842\n",
      "  0.4107622  0.68263745 0.11080406 0.37700044 0.54945346 0.87126082\n",
      "  0.47227829 0.98464777 0.76840159 0.38541531 0.27963503 0.30840628\n",
      "  0.3241887  0.89165273 0.92350505 0.12494865 0.70389288 0.97746389\n",
      "  0.54698045 0.49208254 0.4394795  0.98054213 0.3485959  0.66235897\n",
      "  0.98556021 0.54853423 0.20535922 0.51638271 0.56565837 0.21503323\n",
      "  0.96063794 0.61557653 0.36879044 0.50302476 0.63396058 0.74542485\n",
      "  0.85670785 0.17856372 0.12325735 0.76620779 0.89874392 0.53499916\n",
      "  0.19387202 0.         0.94835922 1.03942548 0.79081741 0.68392421\n",
      "  0.32801013 0.59490677 0.9442572  0.33951954 0.99846884 0.59643697\n",
      "  0.99276102 0.14787056 0.31979093 0.75009177]\n",
      " [0.41473341 0.83467598 0.56872676 0.24858785 0.890792   0.55460271\n",
      "  0.87627183 0.69025962 0.70698021 1.06011917 0.62412665 0.75575739\n",
      "  0.61446687 0.19635142 0.41312815 0.62267194 0.19944796 0.98031447\n",
      "  0.59326465 0.64430076 0.81694403 0.39336367 0.70366607 0.48995181\n",
      "  0.40018649 0.86099865 0.69189177 0.57132308 0.76117706 0.43844787\n",
      "  0.76065745 1.09065919 0.73558521 0.52925666 0.22379164 0.74685927\n",
      "  0.88508399 0.68693347 0.92619501 0.39389362 0.59459558 0.67051637\n",
      "  0.706018   0.33753205 0.84307487 0.64845248 0.77640215 0.2375267\n",
      "  0.48971291 0.11134006 0.59947822 0.56824625 0.83671326 0.64995217\n",
      "  0.82805459 0.19322312 0.1441934  0.95557662 0.27350189 0.50877048\n",
      "  0.67660011 0.92738957 0.53488982 0.04083732 0.60162227 0.48214363\n",
      "  0.17894833 0.87021978 1.04121011 0.86676171 0.46385898 0.88275241\n",
      "  0.01349077 0.34193951 0.61593242 0.49301542 0.63197288 0.32369521\n",
      "  0.56936487 0.7716391  0.98344367 0.70520972 0.19561538 0.41697629\n",
      "  0.88245101 0.94835922 0.         0.14772074 0.16279327 0.50460906\n",
      "  1.10100207 0.40046664 0.15751076 0.63512617 0.6258675  0.39032774\n",
      "  0.66255928 0.92177013 0.74651638 0.78182432]\n",
      " [0.47606743 0.96396902 0.65648636 0.38261843 1.02694122 0.57650002\n",
      "  0.95265226 0.76020288 0.74323468 1.18998561 0.77184476 0.90202679\n",
      "  0.73653334 0.34290223 0.54451929 0.77028946 0.21474254 1.10893821\n",
      "  0.60406092 0.79198232 0.89459009 0.40187346 0.84575393 0.6363866\n",
      "  0.45367161 0.94329989 0.74874131 0.69973431 0.8716594  0.51506215\n",
      "  0.78860189 1.21716786 0.7472218  0.67644142 0.10315202 0.8448186\n",
      "  1.02641639 0.83432925 1.02761583 0.53094037 0.64260315 0.74749842\n",
      "  0.83498044 0.37632327 0.93064542 0.76940376 0.91663004 0.38418947\n",
      "  0.56842825 0.23482742 0.74716485 0.65404704 0.89365128 0.7539804\n",
      "  0.95177384 0.16843858 0.12080287 1.06035726 0.40571846 0.64772373\n",
      "  0.81630062 1.06311959 0.60721447 0.15606569 0.69115076 0.62617302\n",
      "  0.08430431 1.00983255 1.15074675 0.8842276  0.50881148 0.99663352\n",
      "  0.13629931 0.45883528 0.68645261 0.61693868 0.77622376 0.33548969\n",
      "  0.7160372  0.86737269 1.08721371 0.85280222 0.34078067 0.52473302\n",
      "  0.99412252 1.03942548 0.14772074 0.         0.2898641  0.65015576\n",
      "  1.21929103 0.45683589 0.29593794 0.74583759 0.76614585 0.51780611\n",
      "  0.80413442 0.99477895 0.80377865 0.92905029]\n",
      " [0.29065202 0.67544799 0.41607048 0.09380141 0.73713097 0.45900529\n",
      "  0.72643757 0.54696832 0.59041574 0.90135981 0.51586482 0.62609038\n",
      "  0.45223912 0.15927817 0.25481134 0.50816295 0.1922515  0.82082268\n",
      "  0.5064208  0.53139881 0.66692807 0.32930999 0.63674344 0.36531412\n",
      "  0.28569612 0.70802127 0.55837027 0.41130832 0.59868271 0.29827461\n",
      "  0.64986853 0.93024229 0.64098364 0.43636933 0.3291391  0.58753869\n",
      "  0.73909758 0.58631819 0.76522678 0.24219253 0.47178271 0.52281879\n",
      "  0.54648571 0.2492177  0.68758974 0.48605362 0.62857155 0.18454505\n",
      "  0.3454165  0.20130967 0.48776016 0.41679752 0.7002134  0.48906825\n",
      "  0.66646899 0.23133083 0.21567083 0.79378178 0.11593895 0.46284076\n",
      "  0.52808086 0.77327002 0.39390615 0.19064919 0.44741732 0.34586172\n",
      "  0.28018027 0.7211974  0.87863435 0.76262864 0.35191269 0.71996521\n",
      "  0.17604049 0.17947544 0.47387301 0.33103441 0.49463693 0.2700158\n",
      "  0.48050145 0.61303326 0.82182128 0.58866934 0.17129862 0.25654088\n",
      "  0.7197628  0.79081741 0.16279327 0.2898641  0.         0.37436279\n",
      "  0.93847708 0.28291049 0.18478278 0.47276834 0.56891501 0.2293958\n",
      "  0.59910654 0.77352016 0.61141439 0.65906081]\n",
      " [0.48830729 0.40034139 0.44172175 0.28423963 0.41676407 0.66617249\n",
      "  0.68902162 0.58296216 0.7172826  0.60633414 0.16453768 0.25247497\n",
      "  0.28047044 0.32841478 0.1856042  0.14608335 0.55554859 0.53658829\n",
      "  0.72139431 0.16985738 0.63861345 0.61923743 0.35558437 0.02658746\n",
      "  0.50806792 0.65213869 0.63447024 0.21476873 0.44379648 0.44311719\n",
      "  0.78297364 0.65001403 0.8167308  0.15215849 0.7025221  0.49693477\n",
      "  0.3892889  0.24094008 0.61879216 0.15754682 0.60708751 0.54196052\n",
      "  0.29500836 0.53190728 0.61537578 0.30711841 0.28820863 0.29270475\n",
      "  0.44907759 0.46229842 0.13359258 0.45004674 0.73618593 0.40465833\n",
      "  0.42504333 0.60272221 0.58996272 0.62794261 0.2695869  0.29358493\n",
      "  0.19845131 0.45360479 0.49030406 0.51123878 0.44928651 0.03739883\n",
      "  0.65337237 0.38145131 0.68092197 0.89831217 0.55385756 0.52247514\n",
      "  0.51734182 0.28964369 0.53670919 0.22643717 0.12996848 0.58634431\n",
      "  0.18710088 0.52505801 0.65649079 0.21947034 0.33827943 0.31512175\n",
      "  0.533249   0.68392421 0.50460906 0.65015576 0.37436279 0.\n",
      "  0.69601937 0.49978155 0.39606603 0.36030882 0.32796904 0.21874821\n",
      "  0.3341658  0.73886256 0.6695596  0.28508416]\n",
      " [0.8000154  0.29618378 0.60085987 0.8553642  0.32573817 0.85651747\n",
      "  0.46432999 0.58848384 0.75106194 0.16948976 0.73489912 0.58810331\n",
      "  0.48677294 0.98222857 0.69348357 0.70710779 1.03668973 0.18210297\n",
      "  0.89098914 0.70917903 0.48023907 0.95555673 0.92292192 0.72238074\n",
      "  0.83105637 0.42967519 0.652583   0.53601478 0.35358497 0.74116553\n",
      "  0.78504932 0.11531514 0.87160514 0.81361442 1.2248291  0.41361571\n",
      "  0.4165605  0.76287831 0.25870469 0.72364538 0.7366288  0.56697322\n",
      "  0.4095951  0.90818944 0.40367145 0.45259111 0.44632034 0.95767151\n",
      "  0.69375782 1.10571963 0.72570863 0.60775839 0.60417877 0.47758479\n",
      "  0.27818487 1.09638524 1.1155955  0.21456482 0.82971039 0.96802538\n",
      "  0.50412121 0.3021484  0.6794384  1.12487633 0.56746968 0.69114333\n",
      "  1.18269074 0.38942056 0.12305801 0.84336792 0.81576767 0.22633069\n",
      "  1.114353   0.76149035 0.6306392  0.60835732 0.59391568 0.97683315\n",
      "  0.82256983 0.40434909 0.20592782 0.67814281 0.99612404 0.69554219\n",
      "  0.23421192 0.32801013 1.10100207 1.21929103 0.93847708 0.69601937\n",
      "  0.         0.82329753 1.05060023 0.4758746  0.94904576 0.71186346\n",
      "  0.92968881 0.4755702  0.62877433 0.62847018]\n",
      " [0.02329537 0.62505984 0.22345007 0.28869603 0.72044496 0.18255777\n",
      "  0.49764847 0.30404611 0.30931982 0.83809243 0.66420019 0.71233553\n",
      "  0.39480407 0.43544308 0.31482613 0.64518627 0.24361068 0.75594255\n",
      "  0.23504336 0.66864921 0.44064277 0.14066496 0.83649241 0.50609868\n",
      "  0.00914681 0.4918817  0.2939038  0.39668219 0.47135129 0.08461017\n",
      "  0.36728355 0.84956681 0.36080095 0.62105975 0.42657608 0.41685113\n",
      "  0.75931684 0.7406113  0.5985712  0.34470268 0.19419496 0.29521227\n",
      "  0.50934641 0.08788226 0.4842525  0.4171399  0.65212431 0.45036473\n",
      "  0.12968902 0.47656925 0.63324121 0.21761898 0.43931422 0.34713435\n",
      "  0.5893427  0.29898043 0.33674885 0.63667696 0.2801711  0.69771993\n",
      "  0.56241279 0.75089913 0.15544514 0.43966885 0.25803996 0.46250024\n",
      "  0.39431278 0.72972176 0.73433677 0.47973895 0.06937814 0.59762427\n",
      "  0.40989981 0.21424373 0.23121137 0.31538806 0.5760937  0.15412184\n",
      "  0.66526361 0.43424842 0.66074988 0.71139314 0.44930567 0.19384854\n",
      "  0.58917342 0.59490677 0.40046664 0.45683589 0.28291049 0.49978155\n",
      "  0.82329753 0.         0.46768246 0.35969997 0.78489417 0.28103488\n",
      "  0.80564931 0.53849765 0.3489758  0.75993713]\n",
      " [0.47521251 0.7672369  0.58400402 0.21681626 0.80580988 0.64235383\n",
      "  0.8937727  0.72226072 0.77487341 0.98743929 0.49063195 0.63735326\n",
      "  0.56984027 0.06938491 0.36091537 0.49391135 0.32851161 0.91151338\n",
      "  0.68832608 0.51366661 0.83459085 0.50204059 0.5498189  0.37627935\n",
      "  0.47036755 0.87121715 0.73900729 0.51502524 0.7322482  0.47879749\n",
      "  0.834616   1.02463113 0.82476941 0.38893691 0.38074823 0.73861754\n",
      "  0.78528092 0.54705308 0.9073008  0.32712946 0.65576581 0.6946401\n",
      "  0.64285565 0.42855348 0.84666663 0.60452599 0.68192157 0.10368707\n",
      "  0.52278154 0.06866981 0.46926376 0.58625778 0.87862154 0.63629004\n",
      "  0.77257831 0.33967916 0.29689485 0.93073701 0.24073337 0.35245473\n",
      "  0.58610663 0.84289211 0.57252353 0.13988393 0.61244026 0.38240343\n",
      "  0.33645597 0.77596342 1.00694014 0.94737026 0.53661359 0.84440619\n",
      "  0.16484591 0.33224407 0.65081969 0.4517707  0.5259867  0.43667721\n",
      "  0.42568061 0.76584378 0.95960276 0.57592231 0.05783076 0.4141839\n",
      "  0.84795154 0.9442572  0.15751076 0.29593794 0.18478278 0.39606603\n",
      "  1.05060023 0.46768246 0.         0.61093583 0.47044552 0.35056818\n",
      "  0.50820589 0.94231834 0.79103151 0.6562244 ]\n",
      " [0.33706506 0.27046021 0.15741445 0.39921938 0.37568048 0.44503917\n",
      "  0.32871682 0.25111509 0.41856009 0.47840358 0.49288142 0.45489288\n",
      "  0.08652617 0.5474902  0.25529272 0.46430598 0.56102234 0.39634409\n",
      "  0.49342649 0.48174253 0.27911912 0.49876841 0.70330762 0.38317546\n",
      "  0.36826387 0.29251712 0.3170375  0.1467123  0.12621865 0.27514743\n",
      "  0.4787656  0.49111521 0.53821515 0.51222534 0.7489661  0.13898399\n",
      "  0.43472992 0.55948319 0.29640689 0.29759846 0.34073722 0.20882768\n",
      "  0.17479119 0.43976746 0.25736905 0.08023313 0.34306879 0.53319062\n",
      "  0.2358336  0.6565268  0.46684605 0.16721094 0.38740136 0.04717908\n",
      "  0.22980611 0.6206926  0.63999507 0.32180433 0.37368701 0.64968489\n",
      "  0.28445037 0.40191429 0.24111609 0.66292808 0.1377557  0.33327839\n",
      "  0.70691299 0.39948898 0.4062823  0.58387712 0.36951171 0.25106337\n",
      "  0.64816909 0.29329422 0.23598158 0.16358791 0.34801707 0.50921142\n",
      "  0.54398418 0.16762505 0.3502551  0.49627561 0.56279995 0.22111897\n",
      "  0.24838708 0.33951954 0.63512617 0.74583759 0.47276834 0.36030882\n",
      "  0.4758746  0.35969997 0.61093583 0.         0.68656264 0.26045276\n",
      "  0.68819621 0.3786209  0.33620239 0.51025476]\n",
      " [0.77887094 0.66253311 0.76600632 0.50986942 0.62863375 0.96339698\n",
      "  1.01466755 0.90959939 1.03568806 0.82039472 0.21595972 0.36877282\n",
      "  0.60385757 0.4344886  0.49278447 0.2453047  0.75928719 0.77055484\n",
      "  1.01786669 0.24021782 0.96556423 0.88061308 0.08443953 0.30802554\n",
      "  0.79190835 0.97646801 0.95840969 0.53993506 0.75828751 0.74500623\n",
      "  1.10156374 0.87496583 1.12693146 0.17658815 0.8495766  0.82089117\n",
      "  0.55532194 0.19339502 0.92519223 0.45141278 0.92081292 0.86906008\n",
      "  0.59105514 0.79276641 0.93843636 0.62687288 0.50272637 0.39600579\n",
      "  0.76127611 0.53261188 0.2316065  0.77380444 1.06396453 0.73173566\n",
      "  0.70653503 0.78865793 0.75563032 0.9270746  0.51035574 0.11911271\n",
      "  0.4605258  0.65929839 0.80650271 0.61013193 0.77587399 0.35974122\n",
      "  0.80359491 0.57042615 0.96260139 1.2181757  0.84762402 0.81604285\n",
      "  0.63444203 0.57245728 0.85989158 0.55200871 0.3687388  0.83139121\n",
      "  0.14280499 0.84847504 0.95418733 0.27547303 0.43188591 0.62209408\n",
      "  0.83062125 0.99846884 0.6258675  0.76614585 0.56891501 0.32796904\n",
      "  0.94904576 0.78489417 0.47044552 0.68656264 0.         0.51855409\n",
      "  0.04277869 1.06409785 0.99572719 0.34476095]\n",
      " [0.26984831 0.44627244 0.26429626 0.14355289 0.51270927 0.45005778\n",
      "  0.55970089 0.41195956 0.51902784 0.6722677  0.38320683 0.44301332\n",
      "  0.22518439 0.28724921 0.03552855 0.36427822 0.37195417 0.59151045\n",
      "  0.50519588 0.38782489 0.50228836 0.40362009 0.56219499 0.22596796\n",
      "  0.28934091 0.53194374 0.44982169 0.18202293 0.38215817 0.22802928\n",
      "  0.58475461 0.70087003 0.60854198 0.3471193  0.54425475 0.39111833\n",
      "  0.52503846 0.45962194 0.55674952 0.06720387 0.4025628  0.37612831\n",
      "  0.31727312 0.31796541 0.50350813 0.25962982 0.41355673 0.27531596\n",
      "  0.24320809 0.39824524 0.35224762 0.27000601 0.57203671 0.28809858\n",
      "  0.43774232 0.42695578 0.42929053 0.58047791 0.11785614 0.44763151\n",
      "  0.31443835 0.5481519  0.28998739 0.41303355 0.28441254 0.18147099\n",
      "  0.49710427 0.50296152 0.65913159 0.70184949 0.33625832 0.49773047\n",
      "  0.40377444 0.07634448 0.3515916  0.10376055 0.30519764 0.37737798\n",
      "  0.38992662 0.41902896 0.60926886 0.43246801 0.30264913 0.10369692\n",
      "  0.49973696 0.59643697 0.39032774 0.51780611 0.2293958  0.21874821\n",
      "  0.71186346 0.28103488 0.35056818 0.26045276 0.51855409 0.\n",
      "  0.53443011 0.60971936 0.49345619 0.48663617]\n",
      " [0.79856206 0.64727474 0.7754214  0.53591625 0.60677869 0.98233838\n",
      "  1.01484457 0.91710318 1.04838714 0.79648379 0.20417705 0.34451187\n",
      "  0.60398625 0.46946028 0.50682961 0.23424548 0.79047961 0.74976324\n",
      "  1.03711594 0.22522063 0.9672387  0.90569436 0.04241523 0.31669205\n",
      "  0.81293014 0.97567009 0.96817054 0.54157974 0.75363805 0.76211459\n",
      "  1.11424448 0.85202514 1.14273078 0.187605   0.88598881 0.82027604\n",
      "  0.52955925 0.16774085 0.91706156 0.46727391 0.93513398 0.87599474\n",
      "  0.58307878 0.81747464 0.93689453 0.62513884 0.48402469 0.43017024\n",
      "  0.77570585 0.57140163 0.2246103  0.78355423 1.06948268 0.73410644\n",
      "  0.69413768 0.82169028 0.79014026 0.9169375  0.53469731 0.15949315\n",
      "  0.44969248 0.63619305 0.81972488 0.64806915 0.78344734 0.3680953\n",
      "  0.83955296 0.54691204 0.94830768 1.23035355 0.86695734 0.80521712\n",
      "  0.67147762 0.5919998  0.87005883 0.56034913 0.3594598  0.85844978\n",
      "  0.14730023 0.84742427 0.94355277 0.25213441 0.46768573 0.63732757\n",
      "  0.82059542 0.99276102 0.66255928 0.80413442 0.59910654 0.3341658\n",
      "  0.92968881 0.80564931 0.50820589 0.68819621 0.04277869 0.53443011\n",
      "  0.         1.06382653 1.0037254  0.31572024]\n",
      " [0.51874114 0.50592942 0.35857494 0.72613303 0.61603679 0.47763885\n",
      "  0.05040696 0.23458118 0.32349836 0.59418538 0.86434485 0.79493136\n",
      "  0.46026519 0.88741824 0.61621434 0.83485463 0.7821009  0.53970409\n",
      "  0.49138547 0.84999972 0.10793598 0.6302393  1.07632528 0.7617877\n",
      "  0.5423715  0.08880315 0.25926285 0.52451445 0.32151197 0.48405779\n",
      "  0.33521056 0.56614917 0.42597351 0.8906064  0.96214695 0.24355818\n",
      "  0.70748882 0.92583224 0.23198264 0.66171377 0.36968651 0.25133289\n",
      "  0.49804373 0.62288273 0.12976349 0.438995   0.65465108 0.88221463\n",
      "  0.43210694 0.97372035 0.84023597 0.35702398 0.14447786 0.33560224\n",
      "  0.43993451 0.83666151 0.87513015 0.27042683 0.70350482 1.02762501\n",
      "  0.63330254 0.62206513 0.38871827 0.95741427 0.33011004 0.71169825\n",
      "  0.93230945 0.66861535 0.35264557 0.37181403 0.49489153 0.34296158\n",
      "  0.93304135 0.61045953 0.30849022 0.53126063 0.71257867 0.67865707\n",
      "  0.92131563 0.21675947 0.2710951  0.85445127 0.90309488 0.52875578\n",
      "  0.32123819 0.14787056 0.92177013 0.99477895 0.77352016 0.73886256\n",
      "  0.4755702  0.53849765 0.94231834 0.3786209  1.06409785 0.60971936\n",
      "  1.06382653 0.         0.21025166 0.85003072]\n",
      " [0.33243177 0.56035825 0.23099419 0.5824551  0.67532537 0.26741868\n",
      "  0.18561099 0.08712272 0.12310478 0.71080011 0.81843962 0.79101921\n",
      "  0.42118524 0.74459111 0.51071417 0.7913355  0.58912489 0.64074037\n",
      "  0.28287389 0.81060587 0.149993   0.42454742 1.02383372 0.68791027\n",
      "  0.35107885 0.20521581 0.05510708 0.47213008 0.35443016 0.31314294\n",
      "  0.16063397 0.69757662 0.24327378 0.8191913  0.76264535 0.25616285\n",
      "  0.75190469 0.88884694 0.37025069 0.55598001 0.16403118 0.12939816\n",
      "  0.50225207 0.42764096 0.22526414 0.41513312 0.67241169 0.74740722\n",
      "  0.26861493 0.81227393 0.79030179 0.22417185 0.09036924 0.28999644\n",
      "  0.49928516 0.64059999 0.68304571 0.41449834 0.56346629 0.93806944\n",
      "  0.62061406 0.69218586 0.21854556 0.7845812  0.22030863 0.63621423\n",
      "  0.73621121 0.71399422 0.51269212 0.25061622 0.2957335  0.43917398\n",
      "  0.75665876 0.47098125 0.1431612  0.44376492 0.68109976 0.47762641\n",
      "  0.85657939 0.247455   0.42747154 0.83027662 0.7599356  0.39554501\n",
      "  0.42064444 0.31979093 0.74651638 0.80377865 0.61141439 0.6695596\n",
      "  0.62877433 0.3489758  0.79103151 0.33620239 0.99572719 0.49345619\n",
      "  1.0037254  0.21025166 0.         0.84643507]\n",
      " [0.74469538 0.36964554 0.64399486 0.56931568 0.30283482 0.90884941\n",
      "  0.80559749 0.76116217 0.92275258 0.48492701 0.17132572 0.05573077\n",
      "  0.42638752 0.59395092 0.45113529 0.16259134 0.84014456 0.44639629\n",
      "  0.96307501 0.14476713 0.76943418 0.88936713 0.30047405 0.29433016\n",
      "  0.76879927 0.76205479 0.82527553 0.38573706 0.52864283 0.69086103\n",
      "  0.98545348 0.54210113 1.03629073 0.27929712 0.98618137 0.61601496\n",
      "  0.21652102 0.15210163 0.66393557 0.43536825 0.82810772 0.71870597\n",
      "  0.35354434 0.80452931 0.72044879 0.43165968 0.20151681 0.55412821\n",
      "  0.68207945 0.72478207 0.18773932 0.6538394  0.8922614  0.55654182\n",
      "  0.42851993 0.88779897 0.87441884 0.65355313 0.55414284 0.40636708\n",
      "  0.2258232  0.32790184 0.71283039 0.78359555 0.63789431 0.31661374\n",
      "  0.93700848 0.23920712 0.6651671  1.09343257 0.80444353 0.54232912\n",
      "  0.79401011 0.56233146 0.73637744 0.45002636 0.1839005  0.86339161\n",
      "  0.25920557 0.63868782 0.67697418 0.0831249  0.60060819 0.56646558\n",
      "  0.56120856 0.75009177 0.78182432 0.92905029 0.65906081 0.28508416\n",
      "  0.62847018 0.75993713 0.6562244  0.51025476 0.34476095 0.48663617\n",
      "  0.31572024 0.85003072 0.84643507 0.        ]]\n"
     ]
    }
   ],
   "source": [
    "from scipy.spatial.distance import cdist\n",
    "coordinates = np.random.rand(100, 2)\n",
    "distances = cdist(coordinates, coordinates)\n",
    "print(distances)"
   ]
  },
  {
   "cell_type": "markdown",
   "id": "291e0bb9",
   "metadata": {},
   "source": [
    "#### 53. How to convert a float (32 bits) array into an integer (32 bits) in place?"
   ]
  },
  {
   "cell_type": "code",
   "execution_count": 488,
   "id": "2f3e6c00",
   "metadata": {},
   "outputs": [
    {
     "name": "stdout",
     "output_type": "stream",
     "text": [
      "[0.10347132 0.87794936 0.89119995 0.8070782  0.58649623 0.29291412\n",
      " 0.84471387 0.4464699  0.4117985  0.16602208]\n",
      "[0. 0. 0. 0. 0. 0. 0. 0. 0. 0.]\n"
     ]
    }
   ],
   "source": [
    "array = np.random.rand(10).astype(np.float32)\n",
    "print(array)\n",
    "array[:] = array.astype(np.int32)\n",
    "print(array)"
   ]
  },
  {
   "cell_type": "markdown",
   "id": "1e305e92",
   "metadata": {},
   "source": [
    "#### 54. How to read the following file? (★★☆)\n",
    "```\n",
    "1, 2, 3, 4, 5\n",
    "6,  ,  , 7, 8\n",
    " ,  , 9,10,11\n",
    "```"
   ]
  },
  {
   "cell_type": "code",
   "execution_count": 489,
   "id": "753024cb",
   "metadata": {},
   "outputs": [
    {
     "name": "stdout",
     "output_type": "stream",
     "text": [
      "[[ 1.  2.  3.  4.  5.]\n",
      " [ 6. nan nan  7.  8.]\n",
      " [nan nan  9. 10. 11.]]\n"
     ]
    }
   ],
   "source": [
    "from io import StringIO\n",
    "s = StringIO('''1, 2, 3, 4, 5\n",
    "6,  ,  , 7, 8\n",
    " ,  , 9,10,11\n",
    "''')\n",
    "Z = np.genfromtxt(s, delimiter=\",\", dtype=float)\n",
    "print(Z)"
   ]
  },
  {
   "cell_type": "markdown",
   "id": "94a8ad69",
   "metadata": {},
   "source": [
    "#### 55. What is the equivalent of enumerate for numpy arrays? (★★☆)"
   ]
  },
  {
   "cell_type": "code",
   "execution_count": 490,
   "id": "ae45249f",
   "metadata": {},
   "outputs": [
    {
     "name": "stdout",
     "output_type": "stream",
     "text": [
      "(0, 0) 10\n",
      "(0, 1) 20\n",
      "(1, 0) 30\n",
      "(1, 1) 40\n"
     ]
    }
   ],
   "source": [
    "array = np.array([[10, 20], [30, 40]])\n",
    "for index, value in np.ndenumerate(array):\n",
    "    print(index, value)"
   ]
  },
  {
   "cell_type": "markdown",
   "id": "72b340c9",
   "metadata": {},
   "source": [
    "#### 56. Generate a generic 2D Gaussian-like array (★★☆)"
   ]
  },
  {
   "cell_type": "code",
   "execution_count": 491,
   "id": "a80e5c9b",
   "metadata": {},
   "outputs": [
    {
     "name": "stdout",
     "output_type": "stream",
     "text": [
      "[[0.13533528 0.20090196 0.27018673 0.32919299 0.36336564 0.36336564\n",
      "  0.32919299 0.27018673 0.20090196 0.13533528]\n",
      " [0.20090196 0.2982341  0.40108566 0.48867903 0.53940751 0.53940751\n",
      "  0.48867903 0.40108566 0.2982341  0.20090196]\n",
      " [0.27018673 0.40108566 0.53940751 0.65720907 0.72543221 0.72543221\n",
      "  0.65720907 0.53940751 0.40108566 0.27018673]\n",
      " [0.32919299 0.48867903 0.65720907 0.8007374  0.88385983 0.88385983\n",
      "  0.8007374  0.65720907 0.48867903 0.32919299]\n",
      " [0.36336564 0.53940751 0.72543221 0.88385983 0.97561098 0.97561098\n",
      "  0.88385983 0.72543221 0.53940751 0.36336564]\n",
      " [0.36336564 0.53940751 0.72543221 0.88385983 0.97561098 0.97561098\n",
      "  0.88385983 0.72543221 0.53940751 0.36336564]\n",
      " [0.32919299 0.48867903 0.65720907 0.8007374  0.88385983 0.88385983\n",
      "  0.8007374  0.65720907 0.48867903 0.32919299]\n",
      " [0.27018673 0.40108566 0.53940751 0.65720907 0.72543221 0.72543221\n",
      "  0.65720907 0.53940751 0.40108566 0.27018673]\n",
      " [0.20090196 0.2982341  0.40108566 0.48867903 0.53940751 0.53940751\n",
      "  0.48867903 0.40108566 0.2982341  0.20090196]\n",
      " [0.13533528 0.20090196 0.27018673 0.32919299 0.36336564 0.36336564\n",
      "  0.32919299 0.27018673 0.20090196 0.13533528]]\n"
     ]
    }
   ],
   "source": [
    "size = 10  \n",
    "x, y = np.meshgrid(np.linspace(-1, 1, size), np.linspace(-1, 1, size))\n",
    "gaussian = np.exp(-(x**2 + y**2))\n",
    "print(gaussian)"
   ]
  },
  {
   "cell_type": "markdown",
   "id": "86550d61",
   "metadata": {},
   "source": [
    "#### 57. How to randomly place p elements in a 2D array? (★★☆)"
   ]
  },
  {
   "cell_type": "code",
   "execution_count": 492,
   "id": "db9f2582",
   "metadata": {},
   "outputs": [
    {
     "name": "stdout",
     "output_type": "stream",
     "text": [
      "[[0 0 1 1 0]\n",
      " [1 0 0 0 0]\n",
      " [0 0 0 1 0]\n",
      " [0 0 0 0 0]\n",
      " [0 0 0 1 0]]\n"
     ]
    }
   ],
   "source": [
    "shape = (5, 5)\n",
    "p = 5  \n",
    "array = np.zeros(shape, dtype=int)\n",
    "indices = np.random.choice(array.size, p, replace=False)\n",
    "array.flat[indices] = 1\n",
    "print(array)"
   ]
  },
  {
   "cell_type": "markdown",
   "id": "153f8cfa",
   "metadata": {},
   "source": [
    "#### 58. Subtract the mean of each row of a matrix (★★☆)"
   ]
  },
  {
   "cell_type": "code",
   "execution_count": 493,
   "id": "8301cb12",
   "metadata": {},
   "outputs": [
    {
     "name": "stdout",
     "output_type": "stream",
     "text": [
      "[[7. 7. 2. 7.]\n",
      " [8. 1. 2. 5.]\n",
      " [2. 6. 4. 6.]\n",
      " [8. 3. 4. 1.]]\n",
      "[[ 1.25  1.25 -3.75  1.25]\n",
      " [ 4.   -3.   -2.    1.  ]\n",
      " [-2.5   1.5  -0.5   1.5 ]\n",
      " [ 4.   -1.    0.   -3.  ]]\n"
     ]
    }
   ],
   "source": [
    "A = np.random.randint(1, 10, (4, 4)).astype(float)\n",
    "print(A)\n",
    "A -= A.mean(axis=1, keepdims=True)\n",
    "print(A)"
   ]
  },
  {
   "cell_type": "markdown",
   "id": "f4038090",
   "metadata": {},
   "source": [
    "#### 59. How to sort an array by the nth column? (★★☆)"
   ]
  },
  {
   "cell_type": "code",
   "execution_count": 494,
   "id": "eb5745df",
   "metadata": {},
   "outputs": [
    {
     "name": "stdout",
     "output_type": "stream",
     "text": [
      "[[93 16 30 90 81]\n",
      " [95 58 90 47 20]\n",
      " [25 43 76 86 11]\n",
      " [29 85 76 47 98]\n",
      " [39 12 34 82 61]]\n",
      "[[93 16 30 90 81]\n",
      " [39 12 34 82 61]\n",
      " [25 43 76 86 11]\n",
      " [29 85 76 47 98]\n",
      " [95 58 90 47 20]]\n"
     ]
    }
   ],
   "source": [
    "A = np.random.randint(1, 100, (5, 5))\n",
    "print(A)\n",
    "n = 2  \n",
    "A = A[A[:, n].argsort()]\n",
    "print(A)"
   ]
  },
  {
   "cell_type": "markdown",
   "id": "20d2a462",
   "metadata": {},
   "source": [
    "#### 60. How to tell if a given 2D array has null columns? (★★☆)"
   ]
  },
  {
   "cell_type": "code",
   "execution_count": 495,
   "id": "b92b7316",
   "metadata": {},
   "outputs": [
    {
     "name": "stdout",
     "output_type": "stream",
     "text": [
      "[False  True  True]\n"
     ]
    }
   ],
   "source": [
    "A = np.array([[1, 2, np.nan], [4, np.nan, 6], [7, 8, 9]])\n",
    "null_columns = np.any(np.isnan(A), axis=0)\n",
    "print(null_columns)"
   ]
  },
  {
   "cell_type": "markdown",
   "id": "bb2aa49b",
   "metadata": {},
   "source": [
    "#### 61. Find the nearest value from a given value in an array (★★☆)"
   ]
  },
  {
   "cell_type": "code",
   "execution_count": 496,
   "id": "8b62e59c",
   "metadata": {},
   "outputs": [
    {
     "name": "stdout",
     "output_type": "stream",
     "text": [
      "[61 62 61 66 18 38 70 67  5 99 71 47 10 42  7 88 73 35 43 71]\n",
      "47\n"
     ]
    }
   ],
   "source": [
    "array = np.random.randint(1, 100, 20)\n",
    "print(array)\n",
    "value = 50\n",
    "nearest_value = array[np.abs(array - value).argmin()]\n",
    "print(nearest_value)"
   ]
  },
  {
   "cell_type": "markdown",
   "id": "1a950e1a",
   "metadata": {},
   "source": [
    "#### 62. Considering two arrays with shape (1,3) and (3,1), how to compute their sum using an iterator? (★★☆)"
   ]
  },
  {
   "cell_type": "code",
   "execution_count": 497,
   "id": "cad1d01b",
   "metadata": {},
   "outputs": [
    {
     "name": "stdout",
     "output_type": "stream",
     "text": [
      "[[28. 34. 34.]]\n"
     ]
    }
   ],
   "source": [
    "A = np.random.randint(1, 10, (1, 3))\n",
    "B = np.random.randint(1, 10, (3, 1))\n",
    "sum_result = np.zeros((1, 3))\n",
    "for i in range(A.shape[1]):\n",
    "    for j in range(B.shape[0]):\n",
    "        sum_result[0, i] += A[0, i] + B[j, 0]\n",
    "print(sum_result)"
   ]
  },
  {
   "cell_type": "markdown",
   "id": "165b3a20",
   "metadata": {},
   "source": [
    "#### 63. Create an array class that has a name attribute (★★☆)"
   ]
  },
  {
   "cell_type": "code",
   "execution_count": 498,
   "id": "666bf983",
   "metadata": {},
   "outputs": [
    {
     "name": "stdout",
     "output_type": "stream",
     "text": [
      "NamedArray(name=RandomArray, array=[[6 5 5]\n",
      " [3 4 6]\n",
      " [6 1 9]])\n"
     ]
    }
   ],
   "source": [
    "class NamedArray:\n",
    "    def __init__(self, shape, name):\n",
    "        self.array = np.random.randint(1, 10, shape)\n",
    "        self.name = name\n",
    "    def __repr__(self):\n",
    "        return f\"NamedArray(name={self.name}, array={self.array})\"\n",
    "array_obj = NamedArray((3, 3), \"RandomArray\")\n",
    "print(array_obj)"
   ]
  },
  {
   "cell_type": "markdown",
   "id": "87f85b12",
   "metadata": {},
   "source": [
    "#### 64. Consider a given vector, how to add 1 to each element indexed by a second vector (be careful with repeated indices)? (★★★)"
   ]
  },
  {
   "cell_type": "code",
   "execution_count": 499,
   "id": "03ee4c88",
   "metadata": {},
   "outputs": [
    {
     "name": "stdout",
     "output_type": "stream",
     "text": [
      "[7 1 6 5 8 9 9 3 1 4]\n",
      "[ 7  1  7  5 10  9 10  3  2  4]\n"
     ]
    }
   ],
   "source": [
    "vector = np.random.randint(1, 10, 10)\n",
    "print(vector)\n",
    "indices = np.array([2, 4, 4, 6, 8])\n",
    "for index in indices:\n",
    "    vector[index] += 1\n",
    "print(vector)"
   ]
  },
  {
   "cell_type": "markdown",
   "id": "1cda27c4",
   "metadata": {},
   "source": [
    "#### 65. How to accumulate elements of a vector (X) to an array (F) based on an index list (I)? (★★★)"
   ]
  },
  {
   "cell_type": "code",
   "execution_count": 500,
   "id": "aee2c782",
   "metadata": {},
   "outputs": [
    {
     "name": "stdout",
     "output_type": "stream",
     "text": [
      "[ 2 10  9 13  4]\n"
     ]
    }
   ],
   "source": [
    "X = np.random.randint(1, 10, 10)\n",
    "I = np.random.randint(0, 5, 10)\n",
    "F = np.zeros(np.max(I) + 1, dtype=int)\n",
    "for i, index in enumerate(I):\n",
    "    F[index] += X[i]\n",
    "print(F)"
   ]
  },
  {
   "cell_type": "markdown",
   "id": "1db205db",
   "metadata": {},
   "source": [
    "#### 66. Considering a (w,h,3) image of (dtype=ubyte), compute the number of unique colors (★★☆)"
   ]
  },
  {
   "cell_type": "code",
   "execution_count": 501,
   "id": "43204f35",
   "metadata": {},
   "outputs": [
    {
     "name": "stdout",
     "output_type": "stream",
     "text": [
      "25\n"
     ]
    }
   ],
   "source": [
    "image = np.random.randint(0, 256, (5, 5, 3), dtype=np.uint8)\n",
    "unique_colors = np.unique(image.reshape(-1, 3), axis=0)\n",
    "print(len(unique_colors))"
   ]
  },
  {
   "cell_type": "markdown",
   "id": "ebaf1222",
   "metadata": {},
   "source": [
    "#### 67. Considering a four dimensions array, how to get sum over the last two axis at once? (★★★)"
   ]
  },
  {
   "cell_type": "code",
   "execution_count": 502,
   "id": "aabbbab9",
   "metadata": {},
   "outputs": [
    {
     "name": "stdout",
     "output_type": "stream",
     "text": [
      "[[[[7 6 8 3 1]\n",
      "   [8 9 2 2 7]\n",
      "   [7 2 4 1 1]\n",
      "   [1 2 3 5 7]]\n",
      "\n",
      "  [[2 5 6 7 6]\n",
      "   [8 5 3 3 2]\n",
      "   [2 7 9 8 9]\n",
      "   [4 2 4 3 5]]\n",
      "\n",
      "  [[5 9 6 6 3]\n",
      "   [6 8 2 2 6]\n",
      "   [1 2 4 4 6]\n",
      "   [2 3 3 4 1]]]\n",
      "\n",
      "\n",
      " [[[7 8 1 5 1]\n",
      "   [2 6 5 9 6]\n",
      "   [2 6 3 7 5]\n",
      "   [1 5 6 2 3]]\n",
      "\n",
      "  [[8 5 2 9 8]\n",
      "   [8 2 6 3 5]\n",
      "   [8 7 9 4 1]\n",
      "   [6 1 5 3 9]]\n",
      "\n",
      "  [[5 8 9 9 7]\n",
      "   [5 9 1 9 4]\n",
      "   [7 1 3 1 3]\n",
      "   [8 5 4 7 4]]]]\n",
      "[[ 86 100  83]\n",
      " [ 90 109 109]]\n"
     ]
    }
   ],
   "source": [
    "array = np.random.randint(1, 10, (2, 3, 4, 5))\n",
    "print(array)\n",
    "sum_result = np.sum(array, axis=(-2, -1))\n",
    "print(sum_result)"
   ]
  },
  {
   "cell_type": "markdown",
   "id": "2dfb4033",
   "metadata": {},
   "source": [
    "#### 68. Considering a one-dimensional vector D, how to compute means of subsets of D using a vector S of same size describing subset  indices? (★★★)"
   ]
  },
  {
   "cell_type": "code",
   "execution_count": 503,
   "id": "7a9c2287",
   "metadata": {},
   "outputs": [
    {
     "name": "stdout",
     "output_type": "stream",
     "text": [
      "[2 1 4 2 4 4 6 2 7 9]\n",
      "[2 1 1 0 0 2 0 2 0 2]\n",
      "[4.75 2.5  4.25]\n"
     ]
    }
   ],
   "source": [
    "D = np.random.randint(1, 10, 10)\n",
    "print(D)\n",
    "S = np.random.randint(0, 3, 10)\n",
    "print(S)\n",
    "unique_indices = np.unique(S)\n",
    "means = np.array([D[S == idx].mean() for idx in unique_indices])\n",
    "print(means)"
   ]
  },
  {
   "cell_type": "markdown",
   "id": "7035c626",
   "metadata": {},
   "source": [
    "#### 69. How to get the diagonal of a dot product? (★★★)"
   ]
  },
  {
   "cell_type": "code",
   "execution_count": 504,
   "id": "f6af16c1",
   "metadata": {},
   "outputs": [
    {
     "name": "stdout",
     "output_type": "stream",
     "text": [
      "[[5 8 8 7]\n",
      " [2 9 5 8]\n",
      " [1 2 4 8]\n",
      " [6 1 1 2]]\n",
      "[[3 2 6 3]\n",
      " [5 7 3 3]\n",
      " [7 7 3 1]\n",
      " [3 5 8 4]]\n",
      "[[132 157 134  75]\n",
      " [110 142 118  70]\n",
      " [ 65  84  88  45]\n",
      " [ 36  36  58  30]]\n",
      "[132 142  88  30]\n"
     ]
    }
   ],
   "source": [
    "A = np.random.randint(1, 10, (4, 4))\n",
    "print(A)\n",
    "B = np.random.randint(1, 10, (4, 4))\n",
    "print(B)\n",
    "dot_product = np.dot(A, B)\n",
    "print(dot_product)\n",
    "diagonal = np.diagonal(dot_product)\n",
    "print(diagonal)"
   ]
  },
  {
   "cell_type": "markdown",
   "id": "8f73f0e5",
   "metadata": {},
   "source": [
    "#### 70. Consider the vector [1, 2, 3, 4, 5], how to build a new vector with 3 consecutive zeros interleaved between each value? (★★★)"
   ]
  },
  {
   "cell_type": "code",
   "execution_count": 505,
   "id": "b0cabc11",
   "metadata": {},
   "outputs": [
    {
     "name": "stdout",
     "output_type": "stream",
     "text": [
      "[1 0 0 0 2 0 0 0 3 0 0 0 4 0 0 0 5]\n"
     ]
    }
   ],
   "source": [
    "vector = np.array([1, 2, 3, 4, 5])\n",
    "result = np.zeros(len(vector) * 4 - 3, dtype=int)\n",
    "result[::4] = vector\n",
    "print(result)"
   ]
  },
  {
   "cell_type": "markdown",
   "id": "bafaa79e",
   "metadata": {},
   "source": [
    "#### 71. Consider an array of dimension (5,5,3), how to mulitply it by an array with dimensions (5,5)? (★★★)"
   ]
  },
  {
   "cell_type": "code",
   "execution_count": 506,
   "id": "d441e30b",
   "metadata": {},
   "outputs": [
    {
     "name": "stdout",
     "output_type": "stream",
     "text": [
      "[[[32 16 64]\n",
      "  [64  8 72]\n",
      "  [64 32 56]\n",
      "  [18 15  3]\n",
      "  [30 18 42]]\n",
      "\n",
      " [[30 25 45]\n",
      "  [30 10 35]\n",
      "  [ 5  5  8]\n",
      "  [15 18 27]\n",
      "  [ 4  2 12]]\n",
      "\n",
      " [[ 9 45 36]\n",
      "  [30 24 18]\n",
      "  [16  8 14]\n",
      "  [27 27 27]\n",
      "  [64 32 72]]\n",
      "\n",
      " [[56 14 56]\n",
      "  [27  9 12]\n",
      "  [12 30 48]\n",
      "  [63 49 14]\n",
      "  [ 4 28 12]]\n",
      "\n",
      " [[ 5  1  6]\n",
      "  [ 7  7  3]\n",
      "  [15  9 12]\n",
      "  [36 81 27]\n",
      "  [54 72 27]]]\n"
     ]
    }
   ],
   "source": [
    "array1 = np.random.randint(1, 10, (5, 5, 3))\n",
    "array2 = np.random.randint(1, 10, (5, 5))\n",
    "result = array1 * array2[:, :, np.newaxis]\n",
    "print(result)"
   ]
  },
  {
   "cell_type": "markdown",
   "id": "80a9ac82",
   "metadata": {},
   "source": [
    "#### 72. How to swap two rows of an array? (★★★)"
   ]
  },
  {
   "cell_type": "code",
   "execution_count": 507,
   "id": "1aee2791",
   "metadata": {},
   "outputs": [
    {
     "name": "stdout",
     "output_type": "stream",
     "text": [
      "[[9 7 4 3 1]\n",
      " [3 3 4 8 1]\n",
      " [9 4 8 9 3]\n",
      " [5 3 6 5 2]\n",
      " [8 8 6 6 2]]\n",
      "[[9 4 8 9 3]\n",
      " [3 3 4 8 1]\n",
      " [9 7 4 3 1]\n",
      " [5 3 6 5 2]\n",
      " [8 8 6 6 2]]\n"
     ]
    }
   ],
   "source": [
    "array = np.random.randint(1, 10, (5, 5))\n",
    "print(array)\n",
    "array[[0, 2]] = array[[2, 0]]\n",
    "print(array)"
   ]
  },
  {
   "cell_type": "markdown",
   "id": "5e53d68c",
   "metadata": {},
   "source": [
    "#### 73. Consider a set of 10 triplets describing 10 triangles (with shared vertices), find the set of unique line segments composing all the  triangles (★★★)"
   ]
  },
  {
   "cell_type": "code",
   "execution_count": 508,
   "id": "2f975322",
   "metadata": {},
   "outputs": [
    {
     "name": "stdout",
     "output_type": "stream",
     "text": [
      "[[6 3 2]\n",
      " [5 9 2]\n",
      " [2 0 4]\n",
      " [5 9 9]\n",
      " [2 3 9]\n",
      " [6 4 7]\n",
      " [4 4 1]\n",
      " [4 7 6]\n",
      " [6 8 1]\n",
      " [6 7 3]]\n",
      "{(3, 7), (4, 6), (0, 2), (1, 6), (2, 5), (6, 8), (3, 9), (3, 6), (5, 9), (2, 4), (0, 4), (1, 8), (6, 7), (4, 7), (4, 4), (9, 9), (1, 4), (2, 3), (2, 9), (2, 6)}\n"
     ]
    }
   ],
   "source": [
    "triplets = np.random.randint(0, 10, (10, 3))\n",
    "print(triplets)\n",
    "def get_unique_line_segments(triplets):\n",
    "    segments = set()\n",
    "    for triangle in triplets:\n",
    "        segments.add(tuple(sorted([triangle[0], triangle[1]])))\n",
    "        segments.add(tuple(sorted([triangle[1], triangle[2]])))\n",
    "        segments.add(tuple(sorted([triangle[0], triangle[2]])))\n",
    "    return segments\n",
    "unique_segments = get_unique_line_segments(triplets)\n",
    "print(unique_segments)"
   ]
  },
  {
   "cell_type": "markdown",
   "id": "f85da603",
   "metadata": {},
   "source": [
    "#### 74. Given a sorted array C that corresponds to a bincount, how to produce an array A such that np.bincount(A) == C? (★★★)"
   ]
  },
  {
   "cell_type": "code",
   "execution_count": 509,
   "id": "8c476a73",
   "metadata": {},
   "outputs": [
    {
     "name": "stdout",
     "output_type": "stream",
     "text": [
      "[1 3 2 3 3]\n",
      "[0 1 1 1 2 2 3 3 3 4 4 4]\n"
     ]
    }
   ],
   "source": [
    "C = np.random.randint(1, 5, 5)\n",
    "print(C)\n",
    "A = np.hstack([np.full(c, i) for i, c in enumerate(C)])\n",
    "print(A)"
   ]
  },
  {
   "cell_type": "markdown",
   "id": "a2330e6c",
   "metadata": {},
   "source": [
    "#### 75. How to compute averages using a sliding window over an array? (★★★)"
   ]
  },
  {
   "cell_type": "code",
   "execution_count": 510,
   "id": "35e5e9f5",
   "metadata": {},
   "outputs": [
    {
     "name": "stdout",
     "output_type": "stream",
     "text": [
      "[7 9 3 6 1 6 1 7 3 3]\n",
      "[6.33333333 6.         3.33333333 4.33333333 2.66666667 4.66666667\n",
      " 3.66666667 4.33333333]\n"
     ]
    }
   ],
   "source": [
    "array = np.random.randint(1, 10, 10)\n",
    "print(array)\n",
    "window_size = 3\n",
    "averages = np.convolve(array, np.ones(window_size)/window_size, mode='valid')\n",
    "print(averages)"
   ]
  },
  {
   "cell_type": "markdown",
   "id": "87698de8",
   "metadata": {},
   "source": [
    "#### 76. Consider a one-dimensional array Z, build a two-dimensional array whose first row is (Z[0],Z[1],Z[2]) and each subsequent row is  shifted by 1 (last row should be (Z[-3],Z[-2],Z[-1]) (★★★)"
   ]
  },
  {
   "cell_type": "code",
   "execution_count": 511,
   "id": "753763ed",
   "metadata": {},
   "outputs": [
    {
     "name": "stdout",
     "output_type": "stream",
     "text": [
      "[4 4 2 4 3 5 1 5 5 9]\n",
      "[[4 4 2]\n",
      " [4 2 4]\n",
      " [2 4 3]\n",
      " [4 3 5]\n",
      " [3 5 1]\n",
      " [5 1 5]\n",
      " [1 5 5]\n",
      " [5 5 9]]\n"
     ]
    }
   ],
   "source": [
    "Z = np.random.randint(1, 10, 10)\n",
    "print(Z)\n",
    "result = np.array([Z[i:i+3] for i in range(len(Z) - 2)])\n",
    "print(result)"
   ]
  },
  {
   "cell_type": "markdown",
   "id": "b8417b15",
   "metadata": {},
   "source": [
    "#### 77. How to negate a boolean, or to change the sign of a float inplace? (★★★)"
   ]
  },
  {
   "cell_type": "code",
   "execution_count": 512,
   "id": "3cad31b2",
   "metadata": {},
   "outputs": [
    {
     "name": "stdout",
     "output_type": "stream",
     "text": [
      "[False  True False]\n",
      "[-0.80137161 -0.33403397 -0.50109586 -0.1498608  -0.42676025]\n"
     ]
    }
   ],
   "source": [
    "bool_array = np.array([True, False, True])\n",
    "bool_array = np.logical_not(bool_array)\n",
    "float_array = np.random.rand(5)\n",
    "float_array = -float_array\n",
    "print(bool_array)\n",
    "print(float_array)"
   ]
  },
  {
   "cell_type": "markdown",
   "id": "37a49831",
   "metadata": {},
   "source": [
    "#### 78. Consider 2 sets of points P0,P1 describing lines (2d) and a point p, how to compute distance from p to each line i (P0[i],P1[i])? (★★★)"
   ]
  },
  {
   "cell_type": "code",
   "execution_count": 513,
   "id": "df95dce8",
   "metadata": {},
   "outputs": [
    {
     "name": "stdout",
     "output_type": "stream",
     "text": [
      "[[0.52984465]\n",
      " [0.46907768]\n",
      " [0.52382716]\n",
      " [0.10100042]\n",
      " [0.63867567]]\n"
     ]
    }
   ],
   "source": [
    "def point_to_line_distance(p, P0, P1):\n",
    "    line_vector = P1 - P0\n",
    "    point_vector = p - P0\n",
    "    cross_product = np.abs(np.cross(line_vector, point_vector))\n",
    "    line_length = np.linalg.norm(line_vector)\n",
    "    return cross_product / line_length\n",
    "P0 = np.random.rand(5, 2)\n",
    "P1 = np.random.rand(5, 2)\n",
    "p = np.random.rand(1, 2)\n",
    "distances = np.array([point_to_line_distance(p, P0[i], P1[i]) for i in range(len(P0))])\n",
    "print(distances)"
   ]
  },
  {
   "cell_type": "markdown",
   "id": "f5ae032f",
   "metadata": {},
   "source": [
    "#### 79. Consider 2 sets of points P0,P1 describing lines (2d) and a set of points P, how to compute distance from each point j (P[j]) to each line i (P0[i],P1[i])? (★★★)"
   ]
  },
  {
   "cell_type": "code",
   "execution_count": 514,
   "id": "f5ae2e9b",
   "metadata": {},
   "outputs": [
    {
     "name": "stdout",
     "output_type": "stream",
     "text": [
      "[[0.27253785 0.23482645 0.4793646  0.09487582 0.31306057]\n",
      " [0.45793244 0.56887625 0.50092816 0.13637775 0.09493574]\n",
      " [0.15827565 0.20835357 0.29643646 0.14840956 0.27899469]]\n"
     ]
    }
   ],
   "source": [
    "def point_to_line_distance(p, P0, P1):\n",
    "    line_vector = P1 - P0\n",
    "    point_vector = p - P0\n",
    "    cross_product = np.abs(np.cross(line_vector, point_vector))\n",
    "    line_length = np.linalg.norm(line_vector)\n",
    "    return cross_product / line_length\n",
    "P0 = np.random.rand(5, 2)\n",
    "P1 = np.random.rand(5, 2)\n",
    "P = np.random.rand(3, 2)\n",
    "distances = np.array([[point_to_line_distance(P[j], P0[i], P1[i]) for i in range(len(P0))] for j in range(len(P))])\n",
    "print(distances)"
   ]
  },
  {
   "cell_type": "markdown",
   "id": "6bc35ba2",
   "metadata": {},
   "source": [
    "#### 80. Consider an arbitrary array, write a function that extract a subpart with a fixed shape and centered on a given element (pad with a `fill` value when necessary) (★★★)"
   ]
  },
  {
   "cell_type": "code",
   "execution_count": 515,
   "id": "2ad8db75",
   "metadata": {},
   "outputs": [
    {
     "name": "stdout",
     "output_type": "stream",
     "text": [
      "[[2 4 7]\n",
      " [9 4 2]\n",
      " [4 9 1]]\n"
     ]
    }
   ],
   "source": [
    "def extract_subpart(arr, center, shape, fill_value):\n",
    "    h, w = arr.shape\n",
    "    sh, sw = shape\n",
    "    cy, cx = center\n",
    "    y_start = max(cy - sh // 2, 0)\n",
    "    x_start = max(cx - sw // 2, 0)\n",
    "    y_end = min(cy + sh // 2 + 1, h)\n",
    "    x_end = min(cx + sw // 2 + 1, w)\n",
    "    subpart = np.full(shape, fill_value)\n",
    "    subpart[\n",
    "        y_start - (cy - sh // 2):y_end - (cy - sh // 2), \n",
    "        x_start - (cx - sw // 2):x_end - (cx - sw // 2)\n",
    "    ] = arr[y_start:y_end, x_start:x_end]\n",
    "    return subpart\n",
    "arr = np.random.randint(1, 10, (5, 5))\n",
    "center = (2, 2)\n",
    "shape = (3, 3)\n",
    "fill_value = 0\n",
    "subpart = extract_subpart(arr, center, shape, fill_value)\n",
    "print(subpart)"
   ]
  },
  {
   "cell_type": "markdown",
   "id": "d17818f7",
   "metadata": {},
   "source": [
    "#### 81. Consider an array Z = [1,2,3,4,5,6,7,8,9,10,11,12,13,14], how to generate an array R = [[1,2,3,4], [2,3,4,5], [3,4,5,6], ..., [11,12,13,14]]? (★★★)"
   ]
  },
  {
   "cell_type": "code",
   "execution_count": 516,
   "id": "97deb72f",
   "metadata": {},
   "outputs": [
    {
     "name": "stdout",
     "output_type": "stream",
     "text": [
      "[[ 1  2  3  4]\n",
      " [ 2  3  4  5]\n",
      " [ 3  4  5  6]\n",
      " [ 4  5  6  7]\n",
      " [ 5  6  7  8]\n",
      " [ 6  7  8  9]\n",
      " [ 7  8  9 10]\n",
      " [ 8  9 10 11]\n",
      " [ 9 10 11 12]\n",
      " [10 11 12 13]\n",
      " [11 12 13 14]]\n"
     ]
    }
   ],
   "source": [
    "Z = np.arange(1, 15)\n",
    "R = np.array([Z[i:i+4] for i in range(len(Z) - 3)])\n",
    "print(R)"
   ]
  },
  {
   "cell_type": "markdown",
   "id": "67f526e6",
   "metadata": {},
   "source": [
    "#### 82. Compute a matrix rank (★★★)"
   ]
  },
  {
   "cell_type": "code",
   "execution_count": 517,
   "id": "d70bed5b",
   "metadata": {},
   "outputs": [
    {
     "name": "stdout",
     "output_type": "stream",
     "text": [
      "[[0.78079655 0.11989608 0.13895606 0.45922309 0.89701238]\n",
      " [0.29248975 0.64140613 0.74887505 0.06321904 0.10242548]\n",
      " [0.77926166 0.23665666 0.26110046 0.61076174 0.15348878]\n",
      " [0.97330635 0.31508361 0.76769192 0.74395255 0.11676467]\n",
      " [0.06935654 0.72603466 0.56541099 0.65349377 0.95460078]]\n",
      "5\n"
     ]
    }
   ],
   "source": [
    "A = np.random.rand(5, 5)\n",
    "print(A)\n",
    "rank = np.linalg.matrix_rank(A)\n",
    "print(rank)"
   ]
  },
  {
   "cell_type": "markdown",
   "id": "0a3fb55f",
   "metadata": {},
   "source": [
    "#### 83. How to find the most frequent value in an array?"
   ]
  },
  {
   "cell_type": "code",
   "execution_count": 518,
   "id": "b0647d07",
   "metadata": {},
   "outputs": [
    {
     "name": "stdout",
     "output_type": "stream",
     "text": [
      "[6 4 7 1 4 9 1 6 1 6 1 9 3 3 6 5 4 3 7 7]\n",
      "1\n"
     ]
    }
   ],
   "source": [
    "arr = np.random.randint(1, 10, 20)\n",
    "print(arr)\n",
    "most_frequent_value = np.bincount(arr).argmax()\n",
    "print(most_frequent_value)"
   ]
  },
  {
   "cell_type": "markdown",
   "id": "cb0ac341",
   "metadata": {},
   "source": [
    "#### 84. Extract all the contiguous 3x3 blocks from a random 10x10 matrix (★★★)"
   ]
  },
  {
   "cell_type": "code",
   "execution_count": 519,
   "id": "91798923",
   "metadata": {},
   "outputs": [
    {
     "name": "stdout",
     "output_type": "stream",
     "text": [
      "[[5 7 0 4 2 6 3 9 2 0]\n",
      " [9 2 2 9 1 2 0 8 1 8]\n",
      " [2 3 2 8 4 8 5 2 2 3]\n",
      " [2 0 7 6 2 3 5 2 9 1]\n",
      " [3 5 8 5 9 8 5 6 9 3]\n",
      " [8 3 7 9 1 5 8 9 7 1]\n",
      " [1 0 4 7 5 4 4 1 5 0]\n",
      " [3 1 5 3 3 2 0 7 5 8]\n",
      " [8 7 2 8 9 5 7 2 2 5]\n",
      " [9 6 2 8 1 9 0 7 4 3]]\n",
      "[[[[5 7 0]\n",
      "   [9 2 2]\n",
      "   [2 3 2]]\n",
      "\n",
      "  [[7 0 4]\n",
      "   [2 2 9]\n",
      "   [3 2 8]]\n",
      "\n",
      "  [[0 4 2]\n",
      "   [2 9 1]\n",
      "   [2 8 4]]\n",
      "\n",
      "  [[4 2 6]\n",
      "   [9 1 2]\n",
      "   [8 4 8]]\n",
      "\n",
      "  [[2 6 3]\n",
      "   [1 2 0]\n",
      "   [4 8 5]]\n",
      "\n",
      "  [[6 3 9]\n",
      "   [2 0 8]\n",
      "   [8 5 2]]\n",
      "\n",
      "  [[3 9 2]\n",
      "   [0 8 1]\n",
      "   [5 2 2]]\n",
      "\n",
      "  [[9 2 0]\n",
      "   [8 1 8]\n",
      "   [2 2 3]]]\n",
      "\n",
      "\n",
      " [[[9 2 2]\n",
      "   [2 3 2]\n",
      "   [2 0 7]]\n",
      "\n",
      "  [[2 2 9]\n",
      "   [3 2 8]\n",
      "   [0 7 6]]\n",
      "\n",
      "  [[2 9 1]\n",
      "   [2 8 4]\n",
      "   [7 6 2]]\n",
      "\n",
      "  [[9 1 2]\n",
      "   [8 4 8]\n",
      "   [6 2 3]]\n",
      "\n",
      "  [[1 2 0]\n",
      "   [4 8 5]\n",
      "   [2 3 5]]\n",
      "\n",
      "  [[2 0 8]\n",
      "   [8 5 2]\n",
      "   [3 5 2]]\n",
      "\n",
      "  [[0 8 1]\n",
      "   [5 2 2]\n",
      "   [5 2 9]]\n",
      "\n",
      "  [[8 1 8]\n",
      "   [2 2 3]\n",
      "   [2 9 1]]]\n",
      "\n",
      "\n",
      " [[[2 3 2]\n",
      "   [2 0 7]\n",
      "   [3 5 8]]\n",
      "\n",
      "  [[3 2 8]\n",
      "   [0 7 6]\n",
      "   [5 8 5]]\n",
      "\n",
      "  [[2 8 4]\n",
      "   [7 6 2]\n",
      "   [8 5 9]]\n",
      "\n",
      "  [[8 4 8]\n",
      "   [6 2 3]\n",
      "   [5 9 8]]\n",
      "\n",
      "  [[4 8 5]\n",
      "   [2 3 5]\n",
      "   [9 8 5]]\n",
      "\n",
      "  [[8 5 2]\n",
      "   [3 5 2]\n",
      "   [8 5 6]]\n",
      "\n",
      "  [[5 2 2]\n",
      "   [5 2 9]\n",
      "   [5 6 9]]\n",
      "\n",
      "  [[2 2 3]\n",
      "   [2 9 1]\n",
      "   [6 9 3]]]\n",
      "\n",
      "\n",
      " [[[2 0 7]\n",
      "   [3 5 8]\n",
      "   [8 3 7]]\n",
      "\n",
      "  [[0 7 6]\n",
      "   [5 8 5]\n",
      "   [3 7 9]]\n",
      "\n",
      "  [[7 6 2]\n",
      "   [8 5 9]\n",
      "   [7 9 1]]\n",
      "\n",
      "  [[6 2 3]\n",
      "   [5 9 8]\n",
      "   [9 1 5]]\n",
      "\n",
      "  [[2 3 5]\n",
      "   [9 8 5]\n",
      "   [1 5 8]]\n",
      "\n",
      "  [[3 5 2]\n",
      "   [8 5 6]\n",
      "   [5 8 9]]\n",
      "\n",
      "  [[5 2 9]\n",
      "   [5 6 9]\n",
      "   [8 9 7]]\n",
      "\n",
      "  [[2 9 1]\n",
      "   [6 9 3]\n",
      "   [9 7 1]]]\n",
      "\n",
      "\n",
      " [[[3 5 8]\n",
      "   [8 3 7]\n",
      "   [1 0 4]]\n",
      "\n",
      "  [[5 8 5]\n",
      "   [3 7 9]\n",
      "   [0 4 7]]\n",
      "\n",
      "  [[8 5 9]\n",
      "   [7 9 1]\n",
      "   [4 7 5]]\n",
      "\n",
      "  [[5 9 8]\n",
      "   [9 1 5]\n",
      "   [7 5 4]]\n",
      "\n",
      "  [[9 8 5]\n",
      "   [1 5 8]\n",
      "   [5 4 4]]\n",
      "\n",
      "  [[8 5 6]\n",
      "   [5 8 9]\n",
      "   [4 4 1]]\n",
      "\n",
      "  [[5 6 9]\n",
      "   [8 9 7]\n",
      "   [4 1 5]]\n",
      "\n",
      "  [[6 9 3]\n",
      "   [9 7 1]\n",
      "   [1 5 0]]]\n",
      "\n",
      "\n",
      " [[[8 3 7]\n",
      "   [1 0 4]\n",
      "   [3 1 5]]\n",
      "\n",
      "  [[3 7 9]\n",
      "   [0 4 7]\n",
      "   [1 5 3]]\n",
      "\n",
      "  [[7 9 1]\n",
      "   [4 7 5]\n",
      "   [5 3 3]]\n",
      "\n",
      "  [[9 1 5]\n",
      "   [7 5 4]\n",
      "   [3 3 2]]\n",
      "\n",
      "  [[1 5 8]\n",
      "   [5 4 4]\n",
      "   [3 2 0]]\n",
      "\n",
      "  [[5 8 9]\n",
      "   [4 4 1]\n",
      "   [2 0 7]]\n",
      "\n",
      "  [[8 9 7]\n",
      "   [4 1 5]\n",
      "   [0 7 5]]\n",
      "\n",
      "  [[9 7 1]\n",
      "   [1 5 0]\n",
      "   [7 5 8]]]\n",
      "\n",
      "\n",
      " [[[1 0 4]\n",
      "   [3 1 5]\n",
      "   [8 7 2]]\n",
      "\n",
      "  [[0 4 7]\n",
      "   [1 5 3]\n",
      "   [7 2 8]]\n",
      "\n",
      "  [[4 7 5]\n",
      "   [5 3 3]\n",
      "   [2 8 9]]\n",
      "\n",
      "  [[7 5 4]\n",
      "   [3 3 2]\n",
      "   [8 9 5]]\n",
      "\n",
      "  [[5 4 4]\n",
      "   [3 2 0]\n",
      "   [9 5 7]]\n",
      "\n",
      "  [[4 4 1]\n",
      "   [2 0 7]\n",
      "   [5 7 2]]\n",
      "\n",
      "  [[4 1 5]\n",
      "   [0 7 5]\n",
      "   [7 2 2]]\n",
      "\n",
      "  [[1 5 0]\n",
      "   [7 5 8]\n",
      "   [2 2 5]]]\n",
      "\n",
      "\n",
      " [[[3 1 5]\n",
      "   [8 7 2]\n",
      "   [9 6 2]]\n",
      "\n",
      "  [[1 5 3]\n",
      "   [7 2 8]\n",
      "   [6 2 8]]\n",
      "\n",
      "  [[5 3 3]\n",
      "   [2 8 9]\n",
      "   [2 8 1]]\n",
      "\n",
      "  [[3 3 2]\n",
      "   [8 9 5]\n",
      "   [8 1 9]]\n",
      "\n",
      "  [[3 2 0]\n",
      "   [9 5 7]\n",
      "   [1 9 0]]\n",
      "\n",
      "  [[2 0 7]\n",
      "   [5 7 2]\n",
      "   [9 0 7]]\n",
      "\n",
      "  [[0 7 5]\n",
      "   [7 2 2]\n",
      "   [0 7 4]]\n",
      "\n",
      "  [[7 5 8]\n",
      "   [2 2 5]\n",
      "   [7 4 3]]]]\n"
     ]
    }
   ],
   "source": [
    "A = np.random.randint(0, 10, (10, 10))\n",
    "print(A)\n",
    "B = np.lib.stride_tricks.sliding_window_view(A, (3, 3))\n",
    "print(B)"
   ]
  },
  {
   "cell_type": "markdown",
   "id": "c2a9da0d",
   "metadata": {},
   "source": [
    "#### 85. Create a 2D array subclass such that Z[i,j] == Z[j,i] (★★★)"
   ]
  },
  {
   "cell_type": "code",
   "execution_count": 520,
   "id": "f9b027ff",
   "metadata": {},
   "outputs": [
    {
     "name": "stdout",
     "output_type": "stream",
     "text": [
      "[[0. 0. 0. 0. 0.]\n",
      " [0. 0. 7. 0. 0.]\n",
      " [0. 7. 0. 0. 0.]\n",
      " [0. 0. 0. 0. 0.]\n",
      " [0. 0. 0. 0. 0.]]\n"
     ]
    }
   ],
   "source": [
    "class SymmetricArray(np.ndarray):\n",
    "    def __setitem__(self, index, value):\n",
    "        i, j = index\n",
    "        super().__setitem__((i, j), value)\n",
    "        super().__setitem__((j, i), value)\n",
    "Z = np.zeros((5, 5)).view(SymmetricArray)\n",
    "Z[1, 2] = 7\n",
    "print(Z)"
   ]
  },
  {
   "cell_type": "markdown",
   "id": "718ac868",
   "metadata": {},
   "source": [
    "#### 86. Consider a set of p matrices with shape (n,n) and a set of p vectors with shape (n,1). How to compute the sum of of the p matrix products at once? (result has shape (n,1)) (★★★)"
   ]
  },
  {
   "cell_type": "code",
   "execution_count": 521,
   "id": "4de05217",
   "metadata": {},
   "outputs": [
    {
     "name": "stdout",
     "output_type": "stream",
     "text": [
      "[[273]\n",
      " [339]\n",
      " [295]\n",
      " [362]]\n"
     ]
    }
   ],
   "source": [
    "p, n = 3, 4\n",
    "matrices = np.random.randint(1, 10, (p, n, n))\n",
    "vectors = np.random.randint(1, 10, (p, n, 1))\n",
    "result = np.sum(matrices @ vectors, axis=0)\n",
    "print(result)"
   ]
  },
  {
   "cell_type": "markdown",
   "id": "a6eda6f8",
   "metadata": {},
   "source": [
    "#### 87. Consider a 16x16 array, how to get the block-sum (block size is 4x4)? (★★★)"
   ]
  },
  {
   "cell_type": "code",
   "execution_count": 522,
   "id": "286b8db5",
   "metadata": {},
   "outputs": [
    {
     "name": "stdout",
     "output_type": "stream",
     "text": [
      "[[2 9 7 8 8 4 2 9 5 5 6 3 6 1 2 7]\n",
      " [9 9 7 1 6 8 9 9 2 4 9 3 5 1 8 2]\n",
      " [6 1 4 7 1 2 3 9 7 1 4 8 8 6 8 3]\n",
      " [5 1 2 8 2 8 9 1 1 3 1 9 9 7 6 3]\n",
      " [8 3 9 9 7 5 6 1 6 4 1 4 1 9 4 7]\n",
      " [7 4 4 4 9 6 7 5 6 5 6 3 2 2 6 7]\n",
      " [9 5 7 1 5 5 2 2 3 6 2 4 3 5 7 7]\n",
      " [4 6 1 5 2 2 3 5 3 9 8 5 1 6 9 7]\n",
      " [5 2 5 9 8 7 9 4 3 2 4 6 6 6 4 1]\n",
      " [5 7 5 6 1 9 3 4 6 5 2 4 6 2 8 8]\n",
      " [6 9 3 9 2 3 6 4 9 8 3 8 8 2 1 5]\n",
      " [3 7 7 4 1 5 2 1 8 5 8 9 3 3 5 1]\n",
      " [6 1 1 6 9 8 3 4 7 6 8 9 1 3 9 2]\n",
      " [7 9 8 3 2 2 5 3 4 3 9 9 7 7 9 5]\n",
      " [8 8 7 2 4 3 4 6 4 9 4 9 8 6 2 4]\n",
      " [8 2 1 1 5 6 4 5 2 4 9 9 6 9 3 4]]\n",
      "[[84 92 78 75]\n",
      " [84 83 73 76]\n",
      " [81 81 86 72]\n",
      " [83 92 88 78]]\n"
     ]
    }
   ],
   "source": [
    "Z = np.random.randint(1, 10, (16, 16))\n",
    "print(Z)\n",
    "block_sum = Z.reshape(4, 4, 4, 4).sum(axis=(2, 3))\n",
    "print(block_sum)"
   ]
  },
  {
   "cell_type": "markdown",
   "id": "625aa611",
   "metadata": {},
   "source": [
    "#### 88. How to implement the Game of Life using numpy arrays? (★★★)"
   ]
  },
  {
   "cell_type": "code",
   "execution_count": 523,
   "id": "a01c1ff2",
   "metadata": {},
   "outputs": [
    {
     "name": "stdout",
     "output_type": "stream",
     "text": [
      "[[0 0 0 0 0 0 0 0 0 0]\n",
      " [0 0 0 0 0 0 0 0 0 0]\n",
      " [0 0 0 0 0 0 0 0 0 0]\n",
      " [0 0 0 0 0 0 0 0 0 0]\n",
      " [0 0 0 0 0 0 0 0 0 0]\n",
      " [0 0 0 0 0 0 0 0 0 0]\n",
      " [0 0 0 0 0 0 0 0 0 0]\n",
      " [0 0 0 0 0 0 0 0 0 0]\n",
      " [0 0 0 0 0 0 0 0 0 0]\n",
      " [0 0 0 0 0 0 0 0 0 0]]\n"
     ]
    }
   ],
   "source": [
    "def game_of_life_step(Z):\n",
    "    neighbors = sum(np.roll(np.roll(Z, i, 0), j, 1) for i in (-1, 0, 1) for j in (-1, 0, 1) if (i, j) != (0, 0))\n",
    "    return (neighbors == 3) | (Z & (neighbors == 2))\n",
    "Z = np.random.randint(0, 2, (10, 10), dtype=np.uint8)\n",
    "for _ in range(10):\n",
    "    Z = game_of_life_step(Z)\n",
    "print(Z)"
   ]
  },
  {
   "cell_type": "markdown",
   "id": "ca3dde4a",
   "metadata": {},
   "source": [
    "#### 89. How to get the n largest values of an array (★★★)"
   ]
  },
  {
   "cell_type": "code",
   "execution_count": 524,
   "id": "5d14148c",
   "metadata": {},
   "outputs": [
    {
     "name": "stdout",
     "output_type": "stream",
     "text": [
      "[18 50 29 47 74 62 42 87 56 18 25 35 76 26 74 87 59 12 87 64]\n",
      "[74 76 87 87 87]\n"
     ]
    }
   ],
   "source": [
    "Z = np.random.randint(1, 100, 20)\n",
    "print(Z)\n",
    "n = 5\n",
    "largest = np.partition(Z, -n)[-n:]\n",
    "print(largest)"
   ]
  },
  {
   "cell_type": "markdown",
   "id": "e233805e",
   "metadata": {},
   "source": [
    "#### 90. Given an arbitrary number of vectors, build the cartesian product (every combinations of every item) (★★★)"
   ]
  },
  {
   "cell_type": "code",
   "execution_count": 525,
   "id": "17638e13",
   "metadata": {},
   "outputs": [
    {
     "name": "stdout",
     "output_type": "stream",
     "text": [
      "[[4 1 3 1]\n",
      " [4 3 3 1]\n",
      " [4 3 3 1]\n",
      " [4 1 3 1]\n",
      " [4 3 3 1]\n",
      " [4 3 3 1]\n",
      " [4 1 3 1]\n",
      " [4 3 3 1]\n",
      " [4 3 3 1]\n",
      " [4 1 1 1]\n",
      " [4 3 1 1]\n",
      " [4 3 1 1]\n",
      " [4 1 1 1]\n",
      " [4 3 1 1]\n",
      " [4 3 1 1]\n",
      " [4 1 1 1]\n",
      " [4 3 1 1]\n",
      " [4 3 1 1]\n",
      " [4 1 1 1]\n",
      " [4 3 1 1]\n",
      " [4 3 1 1]\n",
      " [4 1 1 1]\n",
      " [4 3 1 1]\n",
      " [4 3 1 1]\n",
      " [4 1 1 1]\n",
      " [4 3 1 1]\n",
      " [4 3 1 1]\n",
      " [4 1 3 1]\n",
      " [4 3 3 1]\n",
      " [4 3 3 1]\n",
      " [4 1 3 1]\n",
      " [4 3 3 1]\n",
      " [4 3 3 1]\n",
      " [4 1 3 1]\n",
      " [4 3 3 1]\n",
      " [4 3 3 1]\n",
      " [4 1 1 1]\n",
      " [4 3 1 1]\n",
      " [4 3 1 1]\n",
      " [4 1 1 1]\n",
      " [4 3 1 1]\n",
      " [4 3 1 1]\n",
      " [4 1 1 1]\n",
      " [4 3 1 1]\n",
      " [4 3 1 1]\n",
      " [4 1 1 1]\n",
      " [4 3 1 1]\n",
      " [4 3 1 1]\n",
      " [4 1 1 1]\n",
      " [4 3 1 1]\n",
      " [4 3 1 1]\n",
      " [4 1 1 1]\n",
      " [4 3 1 1]\n",
      " [4 3 1 1]\n",
      " [4 1 3 4]\n",
      " [4 3 3 4]\n",
      " [4 3 3 4]\n",
      " [4 1 3 4]\n",
      " [4 3 3 4]\n",
      " [4 3 3 4]\n",
      " [4 1 3 4]\n",
      " [4 3 3 4]\n",
      " [4 3 3 4]\n",
      " [4 1 1 4]\n",
      " [4 3 1 4]\n",
      " [4 3 1 4]\n",
      " [4 1 1 4]\n",
      " [4 3 1 4]\n",
      " [4 3 1 4]\n",
      " [4 1 1 4]\n",
      " [4 3 1 4]\n",
      " [4 3 1 4]\n",
      " [4 1 1 4]\n",
      " [4 3 1 4]\n",
      " [4 3 1 4]\n",
      " [4 1 1 4]\n",
      " [4 3 1 4]\n",
      " [4 3 1 4]\n",
      " [4 1 1 4]\n",
      " [4 3 1 4]\n",
      " [4 3 1 4]]\n"
     ]
    }
   ],
   "source": [
    "vectors = [np.random.randint(1, 5, 3) for _ in range(4)]\n",
    "cartesian_product = np.array(np.meshgrid(*vectors)).T.reshape(-1, len(vectors))\n",
    "print(cartesian_product)"
   ]
  },
  {
   "cell_type": "markdown",
   "id": "c163f115",
   "metadata": {},
   "source": [
    "#### 91. How to create a record array from a regular array? (★★★)"
   ]
  },
  {
   "cell_type": "code",
   "execution_count": 526,
   "id": "da402514",
   "metadata": {},
   "outputs": [
    {
     "name": "stdout",
     "output_type": "stream",
     "text": [
      "[(4, 2, 2) (4, 8, 9) (7, 9, 2) (4, 4, 8) (5, 3, 4)]\n"
     ]
    }
   ],
   "source": [
    "data = np.random.randint(1, 10, (5, 3))\n",
    "record_array = np.core.records.fromarrays(data.T, names='a,b,c')\n",
    "print(record_array)"
   ]
  },
  {
   "cell_type": "markdown",
   "id": "049c006e",
   "metadata": {},
   "source": [
    "#### 92. Consider a large vector Z, compute Z to the power of 3 using 3 different methods (★★★)"
   ]
  },
  {
   "cell_type": "code",
   "execution_count": 527,
   "id": "96ce278a",
   "metadata": {},
   "outputs": [
    {
     "name": "stdout",
     "output_type": "stream",
     "text": [
      "[  8   1 729 343   8  64 512   8  27  27  27 343   1 125   1 125 125   8\n",
      " 343 216  64 216   8   8   1 512 125 512 216  27  64 343 343   1  27 216\n",
      " 216  27 125 729  27  64   1 343   8 125 216 216 512 125   1 512   8 125\n",
      "  64  27  64  27   1  27 125  27 125 216 343   8 512 512 729 125 125 343\n",
      "   8   8 729  64   1 343 512 512  64 512 343 125   8 125 216 343 343 512\n",
      "   1 729   8 512 216 512 216 343  27  64 125 125 343 343 125  27 343 343\n",
      "  64 343   1   8 216   8 729  27   8 216  64 343 125   1 512 216 125  27\n",
      "  27 512  27   1  64  27  64   8   8 343  27 125 729  64 343 343 729   8\n",
      " 512 216   1 216  27  27 125 216 729 125  27 216 343   8  27   1 512 125\n",
      " 729   8  64   8 729  27 343  64 125   1  27 343   8   1  64  64 512 512\n",
      " 343 125 512 729   8  27  64   8 343   1   8 125 125 125  64 512 216  64\n",
      " 216 343 729 512  27 125 125 512 729 343 729   1 343  27   8   1 216   8\n",
      " 216 216 729  27  27  27 343   8   1  27  27 729 729  64 216   1  64 729\n",
      " 125 729 729 512 216 729   8  64 512  64 125   1 125 729 343 125 125 512\n",
      " 343 343 729  64 512 343 216 343   8 216  27 729   1  64 343 729 729   1\n",
      " 729   1  64  27   1  64 343 216 125 343 125   1   8  27 729  27 512 343\n",
      "   8 343  27  64  27 512 512   8 125 216 125 729 729 729 343 729   8  64\n",
      " 125   8 216 343 512   1   8  64  27 343 512  64 125 729 512  64  64  27\n",
      " 343   8  27   1   8 125 216   1 216 512 512 216 729   8  64 729 216 343\n",
      " 343 216 125 729  27 343   1  27 512  27 343   1 512   8   1   1   8 343\n",
      "  27   1 729 125  27 729   1   1   1   1  64  27 125 512  27 512 343 125\n",
      " 729   1 729   8  27 216 343 216 216  64  64 729 512   8  64 216   8   1\n",
      "   1 216  27  64 512  27  27 729 216  64 343 216 343   8 729 512 729 216\n",
      " 729 216 512 216  27   1 729 125   8 216 343  64   1 512  64  27 125  27\n",
      "   1 125  64  64 512  64 512 729 729 729 512 512 216   1 216  27   8 729\n",
      " 729   8   8   1 512  27 216 125  64   8 343 729   8  64 729 512   1 729\n",
      " 125 729 343 512   1 729   8 216 343  64  64 125   1   8  64 216 512 512\n",
      "   8   8  27 512 512 343 216 216  64 343 512 729 216   1 125 216 512   8\n",
      " 729 216  64 216 729  27  27  64   8   1 512 216  27  64   8  27 125 729\n",
      " 729 343 729   8 125   1  27   8  27 216 343 125 729 343   1   8 216  27\n",
      "   8  27   8   8 216 343 125 512  64 125   8  27  27 512   8 729 512   8\n",
      "  64 512  64 343 512 125 125 343  64  64 216   1  27 125 125 343 216 125\n",
      "   1 216   8  64 512 343  64 729 216   8 216 216 512 125  27  27 125   8\n",
      "   1 729 125 125  64  27 512 216   8 216 216 729   1  64  27   1  64 125\n",
      "  27   1  64   8  64  27   8   8  27 512   8   8 729  27 729   1 343  64\n",
      " 125 125  64 343 216   1  27 729 512   1 216 125  64  64 512   8 343  64\n",
      "   8 343   8 216   1   8   8 216 343 512 512 729   1 729 343 512   8 125\n",
      " 512   1   8 216   1   8 729  64 512 216   8 343 125 343  64 729  64  64\n",
      "  27  27 125  64 216 729   8 512 512  27  64 125  27 343  27   1  27 512\n",
      "   1   1 216   8  64 512  64 125  27   8 343 512 125 216  64 216   1 125\n",
      " 125 216 729   1 125 512 729   8 343  27   1  27 125 729   1 729   1 216\n",
      " 216 125 729 343  27 216 512   1  64  64   8 343 216 512  64  27 125 216\n",
      " 512 729 343 125  27 216 216 512 343  64 343  64 729 512 216 512   8  27\n",
      " 125 512 216   1 729 729 216 343   1 125   8 729   8   8  64  27   8 729\n",
      " 216  27   8   1  27  27 216 343  27 512 729 125 729   1 125 729  27 216\n",
      " 125  27 216   8  64 125 729 512 729   1 216 729 729 125  27  27 125 512\n",
      "   1 125   8 125   8   1 343  64 216 125 343   8 343   8  64  27 729 125\n",
      " 512  27 729  64  27  64 343   8 512 125 125   1  64   8 729 729 125  27\n",
      " 512 216   1   1 512  64  27  64   1 216 343   8 125 729 216   8 125 729\n",
      "  27 729   8 216 125 216  64 216  64 343 729 729  64 729 216   8 125 343\n",
      "   8   8  64  27   1 729  64 512   1  64 216 343   1  64 216  64 125 512\n",
      "  64   1 125   8 216   8  64  27  64 343  27   8 729 512 729  64  64 125\n",
      " 343 343   8   8 729  64 729   8  64  27 125 729 343   8 512  27 216  27\n",
      "  64 512 125 729 125 343 216 512 729 125 512 343 216 343  64 125 512 125\n",
      "  27  27  64  64 216 512 125  64 512  27 125   8  64 343   1  27  64 343\n",
      " 125 343 343 125 512  27  64  64   1 512]\n",
      "\n",
      " [  8   1 729 343   8  64 512   8  27  27  27 343   1 125   1 125 125   8\n",
      " 343 216  64 216   8   8   1 512 125 512 216  27  64 343 343   1  27 216\n",
      " 216  27 125 729  27  64   1 343   8 125 216 216 512 125   1 512   8 125\n",
      "  64  27  64  27   1  27 125  27 125 216 343   8 512 512 729 125 125 343\n",
      "   8   8 729  64   1 343 512 512  64 512 343 125   8 125 216 343 343 512\n",
      "   1 729   8 512 216 512 216 343  27  64 125 125 343 343 125  27 343 343\n",
      "  64 343   1   8 216   8 729  27   8 216  64 343 125   1 512 216 125  27\n",
      "  27 512  27   1  64  27  64   8   8 343  27 125 729  64 343 343 729   8\n",
      " 512 216   1 216  27  27 125 216 729 125  27 216 343   8  27   1 512 125\n",
      " 729   8  64   8 729  27 343  64 125   1  27 343   8   1  64  64 512 512\n",
      " 343 125 512 729   8  27  64   8 343   1   8 125 125 125  64 512 216  64\n",
      " 216 343 729 512  27 125 125 512 729 343 729   1 343  27   8   1 216   8\n",
      " 216 216 729  27  27  27 343   8   1  27  27 729 729  64 216   1  64 729\n",
      " 125 729 729 512 216 729   8  64 512  64 125   1 125 729 343 125 125 512\n",
      " 343 343 729  64 512 343 216 343   8 216  27 729   1  64 343 729 729   1\n",
      " 729   1  64  27   1  64 343 216 125 343 125   1   8  27 729  27 512 343\n",
      "   8 343  27  64  27 512 512   8 125 216 125 729 729 729 343 729   8  64\n",
      " 125   8 216 343 512   1   8  64  27 343 512  64 125 729 512  64  64  27\n",
      " 343   8  27   1   8 125 216   1 216 512 512 216 729   8  64 729 216 343\n",
      " 343 216 125 729  27 343   1  27 512  27 343   1 512   8   1   1   8 343\n",
      "  27   1 729 125  27 729   1   1   1   1  64  27 125 512  27 512 343 125\n",
      " 729   1 729   8  27 216 343 216 216  64  64 729 512   8  64 216   8   1\n",
      "   1 216  27  64 512  27  27 729 216  64 343 216 343   8 729 512 729 216\n",
      " 729 216 512 216  27   1 729 125   8 216 343  64   1 512  64  27 125  27\n",
      "   1 125  64  64 512  64 512 729 729 729 512 512 216   1 216  27   8 729\n",
      " 729   8   8   1 512  27 216 125  64   8 343 729   8  64 729 512   1 729\n",
      " 125 729 343 512   1 729   8 216 343  64  64 125   1   8  64 216 512 512\n",
      "   8   8  27 512 512 343 216 216  64 343 512 729 216   1 125 216 512   8\n",
      " 729 216  64 216 729  27  27  64   8   1 512 216  27  64   8  27 125 729\n",
      " 729 343 729   8 125   1  27   8  27 216 343 125 729 343   1   8 216  27\n",
      "   8  27   8   8 216 343 125 512  64 125   8  27  27 512   8 729 512   8\n",
      "  64 512  64 343 512 125 125 343  64  64 216   1  27 125 125 343 216 125\n",
      "   1 216   8  64 512 343  64 729 216   8 216 216 512 125  27  27 125   8\n",
      "   1 729 125 125  64  27 512 216   8 216 216 729   1  64  27   1  64 125\n",
      "  27   1  64   8  64  27   8   8  27 512   8   8 729  27 729   1 343  64\n",
      " 125 125  64 343 216   1  27 729 512   1 216 125  64  64 512   8 343  64\n",
      "   8 343   8 216   1   8   8 216 343 512 512 729   1 729 343 512   8 125\n",
      " 512   1   8 216   1   8 729  64 512 216   8 343 125 343  64 729  64  64\n",
      "  27  27 125  64 216 729   8 512 512  27  64 125  27 343  27   1  27 512\n",
      "   1   1 216   8  64 512  64 125  27   8 343 512 125 216  64 216   1 125\n",
      " 125 216 729   1 125 512 729   8 343  27   1  27 125 729   1 729   1 216\n",
      " 216 125 729 343  27 216 512   1  64  64   8 343 216 512  64  27 125 216\n",
      " 512 729 343 125  27 216 216 512 343  64 343  64 729 512 216 512   8  27\n",
      " 125 512 216   1 729 729 216 343   1 125   8 729   8   8  64  27   8 729\n",
      " 216  27   8   1  27  27 216 343  27 512 729 125 729   1 125 729  27 216\n",
      " 125  27 216   8  64 125 729 512 729   1 216 729 729 125  27  27 125 512\n",
      "   1 125   8 125   8   1 343  64 216 125 343   8 343   8  64  27 729 125\n",
      " 512  27 729  64  27  64 343   8 512 125 125   1  64   8 729 729 125  27\n",
      " 512 216   1   1 512  64  27  64   1 216 343   8 125 729 216   8 125 729\n",
      "  27 729   8 216 125 216  64 216  64 343 729 729  64 729 216   8 125 343\n",
      "   8   8  64  27   1 729  64 512   1  64 216 343   1  64 216  64 125 512\n",
      "  64   1 125   8 216   8  64  27  64 343  27   8 729 512 729  64  64 125\n",
      " 343 343   8   8 729  64 729   8  64  27 125 729 343   8 512  27 216  27\n",
      "  64 512 125 729 125 343 216 512 729 125 512 343 216 343  64 125 512 125\n",
      "  27  27  64  64 216 512 125  64 512  27 125   8  64 343   1  27  64 343\n",
      " 125 343 343 125 512  27  64  64   1 512]\n",
      "\n",
      " [  8   1 729 343   8  64 512   8  27  27  27 343   1 125   1 125 125   8\n",
      " 343 216  64 216   8   8   1 512 125 512 216  27  64 343 343   1  27 216\n",
      " 216  27 125 729  27  64   1 343   8 125 216 216 512 125   1 512   8 125\n",
      "  64  27  64  27   1  27 125  27 125 216 343   8 512 512 729 125 125 343\n",
      "   8   8 729  64   1 343 512 512  64 512 343 125   8 125 216 343 343 512\n",
      "   1 729   8 512 216 512 216 343  27  64 125 125 343 343 125  27 343 343\n",
      "  64 343   1   8 216   8 729  27   8 216  64 343 125   1 512 216 125  27\n",
      "  27 512  27   1  64  27  64   8   8 343  27 125 729  64 343 343 729   8\n",
      " 512 216   1 216  27  27 125 216 729 125  27 216 343   8  27   1 512 125\n",
      " 729   8  64   8 729  27 343  64 125   1  27 343   8   1  64  64 512 512\n",
      " 343 125 512 729   8  27  64   8 343   1   8 125 125 125  64 512 216  64\n",
      " 216 343 729 512  27 125 125 512 729 343 729   1 343  27   8   1 216   8\n",
      " 216 216 729  27  27  27 343   8   1  27  27 729 729  64 216   1  64 729\n",
      " 125 729 729 512 216 729   8  64 512  64 125   1 125 729 343 125 125 512\n",
      " 343 343 729  64 512 343 216 343   8 216  27 729   1  64 343 729 729   1\n",
      " 729   1  64  27   1  64 343 216 125 343 125   1   8  27 729  27 512 343\n",
      "   8 343  27  64  27 512 512   8 125 216 125 729 729 729 343 729   8  64\n",
      " 125   8 216 343 512   1   8  64  27 343 512  64 125 729 512  64  64  27\n",
      " 343   8  27   1   8 125 216   1 216 512 512 216 729   8  64 729 216 343\n",
      " 343 216 125 729  27 343   1  27 512  27 343   1 512   8   1   1   8 343\n",
      "  27   1 729 125  27 729   1   1   1   1  64  27 125 512  27 512 343 125\n",
      " 729   1 729   8  27 216 343 216 216  64  64 729 512   8  64 216   8   1\n",
      "   1 216  27  64 512  27  27 729 216  64 343 216 343   8 729 512 729 216\n",
      " 729 216 512 216  27   1 729 125   8 216 343  64   1 512  64  27 125  27\n",
      "   1 125  64  64 512  64 512 729 729 729 512 512 216   1 216  27   8 729\n",
      " 729   8   8   1 512  27 216 125  64   8 343 729   8  64 729 512   1 729\n",
      " 125 729 343 512   1 729   8 216 343  64  64 125   1   8  64 216 512 512\n",
      "   8   8  27 512 512 343 216 216  64 343 512 729 216   1 125 216 512   8\n",
      " 729 216  64 216 729  27  27  64   8   1 512 216  27  64   8  27 125 729\n",
      " 729 343 729   8 125   1  27   8  27 216 343 125 729 343   1   8 216  27\n",
      "   8  27   8   8 216 343 125 512  64 125   8  27  27 512   8 729 512   8\n",
      "  64 512  64 343 512 125 125 343  64  64 216   1  27 125 125 343 216 125\n",
      "   1 216   8  64 512 343  64 729 216   8 216 216 512 125  27  27 125   8\n",
      "   1 729 125 125  64  27 512 216   8 216 216 729   1  64  27   1  64 125\n",
      "  27   1  64   8  64  27   8   8  27 512   8   8 729  27 729   1 343  64\n",
      " 125 125  64 343 216   1  27 729 512   1 216 125  64  64 512   8 343  64\n",
      "   8 343   8 216   1   8   8 216 343 512 512 729   1 729 343 512   8 125\n",
      " 512   1   8 216   1   8 729  64 512 216   8 343 125 343  64 729  64  64\n",
      "  27  27 125  64 216 729   8 512 512  27  64 125  27 343  27   1  27 512\n",
      "   1   1 216   8  64 512  64 125  27   8 343 512 125 216  64 216   1 125\n",
      " 125 216 729   1 125 512 729   8 343  27   1  27 125 729   1 729   1 216\n",
      " 216 125 729 343  27 216 512   1  64  64   8 343 216 512  64  27 125 216\n",
      " 512 729 343 125  27 216 216 512 343  64 343  64 729 512 216 512   8  27\n",
      " 125 512 216   1 729 729 216 343   1 125   8 729   8   8  64  27   8 729\n",
      " 216  27   8   1  27  27 216 343  27 512 729 125 729   1 125 729  27 216\n",
      " 125  27 216   8  64 125 729 512 729   1 216 729 729 125  27  27 125 512\n",
      "   1 125   8 125   8   1 343  64 216 125 343   8 343   8  64  27 729 125\n",
      " 512  27 729  64  27  64 343   8 512 125 125   1  64   8 729 729 125  27\n",
      " 512 216   1   1 512  64  27  64   1 216 343   8 125 729 216   8 125 729\n",
      "  27 729   8 216 125 216  64 216  64 343 729 729  64 729 216   8 125 343\n",
      "   8   8  64  27   1 729  64 512   1  64 216 343   1  64 216  64 125 512\n",
      "  64   1 125   8 216   8  64  27  64 343  27   8 729 512 729  64  64 125\n",
      " 343 343   8   8 729  64 729   8  64  27 125 729 343   8 512  27 216  27\n",
      "  64 512 125 729 125 343 216 512 729 125 512 343 216 343  64 125 512 125\n",
      "  27  27  64  64 216 512 125  64 512  27 125   8  64 343   1  27  64 343\n",
      " 125 343 343 125 512  27  64  64   1 512]\n"
     ]
    }
   ],
   "source": [
    "Z = np.random.randint(1, 10, 1000)\n",
    "method1 = Z ** 3\n",
    "method2 = np.power(Z, 3)\n",
    "method3 = Z * Z * Z\n",
    "print(method1)\n",
    "print(\"\\n\",method2)\n",
    "print(\"\\n\",method3)"
   ]
  },
  {
   "cell_type": "markdown",
   "id": "6e652635",
   "metadata": {},
   "source": [
    "#### 93. Consider two arrays A and B of shape (8,3) and (2,2). How to find rows of A that contain elements of each row of B regardless of the order of the elements in B? (★★★)"
   ]
  },
  {
   "cell_type": "code",
   "execution_count": 528,
   "id": "f429d6d4",
   "metadata": {},
   "outputs": [
    {
     "name": "stdout",
     "output_type": "stream",
     "text": [
      "[[1 4 3]\n",
      " [0 0 0]\n",
      " [1 2 4]\n",
      " [4 3 4]\n",
      " [2 3 0]\n",
      " [1 0 4]\n",
      " [3 3 1]\n",
      " [0 2 1]]\n",
      "[[3 0]\n",
      " [0 1]]\n",
      "Rows of A that contain elements of each row in B:\n",
      "[1]\n"
     ]
    }
   ],
   "source": [
    "A = np.random.randint(0, 5, (8, 3))\n",
    "print(A)\n",
    "B = np.random.randint(0, 5, (2, 2))\n",
    "print(B)\n",
    "mask = np.array([np.all(np.isin(row, b)) for b in B for row in A])\n",
    "mask = mask.reshape(len(B), len(A))\n",
    "rows = np.where(mask.any(axis=0))[0]\n",
    "print(\"Rows of A that contain elements of each row in B:\")\n",
    "print(rows)"
   ]
  },
  {
   "cell_type": "markdown",
   "id": "33c4755d",
   "metadata": {},
   "source": [
    "#### 94. Considering a 10x3 matrix, extract rows with unequal values (e.g. [2,2,3]) (★★★)"
   ]
  },
  {
   "cell_type": "code",
   "execution_count": 529,
   "id": "29507586",
   "metadata": {},
   "outputs": [
    {
     "name": "stdout",
     "output_type": "stream",
     "text": [
      "Matrix:\n",
      "[[2 1 3]\n",
      " [2 4 2]\n",
      " [2 4 2]\n",
      " [3 1 2]\n",
      " [2 1 2]\n",
      " [4 3 4]\n",
      " [4 3 3]\n",
      " [1 2 4]\n",
      " [2 2 4]\n",
      " [1 1 1]]\n",
      "\n",
      "Rows with unequal values:\n",
      "[[2 1 3]\n",
      " [3 1 2]\n",
      " [1 2 4]]\n"
     ]
    }
   ],
   "source": [
    "matrix = np.random.randint(1, 5, (10, 3))\n",
    "unique_rows = matrix[np.apply_along_axis(lambda row: len(np.unique(row)) == len(row), axis=1, arr=matrix)]\n",
    "print(\"Matrix:\")\n",
    "print(matrix)\n",
    "print(\"\\nRows with unequal values:\")\n",
    "print(unique_rows)"
   ]
  },
  {
   "cell_type": "markdown",
   "id": "c9fe158d",
   "metadata": {},
   "source": [
    "#### 95. Convert a vector of ints into a matrix binary representation (★★★)"
   ]
  },
  {
   "cell_type": "code",
   "execution_count": 530,
   "id": "58209fb7",
   "metadata": {},
   "outputs": [
    {
     "name": "stdout",
     "output_type": "stream",
     "text": [
      "[ 51 110 178 200 100]\n",
      "[[0 0 1 1 0 0 1 1]\n",
      " [0 1 1 0 1 1 1 0]\n",
      " [1 0 1 1 0 0 1 0]\n",
      " [1 1 0 0 1 0 0 0]\n",
      " [0 1 1 0 0 1 0 0]]\n"
     ]
    }
   ],
   "source": [
    "vector = np.random.randint(0, 256, size=5, dtype=np.uint8)\n",
    "print(vector)\n",
    "binary_matrix = np.unpackbits(vector[:, None], axis=1)\n",
    "print(binary_matrix)"
   ]
  },
  {
   "cell_type": "markdown",
   "id": "f60086c9",
   "metadata": {},
   "source": [
    "#### 96. Given a two dimensional array, how to extract unique rows? (★★★)"
   ]
  },
  {
   "cell_type": "code",
   "execution_count": 531,
   "id": "787b6e4c",
   "metadata": {},
   "outputs": [
    {
     "name": "stdout",
     "output_type": "stream",
     "text": [
      "[[3 5 8]\n",
      " [8 4 3]\n",
      " [3 8 9]\n",
      " [5 8 5]\n",
      " [9 9 8]]\n",
      "Unique rows\n",
      "[[3 5 8]\n",
      " [3 8 9]\n",
      " [5 8 5]\n",
      " [8 4 3]\n",
      " [9 9 8]]\n"
     ]
    }
   ],
   "source": [
    "array = np.random.randint(0, 10, (5, 3))\n",
    "print(array)\n",
    "unique_rows = np.unique(array, axis=0)\n",
    "print(\"Unique rows\")\n",
    "print(unique_rows)"
   ]
  },
  {
   "cell_type": "markdown",
   "id": "0f5e1299",
   "metadata": {},
   "source": [
    "#### 97. Considering 2 vectors A & B, write the einsum equivalent of inner, outer, sum, and mul function (★★★)"
   ]
  },
  {
   "cell_type": "code",
   "execution_count": 532,
   "id": "cd2a8214",
   "metadata": {},
   "outputs": [
    {
     "name": "stdout",
     "output_type": "stream",
     "text": [
      "[2 4 7 6 4]\n",
      "[4 2 8 2 1]\n",
      "88\n",
      "[[ 8  4 16  4  2]\n",
      " [16  8 32  8  4]\n",
      " [28 14 56 14  7]\n",
      " [24 12 48 12  6]\n",
      " [16  8 32  8  4]]\n",
      "23\n",
      "[ 8  8 56 12  4]\n"
     ]
    }
   ],
   "source": [
    "A = np.random.randint(1, 10, 5)\n",
    "B = np.random.randint(1, 10, 5)\n",
    "inner_product = np.einsum('i,i->', A, B)\n",
    "outer_product = np.einsum('i,j->ij', A, B)\n",
    "sum_A = np.einsum('i->', A)\n",
    "elementwise_mul = np.einsum('i,i->i', A, B)\n",
    "print(A)\n",
    "print(B)\n",
    "print(inner_product)\n",
    "print(outer_product)\n",
    "print(sum_A)\n",
    "print(elementwise_mul)"
   ]
  },
  {
   "cell_type": "markdown",
   "id": "a04dd898",
   "metadata": {},
   "source": [
    "#### 98. Considering a path described by two vectors (X,Y), how to sample it using equidistant samples (★★★)?"
   ]
  },
  {
   "cell_type": "code",
   "execution_count": 533,
   "id": "12d9c30f",
   "metadata": {},
   "outputs": [
    {
     "name": "stdout",
     "output_type": "stream",
     "text": [
      "[0.13663184 0.32164273 0.50665362 0.69166451 0.77062183 0.84654717\n",
      " 0.93352426 1.02829098 1.35743626 1.71334091 1.90961048 2.10588005\n",
      " 2.30839518 2.53256251 2.7316383  2.9055688  3.14077716 3.41225675\n",
      " 3.68373634 3.95521593]\n",
      "[0.11841931 0.43273643 0.74705356 1.06137069 1.41692639 1.77366107\n",
      " 2.12773478 2.47993296 2.56989785 2.63188293 2.93929559 3.24670825\n",
      " 3.54984521 3.8321004  4.12228281 4.44286426 4.71506491 4.95862829\n",
      " 5.20219167 5.44575505]\n"
     ]
    }
   ],
   "source": [
    "X = np.cumsum(np.random.rand(10))\n",
    "Y = np.cumsum(np.random.rand(10))\n",
    "d = np.sqrt(np.diff(X)**2 + np.diff(Y)**2)\n",
    "d = np.insert(d, 0, 0)\n",
    "d = np.cumsum(d)\n",
    "n_samples = 20\n",
    "d_uniform = np.linspace(0, d[-1], n_samples)\n",
    "X_sampled = np.interp(d_uniform, d, X)\n",
    "Y_sampled = np.interp(d_uniform, d, Y)\n",
    "print(X_sampled)\n",
    "print(Y_sampled)"
   ]
  },
  {
   "cell_type": "markdown",
   "id": "b45bf2ae",
   "metadata": {},
   "source": [
    "#### 99. Given an integer n and a 2D array X, select from X the rows which can be interpreted as draws from a multinomial distribution with n degrees, i.e., the rows which only contain integers and which sum to n. (★★★)"
   ]
  },
  {
   "cell_type": "code",
   "execution_count": 534,
   "id": "89cfe00f-316e-4c6d-903b-3c5ed204a0a2",
   "metadata": {},
   "outputs": [
    {
     "name": "stdout",
     "output_type": "stream",
     "text": [
      "[[ 2  0  2  1  2]\n",
      " [ 5  3 14  0  1]\n",
      " [ 4  4  1  1  0]\n",
      " [10  0  0  5  0]\n",
      " [ 3  3  3  1  0]\n",
      " [ 2  2  2  2  2]]\n",
      "Valid Rows\n",
      "[[4 4 1 1 0]\n",
      " [3 3 3 1 0]\n",
      " [2 2 2 2 2]]\n"
     ]
    }
   ],
   "source": [
    "n = 10\n",
    "X = np.array([\n",
    "    [2, 0, 2, 1, 2],\n",
    "    [5, 3, 14, 0, 1],\n",
    "    [4, 4, 1, 1, 0],\n",
    "    [10, 0, 0, 5, 0],  \n",
    "    [3, 3, 3, 1, 0],  \n",
    "    [2, 2, 2, 2, 2]  \n",
    "])\n",
    "print(X)\n",
    "valid_rows = X[np.all(X == X.astype(int), axis=1) & (X.sum(axis=1) == n)]\n",
    "print(\"Valid Rows\")\n",
    "print(valid_rows)"
   ]
  },
  {
   "cell_type": "markdown",
   "id": "d92b6592",
   "metadata": {},
   "source": [
    "#### 100. Compute bootstrapped 95% confidence intervals for the mean of a 1D array X (i.e., resample the elements of an array with replacement N times, compute the mean of each sample, and then compute percentiles over the means). (★★★)"
   ]
  },
  {
   "cell_type": "code",
   "execution_count": 535,
   "id": "661e7321-d403-4e77-b0c0-b3598e82c28c",
   "metadata": {},
   "outputs": [
    {
     "name": "stdout",
     "output_type": "stream",
     "text": [
      "[0.18755077 0.04997276 0.81575422 0.16735131 0.77258197 0.25849624\n",
      " 0.10773275 0.76479539 0.07732678 0.02871326 0.73947972 0.06758728\n",
      " 0.7303424  0.22691203 0.8560402  0.73137641 0.9797257  0.66074326\n",
      " 0.63293046 0.68524342 0.3818146  0.79696271 0.57637512 0.82902938\n",
      " 0.84683944 0.56391324 0.58002138 0.43420006 0.61218599 0.27922109\n",
      " 0.7383039  0.17470329 0.12783609 0.07783485 0.1332058  0.54853542\n",
      " 0.99744737 0.15315371 0.82149432 0.06742516 0.46143203 0.55828609\n",
      " 0.99165195 0.21745119 0.37255251 0.93653203 0.4009596  0.33871891\n",
      " 0.83499306 0.24161789 0.22025635 0.20880145 0.21322626 0.61535124\n",
      " 0.60454589 0.40782655 0.70197464 0.07033336 0.37878472 0.66895212\n",
      " 0.54923437 0.05738226 0.78679005 0.58558923 0.28898315 0.19781303\n",
      " 0.58482428 0.2188145  0.90678591 0.74020015 0.27744495 0.10982433\n",
      " 0.39550054 0.0312374  0.25025791 0.32956501 0.7242511  0.20560335\n",
      " 0.50749245 0.46609579 0.40483256 0.26388426 0.30325674 0.2610431\n",
      " 0.37842045 0.56891789 0.46868354 0.52596467 0.34906514 0.34449813\n",
      " 0.35703552 0.01046472 0.97130856 0.20817232 0.67916012 0.73257895\n",
      " 0.94920287 0.90825772 0.4041604  0.78745413]\n",
      "[0.41699797 0.52727799]\n"
     ]
    }
   ],
   "source": [
    "X = np.random.rand(100)\n",
    "print(X)\n",
    "N = 1000\n",
    "means = np.array([np.mean(np.random.choice(X, size=len(X), replace=True)) for _ in range(N)])\n",
    "conf_int = np.percentile(means, [2.5, 97.5])\n",
    "print(conf_int)"
   ]
  },
  {
   "cell_type": "code",
   "execution_count": null,
   "id": "4c628626-055a-4eb5-a14d-3f2a7643e1bd",
   "metadata": {},
   "outputs": [],
   "source": []
  }
 ],
 "metadata": {
  "kernelspec": {
   "display_name": "Python 3 (ipykernel)",
   "language": "python",
   "name": "python3"
  },
  "language_info": {
   "codemirror_mode": {
    "name": "ipython",
    "version": 3
   },
   "file_extension": ".py",
   "mimetype": "text/x-python",
   "name": "python",
   "nbconvert_exporter": "python",
   "pygments_lexer": "ipython3",
   "version": "3.12.6"
  }
 },
 "nbformat": 4,
 "nbformat_minor": 5
}
