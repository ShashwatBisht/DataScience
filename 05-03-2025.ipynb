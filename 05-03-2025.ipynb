{
 "cells": [
  {
   "cell_type": "code",
   "execution_count": 3,
   "id": "a02bdb8a-6f37-41bd-9e3e-7ce651aee6c8",
   "metadata": {},
   "outputs": [
    {
     "name": "stdin",
     "output_type": "stream",
     "text": [
      "Enter the budget of the customer 50000\n"
     ]
    },
    {
     "name": "stdout",
     "output_type": "stream",
     "text": [
      "You can buy the mobile\n"
     ]
    }
   ],
   "source": [
    "budget = int(input(\"Enter the budget of the customer\"))\n",
    "if budget > 30000:\n",
    "    print(\"You can buy the mobile\")\n",
    "else:\n",
    "    print(\"You can not buy the phone\")"
   ]
  },
  {
   "cell_type": "code",
   "execution_count": 5,
   "id": "b5403812-4547-471c-afc1-826ecfdcb08e",
   "metadata": {},
   "outputs": [
    {
     "name": "stdin",
     "output_type": "stream",
     "text": [
      "Enter the storage of the phone 32\n"
     ]
    },
    {
     "name": "stdout",
     "output_type": "stream",
     "text": [
      "The price is 15000\n"
     ]
    }
   ],
   "source": [
    "st = int(input(\"Enter the storage of the phone\"))\n",
    "if st == 32:\n",
    "    print(\"The price is 15000\")\n",
    "elif st == 64:\n",
    "    print(\"The price is 20000\")\n",
    "elif st == 128:\n",
    "    print(\"The price is 30000\")\n",
    "elif st == 256:\n",
    "    print(\"The price is 40000\")\n",
    "else:\n",
    "    print(\"Invalid Storage options\")"
   ]
  },
  {
   "cell_type": "code",
   "execution_count": 13,
   "id": "39343cc3-b935-4d01-a705-36c532ce1a2a",
   "metadata": {},
   "outputs": [
    {
     "name": "stdin",
     "output_type": "stream",
     "text": [
      "Enter the score of the candidate in first round 85\n"
     ]
    },
    {
     "name": "stdout",
     "output_type": "stream",
     "text": [
      "pass\n"
     ]
    },
    {
     "name": "stdin",
     "output_type": "stream",
     "text": [
      "Enter the score of the candidate in second round 95\n"
     ]
    },
    {
     "name": "stdout",
     "output_type": "stream",
     "text": [
      "pass\n"
     ]
    },
    {
     "name": "stdin",
     "output_type": "stream",
     "text": [
      "Enter the score of the candidate in third round 88\n"
     ]
    },
    {
     "name": "stdout",
     "output_type": "stream",
     "text": [
      "pass\n"
     ]
    }
   ],
   "source": [
    "score1 = int(input(\"Enter the score of the candidate in first round\"))\n",
    "status1 = \"fail\"\n",
    "if score1 > 80:\n",
    "    status1 = \"pass\"\n",
    "print(status1)\n",
    "if status1 == \"pass\":\n",
    "    score2 = int(input(\"Enter the score of the candidate in second round\"))\n",
    "    status2 = \"fail\"\n",
    "    if score2 > 70:\n",
    "        status2 = \"pass\"\n",
    "    print(status2)\n",
    "    if status2 == \"pass\":\n",
    "        score3 = int(input(\"Enter the score of the candidate in third round\"))\n",
    "    status3 = \"fail\"\n",
    "    if score3 > 60:\n",
    "        status3 = \"pass\"\n",
    "    print(status3)"
   ]
  },
  {
   "cell_type": "code",
   "execution_count": 14,
   "id": "a812a717-550f-4129-b792-a141cf3815fc",
   "metadata": {},
   "outputs": [
    {
     "name": "stdin",
     "output_type": "stream",
     "text": [
      "Enter the marks 85\n"
     ]
    },
    {
     "name": "stdout",
     "output_type": "stream",
     "text": [
      "Group 1\n"
     ]
    }
   ],
   "source": [
    "marks = int(input(\"Enter the marks\"))\n",
    "if marks >= 80:\n",
    "    print(\"Group 1\")\n",
    "elif marks >= 60:\n",
    "    print(\"Group 2\")\n",
    "else:\n",
    "    print(\"Group 3\")"
   ]
  },
  {
   "cell_type": "code",
   "execution_count": 15,
   "id": "169acb1a-ffb8-439d-b8c2-c8c74fba8814",
   "metadata": {},
   "outputs": [],
   "source": [
    "#win10toast"
   ]
  },
  {
   "cell_type": "code",
   "execution_count": 20,
   "id": "0ea8c121-63bf-44d3-a324-5fb93f68f43e",
   "metadata": {},
   "outputs": [
    {
     "name": "stdin",
     "output_type": "stream",
     "text": [
      "Enter the Username:  admin\n"
     ]
    },
    {
     "name": "stdout",
     "output_type": "stream",
     "text": [
      "Correct Username\n"
     ]
    },
    {
     "name": "stdin",
     "output_type": "stream",
     "text": [
      "Enter the Password:  12345\n"
     ]
    },
    {
     "name": "stdout",
     "output_type": "stream",
     "text": [
      "Correct Password\n",
      "Login Successful\n"
     ]
    }
   ],
   "source": [
    "username = input(\"Enter the Username: \")\n",
    "if username == \"admin\":\n",
    "    print(\"Correct Username\")\n",
    "    password = input(\"Enter the Password: \")\n",
    "    if password == \"12345\":\n",
    "        print(\"Correct Password\")\n",
    "        print(\"Login Successful\")\n",
    "    else:\n",
    "        print(\"Incorrect Password\") \n",
    "else:\n",
    "    print(\"Incorrect Username\")\n",
    "   "
   ]
  },
  {
   "cell_type": "code",
   "execution_count": 23,
   "id": "0ec3cdab-9456-4c63-9fff-d01b874e11ad",
   "metadata": {},
   "outputs": [
    {
     "name": "stdout",
     "output_type": "stream",
     "text": [
      "Price of the Phone: 40000\n",
      "Price after 5% discount:  38000.0\n",
      "Price after 10% discount:  36000.0\n",
      "Price after 15% discount:  34000.0\n"
     ]
    }
   ],
   "source": [
    "price = 40000\n",
    "print(\"Price of the Phone:\", price)\n",
    "price5 = price-(5/100)*price\n",
    "price10 = price-(10/100)*price\n",
    "price15 = price-(15/100)*price\n",
    "print(\"Price after 5% discount: \", price5)\n",
    "print(\"Price after 10% discount: \", price10)\n",
    "print(\"Price after 15% discount: \", price15)"
   ]
  },
  {
   "cell_type": "code",
   "execution_count": 28,
   "id": "7ac05fb0-88af-4b05-81cd-b242d349eca8",
   "metadata": {},
   "outputs": [
    {
     "name": "stdout",
     "output_type": "stream",
     "text": [
      "Price of the Phone: 40000\n",
      "Price after 5 % discount: 38000.0\n",
      "Price after 10 % discount: 36000.0\n",
      "Price after 15 % discount: 34000.0\n"
     ]
    }
   ],
   "source": [
    "price = 40000\n",
    "print(\"Price of the Phone:\", price)\n",
    "discounts = [5, 10, 15]\n",
    "for discount in discounts:\n",
    "    discounted_price = price - (discount / 100) * price\n",
    "    print(\"Price after\", discount,\"% discount:\", discounted_price)"
   ]
  },
  {
   "cell_type": "code",
   "execution_count": null,
   "id": "46802e81-6136-40bc-b916-bce6e1099e9e",
   "metadata": {},
   "outputs": [],
   "source": []
  }
 ],
 "metadata": {
  "kernelspec": {
   "display_name": "Python 3 (ipykernel)",
   "language": "python",
   "name": "python3"
  },
  "language_info": {
   "codemirror_mode": {
    "name": "ipython",
    "version": 3
   },
   "file_extension": ".py",
   "mimetype": "text/x-python",
   "name": "python",
   "nbconvert_exporter": "python",
   "pygments_lexer": "ipython3",
   "version": "3.12.6"
  }
 },
 "nbformat": 4,
 "nbformat_minor": 5
}
